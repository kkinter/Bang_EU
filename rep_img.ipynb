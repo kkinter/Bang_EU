{
 "cells": [
  {
   "cell_type": "code",
   "execution_count": 1,
   "id": "dfb6447c",
   "metadata": {},
   "outputs": [
    {
     "name": "stderr",
     "output_type": "stream",
     "text": [
      "\n",
      "\n",
      "====== WebDriver manager ======\n",
      "Current google-chrome version is 101.0.4951\n",
      "Get LATEST chromedriver version for 101.0.4951 google-chrome\n",
      "Driver [C:\\Users\\Wook\\.wdm\\drivers\\chromedriver\\win32\\101.0.4951.41\\chromedriver.exe] found in cache\n",
      "C:\\Users\\Wook\\AppData\\Local\\Temp/ipykernel_43596/1819947889.py:20: DeprecationWarning: executable_path has been deprecated, please pass in a Service object\n",
      "  driver = webdriver.Chrome(ChromeDriverManager().install(), options=options)\n",
      "C:\\Users\\Wook\\AppData\\Local\\Temp/ipykernel_43596/1819947889.py:23: DeprecationWarning: find_elements_by_css_selector is deprecated. Please use find_elements(by=By.CSS_SELECTOR, value=css_selector) instead\n",
      "  s = driver.find_elements_by_css_selector('._2Yq5J2HeBn > li')\n",
      "C:\\Users\\Wook\\AppData\\Local\\Temp/ipykernel_43596/1819947889.py:24: DeprecationWarning: find_element_by_css_selector is deprecated. Please use find_element(by=By.CSS_SELECTOR, value=css_selector) instead\n",
      "  z = driver.find_element_by_css_selector('._2P2SMyOjl6')\n",
      "C:\\Users\\Wook\\AppData\\Local\\Temp/ipykernel_43596/1819947889.py:31: DeprecationWarning: find_elements_by_css_selector is deprecated. Please use find_elements(by=By.CSS_SELECTOR, value=css_selector) instead\n",
      "  q = driver.find_elements_by_css_selector('._37ptkngDmo > img')\n"
     ]
    }
   ],
   "source": [
    "from selenium import webdriver\n",
    "from selenium.webdriver import ActionChains\n",
    "from selenium.webdriver.common.by import By\n",
    "from webdriver_manager.chrome import ChromeDriverManager\n",
    "from PIL import Image\n",
    "import time\n",
    "import os\n",
    "import urllib.request\n",
    "\n",
    "#옵션 headless\n",
    "options = webdriver.ChromeOptions()\n",
    "# options.headless = True\n",
    "\n",
    "List_1 = [6663749585\n",
    "]\n",
    "\n",
    "count = 1\n",
    "for i in List_1:\n",
    "    URL = 'https://smartstore.naver.com/europeinroom/products/' + str(i)\n",
    "    driver = webdriver.Chrome(ChromeDriverManager().install(), options=options) \n",
    "    driver.get(URL)\n",
    "\n",
    "    s = driver.find_elements_by_css_selector('._2Yq5J2HeBn > li')\n",
    "    z = driver.find_element_by_css_selector('._2P2SMyOjl6')\n",
    "\n",
    "    for m in range(len(s)):\n",
    "        webdriver.ActionChains(driver).move_to_element(s[m]).perform()\n",
    "        time.sleep(1) \n",
    "        webdriver.ActionChains(driver).move_to_element(z).perform()\n",
    "     \n",
    "    q = driver.find_elements_by_css_selector('._37ptkngDmo > img')\n",
    "\n",
    "    count1 = 1\n",
    "    for xx in q: \n",
    "        print(xx.get_attribute('src'))\n",
    "        urllib.request.urlretrieve(xx.get_attribute('src'),'{}_{}.png'.format(str(i),count1))\n",
    "        count1 +=1\n",
    "\n",
    "\n",
    " \n"
   ]
  },
  {
   "cell_type": "code",
   "execution_count": 5,
   "id": "1d68a028",
   "metadata": {},
   "outputs": [
    {
     "name": "stderr",
     "output_type": "stream",
     "text": [
      "\n",
      "\n",
      "====== WebDriver manager ======\n",
      "Current google-chrome version is 101.0.4951\n",
      "Get LATEST chromedriver version for 101.0.4951 google-chrome\n",
      "Driver [C:\\Users\\Wook\\.wdm\\drivers\\chromedriver\\win32\\101.0.4951.41\\chromedriver.exe] found in cache\n",
      "C:\\Users\\Wook\\AppData\\Local\\Temp/ipykernel_43596/3047894949.py:20: DeprecationWarning: executable_path has been deprecated, please pass in a Service object\n",
      "  driver = webdriver.Chrome(ChromeDriverManager().install(), options=options)\n",
      "C:\\Users\\Wook\\AppData\\Local\\Temp/ipykernel_43596/3047894949.py:23: DeprecationWarning: find_elements_by_css_selector is deprecated. Please use find_elements(by=By.CSS_SELECTOR, value=css_selector) instead\n",
      "  s = driver.find_elements_by_css_selector('._2Yq5J2HeBn > li')\n",
      "C:\\Users\\Wook\\AppData\\Local\\Temp/ipykernel_43596/3047894949.py:24: DeprecationWarning: find_element_by_css_selector is deprecated. Please use find_element(by=By.CSS_SELECTOR, value=css_selector) instead\n",
      "  z = driver.find_element_by_css_selector('._2P2SMyOjl6')\n",
      "C:\\Users\\Wook\\AppData\\Local\\Temp/ipykernel_43596/3047894949.py:31: DeprecationWarning: find_elements_by_css_selector is deprecated. Please use find_elements(by=By.CSS_SELECTOR, value=css_selector) instead\n",
      "  q = driver.find_elements_by_css_selector('li._3TvRO_uxKp:nth-child(1) > img')\n"
     ]
    }
   ],
   "source": [
    "from selenium import webdriver\n",
    "from selenium.webdriver import ActionChains\n",
    "from selenium.webdriver.common.by import By\n",
    "from webdriver_manager.chrome import ChromeDriverManager\n",
    "from PIL import Image\n",
    "import time\n",
    "import os\n",
    "import urllib.request\n",
    "\n",
    "#옵션 headless\n",
    "options = webdriver.ChromeOptions()\n",
    "# options.headless = True\n",
    "\n",
    "List_1 = [6663749585\n",
    "]\n",
    "\n",
    "count = 1\n",
    "for i in List_1:\n",
    "    URL = 'https://smartstore.naver.com/europeinroom/products/' + str(i)\n",
    "    driver = webdriver.Chrome(ChromeDriverManager().install(), options=options) \n",
    "    driver.get(URL)\n",
    "\n",
    "    s = driver.find_elements_by_css_selector('._2Yq5J2HeBn > li')\n",
    "    z = driver.find_element_by_css_selector('._2P2SMyOjl6')\n",
    "\n",
    "    for m in range(len(s)):\n",
    "        webdriver.ActionChains(driver).move_to_element(s[m]).perform()\n",
    "        time.sleep(1) \n",
    "        webdriver.ActionChains(driver).move_to_element(z).perform()\n",
    "     \n",
    "        q = driver.find_elements_by_css_selector('li._3TvRO_uxKp:nth-child(1) > img')\n",
    "        for xxx in q:\n",
    "            print(xxx.get_attribute('src'))\n",
    "    \n",
    "    for xx in q: \n",
    "        print(xx.get_attribute('src'))\n",
    "        urllib.request.urlretrieve(xx.get_attribute('src'),'{}_{}.png'.format(str(i),count1))\n",
    "        count1 +=1\n",
    "\n",
    "\n",
    " \n"
   ]
  },
  {
   "cell_type": "code",
   "execution_count": 1,
   "id": "befd9d26",
   "metadata": {},
   "outputs": [
    {
     "name": "stderr",
     "output_type": "stream",
     "text": [
      "\n",
      "\n",
      "====== WebDriver manager ======\n",
      "Current google-chrome version is 102.0.5005\n",
      "Get LATEST chromedriver version for 102.0.5005 google-chrome\n",
      "Driver [C:\\Users\\Wook\\.wdm\\drivers\\chromedriver\\win32\\102.0.5005.61\\chromedriver.exe] found in cache\n",
      "C:\\Users\\Wook\\AppData\\Local\\Temp/ipykernel_17512/2833114407.py:23: DeprecationWarning: executable_path has been deprecated, please pass in a Service object\n",
      "  driver = webdriver.Chrome(ChromeDriverManager().install(), options=options)\n",
      "C:\\Users\\Wook\\AppData\\Local\\Temp/ipykernel_17512/2833114407.py:26: DeprecationWarning: find_elements_by_css_selector is deprecated. Please use find_elements(by=By.CSS_SELECTOR, value=css_selector) instead\n",
      "  s = driver.find_elements_by_css_selector('._2Yq5J2HeBn > li')\n",
      "C:\\Users\\Wook\\AppData\\Local\\Temp/ipykernel_17512/2833114407.py:27: DeprecationWarning: find_element_by_css_selector is deprecated. Please use find_element(by=By.CSS_SELECTOR, value=css_selector) instead\n",
      "  z = driver.find_element_by_css_selector('._2P2SMyOjl6')\n",
      "C:\\Users\\Wook\\AppData\\Local\\Temp/ipykernel_17512/2833114407.py:32: DeprecationWarning: find_elements_by_css_selector is deprecated. Please use find_elements(by=By.CSS_SELECTOR, value=css_selector) instead\n",
      "  q = driver.find_elements_by_css_selector('._2P2SMyOjl6')\n"
     ]
    },
    {
     "name": "stdout",
     "output_type": "stream",
     "text": [
      "https://shop-phinf.pstatic.net/20220525_73/1653480570103vb9Us_PNG/54616458771835605_2113366427.png?type=m510\n",
      "https://shop-phinf.pstatic.net/20220525_73/1653480570103vb9Us_PNG/54616458771835605_2113366427.png?type=o1000\n",
      "2\n",
      "https://shop-phinf.pstatic.net/20220525_73/1653480570103vb9Us_PNG/54616458771835605_2113366427.png?type=m510\n",
      "https://shop-phinf.pstatic.net/20220525_73/1653480570103vb9Us_PNG/54616458771835605_2113366427.png?type=o1000\n",
      "3\n",
      "https://shop-phinf.pstatic.net/20220525_78/1653480570324wbmSg_PNG/54616458973835565_1907479038.png?type=m510\n",
      "https://shop-phinf.pstatic.net/20220525_78/1653480570324wbmSg_PNG/54616458973835565_1907479038.png?type=o1000\n",
      "4\n",
      "https://shop-phinf.pstatic.net/20220525_41/1653480570592Ksfa6_PNG/54616459247061461_1853827259.png?type=m510\n",
      "https://shop-phinf.pstatic.net/20220525_41/1653480570592Ksfa6_PNG/54616459247061461_1853827259.png?type=o1000\n",
      "5\n",
      "https://shop-phinf.pstatic.net/20220525_114/1653480570922RpdNm_PNG/54616459582586733_1959324754.png?type=m510\n",
      "https://shop-phinf.pstatic.net/20220525_114/1653480570922RpdNm_PNG/54616459582586733_1959324754.png?type=o1000\n",
      "6\n",
      "https://shop-phinf.pstatic.net/20220525_146/1653481112284R4wi6_PNG/54616957986072235_1255494085.png?type=m510\n",
      "https://shop-phinf.pstatic.net/20220525_146/1653481112284R4wi6_PNG/54616957986072235_1255494085.png?type=o1000\n",
      "7\n",
      "https://shop-phinf.pstatic.net/20220525_192/1653481112411TLb0Y_PNG/54616958112376155_670812241.png?type=m510\n",
      "https://shop-phinf.pstatic.net/20220525_192/1653481112411TLb0Y_PNG/54616958112376155_670812241.png?type=o1000\n",
      "8\n",
      "https://shop-phinf.pstatic.net/20220525_282/1653481112539mzS3k_PNG/54616958246290123_659942902.png?type=m510\n",
      "https://shop-phinf.pstatic.net/20220525_282/1653481112539mzS3k_PNG/54616958246290123_659942902.png?type=o1000\n",
      "9\n",
      "https://shop-phinf.pstatic.net/20220525_49/1653481112676fpxjM_PNG/54616958330710226_58833911.png?type=m510\n",
      "https://shop-phinf.pstatic.net/20220525_49/1653481112676fpxjM_PNG/54616958330710226_58833911.png?type=o1000\n"
     ]
    },
    {
     "name": "stderr",
     "output_type": "stream",
     "text": [
      "\n",
      "\n",
      "====== WebDriver manager ======\n"
     ]
    },
    {
     "name": "stdout",
     "output_type": "stream",
     "text": [
      "10\n"
     ]
    },
    {
     "name": "stderr",
     "output_type": "stream",
     "text": [
      "Current google-chrome version is 102.0.5005\n",
      "Get LATEST chromedriver version for 102.0.5005 google-chrome\n",
      "Driver [C:\\Users\\Wook\\.wdm\\drivers\\chromedriver\\win32\\102.0.5005.61\\chromedriver.exe] found in cache\n"
     ]
    },
    {
     "name": "stdout",
     "output_type": "stream",
     "text": [
      "https://shop-phinf.pstatic.net/20220525_106/1653480589519IAKdU_PNG/54616478202766220_792113698.png?type=m510\n",
      "https://shop-phinf.pstatic.net/20220525_106/1653480589519IAKdU_PNG/54616478202766220_792113698.png?type=o1000\n",
      "2\n",
      "https://shop-phinf.pstatic.net/20220525_106/1653480589519IAKdU_PNG/54616478202766220_792113698.png?type=m510\n",
      "https://shop-phinf.pstatic.net/20220525_106/1653480589519IAKdU_PNG/54616478202766220_792113698.png?type=o1000\n",
      "3\n",
      "https://shop-phinf.pstatic.net/20220525_201/1653480589726tVQ68_PNG/54616478372579215_1454420268.png?type=m510\n",
      "https://shop-phinf.pstatic.net/20220525_201/1653480589726tVQ68_PNG/54616478372579215_1454420268.png?type=o1000\n",
      "4\n",
      "https://shop-phinf.pstatic.net/20220525_233/1653480590044iRgFN_PNG/54616478654960394_1870080482.png?type=m510\n",
      "https://shop-phinf.pstatic.net/20220525_233/1653480590044iRgFN_PNG/54616478654960394_1870080482.png?type=o1000\n",
      "5\n",
      "https://shop-phinf.pstatic.net/20220525_87/1653480590546dFW4H_PNG/54616478997121556_39399397.png?type=m510\n",
      "https://shop-phinf.pstatic.net/20220525_87/1653480590546dFW4H_PNG/54616478997121556_39399397.png?type=o1000\n",
      "6\n",
      "https://shop-phinf.pstatic.net/20220525_281/1653481303459oDWfs_PNG/54617148852034089_2039381868.png?type=m510\n",
      "https://shop-phinf.pstatic.net/20220525_281/1653481303459oDWfs_PNG/54617148852034089_2039381868.png?type=o1000\n",
      "7\n",
      "https://shop-phinf.pstatic.net/20220525_100/1653481304012kxRwd_PNG/54617149366065895_2006998626.png?type=m510\n",
      "https://shop-phinf.pstatic.net/20220525_100/1653481304012kxRwd_PNG/54617149366065895_2006998626.png?type=o1000\n",
      "8\n",
      "https://shop-phinf.pstatic.net/20220525_288/1653481304568CvW7C_PNG/54617149965361139_379026605.png?type=m510\n",
      "https://shop-phinf.pstatic.net/20220525_288/1653481304568CvW7C_PNG/54617149965361139_379026605.png?type=o1000\n",
      "9\n",
      "https://shop-phinf.pstatic.net/20220525_16/1653481304800Nk2WD_PNG/54617150489388021_1774137391.png?type=m510\n",
      "https://shop-phinf.pstatic.net/20220525_16/1653481304800Nk2WD_PNG/54617150489388021_1774137391.png?type=o1000\n",
      "10\n",
      "https://shop-phinf.pstatic.net/20220525_202/1653481304963RzqNW_PNG/54617150650151285_2125006391.png?type=m510\n",
      "https://shop-phinf.pstatic.net/20220525_202/1653481304963RzqNW_PNG/54617150650151285_2125006391.png?type=o1000\n"
     ]
    },
    {
     "name": "stderr",
     "output_type": "stream",
     "text": [
      "\n",
      "\n",
      "====== WebDriver manager ======\n"
     ]
    },
    {
     "name": "stdout",
     "output_type": "stream",
     "text": [
      "11\n"
     ]
    },
    {
     "name": "stderr",
     "output_type": "stream",
     "text": [
      "Current google-chrome version is 102.0.5005\n",
      "Get LATEST chromedriver version for 102.0.5005 google-chrome\n",
      "Driver [C:\\Users\\Wook\\.wdm\\drivers\\chromedriver\\win32\\102.0.5005.61\\chromedriver.exe] found in cache\n"
     ]
    },
    {
     "name": "stdout",
     "output_type": "stream",
     "text": [
      "https://shop-phinf.pstatic.net/20220525_292/1653484447012NzFxu_PNG/54620335706931608_760620208.png?type=m510\n",
      "https://shop-phinf.pstatic.net/20220525_292/1653484447012NzFxu_PNG/54620335706931608_760620208.png?type=o1000\n",
      "2\n",
      "https://shop-phinf.pstatic.net/20220525_292/1653484447012NzFxu_PNG/54620335706931608_760620208.png?type=m510\n",
      "https://shop-phinf.pstatic.net/20220525_292/1653484447012NzFxu_PNG/54620335706931608_760620208.png?type=o1000\n",
      "3\n",
      "https://shop-phinf.pstatic.net/20220525_13/1653484447129ahTQg_PNG/54620335818429676_428809254.png?type=m510\n",
      "https://shop-phinf.pstatic.net/20220525_13/1653484447129ahTQg_PNG/54620335818429676_428809254.png?type=o1000\n",
      "4\n",
      "https://shop-phinf.pstatic.net/20220525_82/1653484447303hsfsa_PNG/54620335996682383_1629108310.png?type=m510\n",
      "https://shop-phinf.pstatic.net/20220525_82/1653484447303hsfsa_PNG/54620335996682383_1629108310.png?type=o1000\n",
      "5\n",
      "https://shop-phinf.pstatic.net/20220525_36/1653484447429k3jm1_PNG/54620336117224173_1510050202.png?type=m510\n",
      "https://shop-phinf.pstatic.net/20220525_36/1653484447429k3jm1_PNG/54620336117224173_1510050202.png?type=o1000\n",
      "6\n",
      "https://shop-phinf.pstatic.net/20220525_110/1653484945704LCaHK_PNG/54620841428342695_646584591.png?type=m510\n",
      "https://shop-phinf.pstatic.net/20220525_110/1653484945704LCaHK_PNG/54620841428342695_646584591.png?type=o1000\n",
      "7\n",
      "https://shop-phinf.pstatic.net/20220525_141/1653484945863Tarrw_PNG/54620841584680395_396447977.png?type=m510\n",
      "https://shop-phinf.pstatic.net/20220525_141/1653484945863Tarrw_PNG/54620841584680395_396447977.png?type=o1000\n",
      "8\n",
      "https://shop-phinf.pstatic.net/20220525_132/1653484945957NzLib_PNG/54620841681219678_1854953689.png?type=m510\n",
      "https://shop-phinf.pstatic.net/20220525_132/1653484945957NzLib_PNG/54620841681219678_1854953689.png?type=o1000\n",
      "9\n",
      "https://shop-phinf.pstatic.net/20220525_272/16534849460399XG2B_PNG/54620841762038558_429650607.png?type=m510\n",
      "https://shop-phinf.pstatic.net/20220525_272/16534849460399XG2B_PNG/54620841762038558_429650607.png?type=o1000\n",
      "10\n",
      "https://shop-phinf.pstatic.net/20220525_109/1653484946130EJvqN_PNG/54620841855406634_1207093802.png?type=m510\n",
      "https://shop-phinf.pstatic.net/20220525_109/1653484946130EJvqN_PNG/54620841855406634_1207093802.png?type=o1000\n",
      "11\n"
     ]
    }
   ],
   "source": [
    "from selenium import webdriver\n",
    "from selenium.webdriver import ActionChains\n",
    "from selenium.webdriver.common.by import By\n",
    "from webdriver_manager.chrome import ChromeDriverManager\n",
    "from PIL import Image\n",
    "import time\n",
    "import os\n",
    "import urllib.request\n",
    "\n",
    "#옵션 headless\n",
    "options = webdriver.ChromeOptions()\n",
    "options.headless = True\n",
    "\n",
    "List_1 = [\n",
    "6717312269,\n",
    "6717318705,\n",
    "6717511052\n",
    "]\n",
    "\n",
    "count = 1\n",
    "for i in List_1:\n",
    "    URL = 'https://smartstore.naver.com/europeinroom/products/' + str(i)\n",
    "    driver = webdriver.Chrome(ChromeDriverManager().install(), options=options) \n",
    "    driver.get(URL)\n",
    "\n",
    "    s = driver.find_elements_by_css_selector('._2Yq5J2HeBn > li')\n",
    "    z = driver.find_element_by_css_selector('._2P2SMyOjl6')\n",
    "    count=1\n",
    "    for m in range(len(s)):\n",
    "        webdriver.ActionChains(driver).move_to_element(s[m]).perform()\n",
    "        time.sleep(0.05) \n",
    "        q = driver.find_elements_by_css_selector('._2P2SMyOjl6')\n",
    "    \n",
    "        for xx in q:\n",
    "            print(xx.get_attribute('src'))\n",
    "            qq = xx.get_attribute('src')\n",
    "            pp =qq.strip(\"m510\") + \"o1000\"\n",
    "            print(pp)\n",
    "            urllib.request.urlretrieve( pp ,'{}_{}.png'.format(str(i),count))\n",
    "            count +=1\n",
    "            print(count)\n",
    "    \n",
    "    "
   ]
  },
  {
   "cell_type": "code",
   "execution_count": 19,
   "id": "5fc8b2ef",
   "metadata": {},
   "outputs": [
    {
     "name": "stderr",
     "output_type": "stream",
     "text": [
      "\n",
      "\n",
      "====== WebDriver manager ======\n",
      "Current google-chrome version is 101.0.4951\n",
      "Get LATEST chromedriver version for 101.0.4951 google-chrome\n",
      "Driver [C:\\Users\\Wook\\.wdm\\drivers\\chromedriver\\win32\\101.0.4951.41\\chromedriver.exe] found in cache\n",
      "C:\\Users\\Wook\\AppData\\Local\\Temp/ipykernel_43596/2674248261.py:22: DeprecationWarning: executable_path has been deprecated, please pass in a Service object\n",
      "  driver = webdriver.Chrome(ChromeDriverManager().install(), options=options)\n",
      "C:\\Users\\Wook\\AppData\\Local\\Temp/ipykernel_43596/2674248261.py:25: DeprecationWarning: find_elements_by_css_selector is deprecated. Please use find_elements(by=By.CSS_SELECTOR, value=css_selector) instead\n",
      "  s = driver.find_elements_by_css_selector('._2Yq5J2HeBn > li')\n",
      "C:\\Users\\Wook\\AppData\\Local\\Temp/ipykernel_43596/2674248261.py:26: DeprecationWarning: find_element_by_css_selector is deprecated. Please use find_element(by=By.CSS_SELECTOR, value=css_selector) instead\n",
      "  z = driver.find_element_by_css_selector('._2P2SMyOjl6')\n",
      "C:\\Users\\Wook\\AppData\\Local\\Temp/ipykernel_43596/2674248261.py:31: DeprecationWarning: find_elements_by_css_selector is deprecated. Please use find_elements(by=By.CSS_SELECTOR, value=css_selector) instead\n",
      "  q = driver.find_elements_by_css_selector('._2P2SMyOjl6')\n"
     ]
    },
    {
     "ename": "AttributeError",
     "evalue": "'list' object has no attribute 'get_attribute'",
     "output_type": "error",
     "traceback": [
      "\u001b[1;31m---------------------------------------------------------------------------\u001b[0m",
      "\u001b[1;31mAttributeError\u001b[0m                            Traceback (most recent call last)",
      "\u001b[1;32m~\\AppData\\Local\\Temp/ipykernel_43596/2674248261.py\u001b[0m in \u001b[0;36m<module>\u001b[1;34m\u001b[0m\n\u001b[0;32m     30\u001b[0m         \u001b[0mtime\u001b[0m\u001b[1;33m.\u001b[0m\u001b[0msleep\u001b[0m\u001b[1;33m(\u001b[0m\u001b[1;36m0.05\u001b[0m\u001b[1;33m)\u001b[0m\u001b[1;33m\u001b[0m\u001b[1;33m\u001b[0m\u001b[0m\n\u001b[0;32m     31\u001b[0m         \u001b[0mq\u001b[0m \u001b[1;33m=\u001b[0m \u001b[0mdriver\u001b[0m\u001b[1;33m.\u001b[0m\u001b[0mfind_elements_by_css_selector\u001b[0m\u001b[1;33m(\u001b[0m\u001b[1;34m'._2P2SMyOjl6'\u001b[0m\u001b[1;33m)\u001b[0m\u001b[1;33m\u001b[0m\u001b[1;33m\u001b[0m\u001b[0m\n\u001b[1;32m---> 32\u001b[1;33m         \u001b[0mprint\u001b[0m\u001b[1;33m(\u001b[0m\u001b[0mq\u001b[0m\u001b[1;33m.\u001b[0m\u001b[0mget_attribute\u001b[0m\u001b[1;33m(\u001b[0m\u001b[1;34m'src'\u001b[0m\u001b[1;33m)\u001b[0m\u001b[1;33m)\u001b[0m\u001b[1;33m\u001b[0m\u001b[1;33m\u001b[0m\u001b[0m\n\u001b[0m\u001b[0;32m     33\u001b[0m         \u001b[0murllib\u001b[0m\u001b[1;33m.\u001b[0m\u001b[0mrequest\u001b[0m\u001b[1;33m.\u001b[0m\u001b[0murlretrieve\u001b[0m\u001b[1;33m(\u001b[0m\u001b[0mq\u001b[0m\u001b[1;33m.\u001b[0m\u001b[0mget_attribute\u001b[0m\u001b[1;33m(\u001b[0m\u001b[1;34m'src'\u001b[0m\u001b[1;33m)\u001b[0m\u001b[1;33m,\u001b[0m\u001b[1;34m'{}_{}.png'\u001b[0m\u001b[1;33m.\u001b[0m\u001b[0mformat\u001b[0m\u001b[1;33m(\u001b[0m\u001b[0mstr\u001b[0m\u001b[1;33m(\u001b[0m\u001b[0mi\u001b[0m\u001b[1;33m)\u001b[0m\u001b[1;33m,\u001b[0m\u001b[0mcount1\u001b[0m\u001b[1;33m)\u001b[0m\u001b[1;33m)\u001b[0m\u001b[1;33m\u001b[0m\u001b[1;33m\u001b[0m\u001b[0m\n\u001b[0;32m     34\u001b[0m         \u001b[0mcount1\u001b[0m \u001b[1;33m+=\u001b[0m\u001b[1;36m1\u001b[0m\u001b[1;33m\u001b[0m\u001b[1;33m\u001b[0m\u001b[0m\n",
      "\u001b[1;31mAttributeError\u001b[0m: 'list' object has no attribute 'get_attribute'"
     ]
    }
   ],
   "source": [
    "from selenium import webdriver\n",
    "from selenium.webdriver import ActionChains\n",
    "from selenium.webdriver.common.by import By\n",
    "from webdriver_manager.chrome import ChromeDriverManager\n",
    "from PIL import Image\n",
    "import time\n",
    "import os\n",
    "import urllib.request\n",
    "\n",
    "#옵션 headless\n",
    "options = webdriver.ChromeOptions()\n",
    "options.headless = True\n",
    "\n",
    "List_1 = [\n",
    "6663749585,\n",
    "6663779772\n",
    "]\n",
    "\n",
    "count = 1\n",
    "for i in List_1:\n",
    "    URL = 'https://smartstore.naver.com/europeinroom/products/' + str(i)\n",
    "    driver = webdriver.Chrome(ChromeDriverManager().install(), options=options) \n",
    "    driver.get(URL)\n",
    "\n",
    "    s = driver.find_elements_by_css_selector('._2Yq5J2HeBn > li')\n",
    "    z = driver.find_element_by_css_selector('._2P2SMyOjl6')\n",
    "    count = 1 \n",
    "    for m in range(len(s)):\n",
    "        webdriver.ActionChains(driver).move_to_element(s[m]).perform()\n",
    "        time.sleep(0.05) \n",
    "        q = driver.find_elements_by_css_selector('._2P2SMyOjl6')\n",
    "        print(q.get_attribute('src'))\n",
    "        urllib.request.urlretrieve(q.get_attribute('src'),'{}_{}.png'.format(str(i),count1))\n",
    "        count1 +=1\n",
    "        \n",
    "    "
   ]
  },
  {
   "cell_type": "code",
   "execution_count": null,
   "id": "67ec45da",
   "metadata": {},
   "outputs": [],
   "source": []
  }
 ],
 "metadata": {
  "kernelspec": {
   "display_name": "Python 3 (ipykernel)",
   "language": "python",
   "name": "python3"
  },
  "language_info": {
   "codemirror_mode": {
    "name": "ipython",
    "version": 3
   },
   "file_extension": ".py",
   "mimetype": "text/x-python",
   "name": "python",
   "nbconvert_exporter": "python",
   "pygments_lexer": "ipython3",
   "version": "3.9.7"
  }
 },
 "nbformat": 4,
 "nbformat_minor": 5
}
