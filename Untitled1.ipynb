{
 "cells": [
  {
   "cell_type": "code",
   "execution_count": 1,
   "id": "6c203e5a",
   "metadata": {},
   "outputs": [
    {
     "name": "stderr",
     "output_type": "stream",
     "text": [
      "\n",
      "\n",
      "====== WebDriver manager ======\n",
      "Current google-chrome version is 99.0.4844\n",
      "Get LATEST chromedriver version for 99.0.4844 google-chrome\n",
      "Driver [C:\\Users\\Wook\\.wdm\\drivers\\chromedriver\\win32\\99.0.4844.51\\chromedriver.exe] found in cache\n",
      "C:\\Users\\Wook\\AppData\\Local\\Temp/ipykernel_18464/3861261337.py:20: DeprecationWarning: executable_path has been deprecated, please pass in a Service object\n",
      "  driver = webdriver.Chrome(ChromeDriverManager().install(), options=options)\n",
      "C:\\Users\\Wook\\AppData\\Local\\Temp/ipykernel_18464/3861261337.py:27: DeprecationWarning: find_element_by_css_selector is deprecated. Please use find_element(by=By.CSS_SELECTOR, value=css_selector) instead\n",
      "  driver.find_element_by_css_selector('._9F9CWn02VE > div:nth-child(1) > div:nth-child(1) > div:nth-child(1) > div:nth-child(1)').screenshot('origin '+str(i)+'.png')\n"
     ]
    },
    {
     "name": "stdout",
     "output_type": "stream",
     "text": [
      "1 / 1\n"
     ]
    }
   ],
   "source": [
    "from selenium import webdriver\n",
    "from selenium.webdriver import ActionChains\n",
    "from selenium.webdriver.common.by import By\n",
    "from webdriver_manager.chrome import ChromeDriverManager\n",
    "from PIL import Image\n",
    "import time\n",
    "\n",
    "#옵션 headless\n",
    "options = webdriver.ChromeOptions()\n",
    "options.headless = True\n",
    "\n",
    "List_1 = [6308615082\n",
    "]\n",
    "\n",
    "\n",
    "# driver = webdriver.Chrome(ChromeDriverManager().install()) \n",
    "count = 1\n",
    "for i in List_1:\n",
    "    URL = 'https://smartstore.naver.com/europeinroom/products/'+str(i)\n",
    "    driver = webdriver.Chrome(ChromeDriverManager().install(), options=options) \n",
    "    driver.get(URL)\n",
    "\n",
    "    S = lambda X: driver.execute_script('return document.body.parentNode.scroll'+ X ) # 스크롤 하고 스크롤 크기 가져오는 ?\n",
    "    time.sleep(1)\n",
    "    driver.set_window_size(S(\"Width\"),S('Height')+5000) # May need manual adjustment\n",
    "    time.sleep(3)    \n",
    "    driver.find_element_by_css_selector('._9F9CWn02VE > div:nth-child(1) > div:nth-child(1) > div:nth-child(1) > div:nth-child(1)').screenshot('origin '+str(i)+'.png')\n",
    "    time.sleep(1)\n",
    "    image1 = Image.open('origin '+str(i)+'.png')\n",
    "    y = image1.size[1]\n",
    "    crop_img = image1.crop((0,0,1020,7200))\n",
    "    crop_img.save(str(i)+'.png')\n",
    "    print('{} / {}'.format(count,len(List_1)))\n",
    "    count += 1\n",
    "    driver.quit()\n",
    "    time.sleep(1)"
   ]
  },
  {
   "cell_type": "code",
   "execution_count": null,
   "id": "c1239fae",
   "metadata": {},
   "outputs": [
    {
     "name": "stderr",
     "output_type": "stream",
     "text": [
      "\n",
      "\n",
      "====== WebDriver manager ======\n",
      "Current google-chrome version is 99.0.4844\n",
      "Get LATEST chromedriver version for 99.0.4844 google-chrome\n",
      "Trying to download new driver from https://chromedriver.storage.googleapis.com/99.0.4844.51/chromedriver_win32.zip\n",
      "Driver has been saved in cache [C:\\Users\\Wook\\.wdm\\drivers\\chromedriver\\win32\\99.0.4844.51]\n",
      "C:\\Users\\Wook\\AppData\\Local\\Temp/ipykernel_40116/154231069.py:24: DeprecationWarning: executable_path has been deprecated, please pass in a Service object\n",
      "  driver = webdriver.Chrome(ChromeDriverManager().install(), options=options)\n",
      "C:\\Users\\Wook\\AppData\\Local\\Temp/ipykernel_40116/154231069.py:31: DeprecationWarning: find_element_by_css_selector is deprecated. Please use find_element(by=By.CSS_SELECTOR, value=css_selector) instead\n",
      "  driver.find_element_by_css_selector('._9F9CWn02VE > div:nth-child(1) > div:nth-child(1) > div:nth-child(1) > div:nth-child(1)').screenshot('1'+'.png')\n"
     ]
    }
   ],
   "source": [
    "from selenium import webdriver\n",
    "from selenium.webdriver import ActionChains\n",
    "from selenium.webdriver.common.by import By\n",
    "from webdriver_manager.chrome import ChromeDriverManager\n",
    "import time\n",
    "\n",
    "#옵션 headless\n",
    "options = webdriver.ChromeOptions()\n",
    "options.headless = True\n",
    "\n",
    "List_1 = [6338174835\n",
    "]\n",
    "\n",
    "\n",
    "# driver = webdriver.Chrome(ChromeDriverManager().install()) \n",
    "\n",
    "\n",
    "\n",
    "\n",
    "URL = 'https://smartstore.naver.com/europeinroom/products/'+str(6308615082)\n",
    "driver = webdriver.Chrome(ChromeDriverManager().install(), options=options) \n",
    "driver.get(URL)\n",
    "\n",
    "S = lambda X: driver.execute_script('return document.body.parentNode.scroll'+X) # 스크롤 하고 스크롤 크기 가져오는 ?\n",
    "time.sleep(8)\n",
    "driver.set_window_size(S(\"Width\"),S('Height')) # May need manual adjustment\n",
    "time.sleep(5)    \n",
    "driver.find_element_by_css_selector('._9F9CWn02VE > div:nth-child(1) > div:nth-child(1) > div:nth-child(1) > div:nth-child(1)').screenshot('1'+'.png')\n",
    "\n",
    "driver.quit()"
   ]
  },
  {
   "cell_type": "code",
   "execution_count": null,
   "id": "81e348ea",
   "metadata": {},
   "outputs": [],
   "source": []
  }
 ],
 "metadata": {
  "kernelspec": {
   "display_name": "Python 3 (ipykernel)",
   "language": "python",
   "name": "python3"
  },
  "language_info": {
   "codemirror_mode": {
    "name": "ipython",
    "version": 3
   },
   "file_extension": ".py",
   "mimetype": "text/x-python",
   "name": "python",
   "nbconvert_exporter": "python",
   "pygments_lexer": "ipython3",
   "version": "3.9.7"
  }
 },
 "nbformat": 4,
 "nbformat_minor": 5
}
