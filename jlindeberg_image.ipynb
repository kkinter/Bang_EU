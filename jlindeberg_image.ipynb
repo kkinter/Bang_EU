{
 "cells": [
  {
   "cell_type": "code",
   "execution_count": 6,
   "id": "cc24f037",
   "metadata": {},
   "outputs": [
    {
     "name": "stderr",
     "output_type": "stream",
     "text": [
      "\n",
      "\n",
      "====== WebDriver manager ======\n",
      "Current google-chrome version is 99.0.4844\n",
      "Get LATEST chromedriver version for 99.0.4844 google-chrome\n",
      "Driver [C:\\Users\\Wook\\.wdm\\drivers\\chromedriver\\win32\\99.0.4844.51\\chromedriver.exe] found in cache\n",
      "C:\\Users\\Wook\\AppData\\Local\\Temp/ipykernel_1396/3393338028.py:20: DeprecationWarning: executable_path has been deprecated, please pass in a Service object\n",
      "  driver = webdriver.Chrome(ChromeDriverManager().install(), options=options)\n",
      "C:\\Users\\Wook\\AppData\\Local\\Temp/ipykernel_1396/3393338028.py:23: DeprecationWarning: find_element_by_css_selector is deprecated. Please use find_element(by=By.CSS_SELECTOR, value=css_selector) instead\n",
      "  pro_name = driver.find_element_by_css_selector('.product-set-details-container > h1')\n",
      "C:\\Users\\Wook\\AppData\\Local\\Temp/ipykernel_1396/3393338028.py:24: DeprecationWarning: find_element_by_css_selector is deprecated. Please use find_element(by=By.CSS_SELECTOR, value=css_selector) instead\n",
      "  pro_color = driver.find_element_by_css_selector('.product-variations > p')\n",
      "C:\\Users\\Wook\\AppData\\Local\\Temp/ipykernel_1396/3393338028.py:25: DeprecationWarning: find_elements_by_css_selector is deprecated. Please use find_elements(by=By.CSS_SELECTOR, value=css_selector) instead\n",
      "  pro_image = driver.find_elements_by_css_selector('li.product-images__main__image > img')\n"
     ]
    },
    {
     "name": "stdout",
     "output_type": "stream",
     "text": [
      "ASH LIGHT PACKABLE JACKET\n",
      "Black / Black\n",
      "https://www.jlindeberg.com/dw/image/v2/ABBT_PRD/on/demandware.static/-/Sites-pim-catalog/default/dw853d4006/pim-static/large/50054080_Black_009999_001_ProductLarge.jpg\n",
      "https://www.jlindeberg.com/dw/image/v2/ABBT_PRD/on/demandware.static/-/Sites-pim-catalog/default/dwb84d2ef4/pim-static/large/50054080_Black_009999_003_ProductLarge.jpg\n",
      "https://www.jlindeberg.com/dw/image/v2/ABBT_PRD/on/demandware.static/-/Sites-pim-catalog/default/dw844f2074/pim-static/large/50054080_Black_009999_004_ProductLarge.jpg\n",
      "https://www.jlindeberg.com/dw/image/v2/ABBT_PRD/on/demandware.static/-/Sites-pim-catalog/default/dw35ea3e91/pim-static/large/50054080_Black_009999_005_ProductLarge.jpg\n",
      "https://www.jlindeberg.com/dw/image/v2/ABBT_PRD/on/demandware.static/-/Sites-pim-catalog/default/dw62f9437d/pim-static/large/50054080_Black_009999_006_ProductLarge.jpg\n"
     ]
    }
   ],
   "source": [
    "from selenium import webdriver\n",
    "from selenium.webdriver import ActionChains\n",
    "from selenium.webdriver.common.by import By\n",
    "from webdriver_manager.chrome import ChromeDriverManager\n",
    "from PIL import Image\n",
    "import time\n",
    "import os\n",
    "import urllib.request\n",
    "from bs4 import BeautifulSoup\n",
    "from rembg.bg import remove\n",
    "\n",
    "urls =[\n",
    "\"https://www.jlindeberg.com/de/en/jl/men/golf/outerwear/ash-light-packable-jacket-50054080.html?cgid=jl-men-golf-jackets&dwvar_colorPattern=50054080_Black_009999\"\n",
    "]\n",
    "\n",
    "options = webdriver.ChromeOptions()\n",
    "options.headless = True\n",
    "count_ = 1\n",
    "for url in urls:\n",
    "    driver = webdriver.Chrome(ChromeDriverManager().install(), options=options)\n",
    "    driver.get(url)\n",
    "    #요소 찾기 +'_?glCountry=US&glCurrency=USD'\n",
    "    pro_name = driver.find_element_by_css_selector('.product-set-details-container > h1')\n",
    "    pro_color = driver.find_element_by_css_selector('.product-variations > p') \n",
    "    pro_image = driver.find_elements_by_css_selector('li.product-images__main__image > img')\n",
    "    print(pro_name.text)\n",
    "    print(pro_color.text)\n",
    "    for i in pro_image:\n",
    "        print(i.get_attribute('srcset').split(',')[0].split('.jpg')[0]+'.jpg')\n",
    "    #     print(pro_image.get_attribute('srcset'))\n",
    "#     print(pro_image.get_attribute('srcset').split(',')[0].split('.jpg')[0]+'.jpg')\n",
    "    driver.quit()\n",
    "\n",
    "\n"
   ]
  },
  {
   "cell_type": "code",
   "execution_count": null,
   "id": "c26f60a5",
   "metadata": {},
   "outputs": [],
   "source": []
  },
  {
   "cell_type": "code",
   "execution_count": 7,
   "id": "6aa1bc81",
   "metadata": {},
   "outputs": [
    {
     "name": "stderr",
     "output_type": "stream",
     "text": [
      "\n",
      "\n",
      "====== WebDriver manager ======\n",
      "Current google-chrome version is 99.0.4844\n",
      "Get LATEST chromedriver version for 99.0.4844 google-chrome\n",
      "Driver [C:\\Users\\Wook\\.wdm\\drivers\\chromedriver\\win32\\99.0.4844.51\\chromedriver.exe] found in cache\n",
      "C:\\Users\\Wook\\AppData\\Local\\Temp/ipykernel_1396/350118286.py:36: DeprecationWarning: executable_path has been deprecated, please pass in a Service object\n",
      "  driver = webdriver.Chrome(ChromeDriverManager().install(), options=options)\n",
      "C:\\Users\\Wook\\AppData\\Local\\Temp/ipykernel_1396/350118286.py:39: DeprecationWarning: find_element_by_css_selector is deprecated. Please use find_element(by=By.CSS_SELECTOR, value=css_selector) instead\n",
      "  cookie_ = driver.find_element_by_css_selector('#onetrust-accept-btn-handler')\n",
      "C:\\Users\\Wook\\AppData\\Local\\Temp/ipykernel_1396/350118286.py:42: DeprecationWarning: find_elements_by_css_selector is deprecated. Please use find_elements(by=By.CSS_SELECTOR, value=css_selector) instead\n",
      "  ui_ = driver.find_elements_by_css_selector('.colorpattern > li > a > img')\n",
      "C:\\Users\\Wook\\AppData\\Local\\Temp/ipykernel_1396/350118286.py:45: DeprecationWarning: find_element_by_css_selector is deprecated. Please use find_element(by=By.CSS_SELECTOR, value=css_selector) instead\n",
      "  pro_name = driver.find_element_by_css_selector('.product-set-details-container > h1')\n",
      "C:\\Users\\Wook\\AppData\\Local\\Temp/ipykernel_1396/350118286.py:46: DeprecationWarning: find_element_by_css_selector is deprecated. Please use find_element(by=By.CSS_SELECTOR, value=css_selector) instead\n",
      "  pro_color = driver.find_element_by_css_selector('.product-variations > p')\n",
      "C:\\Users\\Wook\\AppData\\Local\\Temp/ipykernel_1396/350118286.py:47: DeprecationWarning: find_elements_by_css_selector is deprecated. Please use find_elements(by=By.CSS_SELECTOR, value=css_selector) instead\n",
      "  pro_image = driver.find_elements_by_css_selector('li.product-images__main__image > img')\n",
      "C:\\Users\\Wook\\AppData\\Local\\Temp/ipykernel_1396/350118286.py:59: DeprecationWarning: find_elements_by_css_selector is deprecated. Please use find_elements(by=By.CSS_SELECTOR, value=css_selector) instead\n",
      "  ui_ = driver.find_elements_by_css_selector('.colorpattern > li > a > img')\n",
      "C:\\Users\\Wook\\AppData\\Local\\Temp/ipykernel_1396/350118286.py:62: DeprecationWarning: find_element_by_css_selector is deprecated. Please use find_element(by=By.CSS_SELECTOR, value=css_selector) instead\n",
      "  pro_name = driver.find_element_by_css_selector('.product-set-details-container > h1')\n",
      "C:\\Users\\Wook\\AppData\\Local\\Temp/ipykernel_1396/350118286.py:63: DeprecationWarning: find_element_by_css_selector is deprecated. Please use find_element(by=By.CSS_SELECTOR, value=css_selector) instead\n",
      "  pro_color = driver.find_element_by_css_selector('.product-variations > p')\n",
      "C:\\Users\\Wook\\AppData\\Local\\Temp/ipykernel_1396/350118286.py:64: DeprecationWarning: find_elements_by_css_selector is deprecated. Please use find_elements(by=By.CSS_SELECTOR, value=css_selector) instead\n",
      "  pro_image = driver.find_elements_by_css_selector('li.product-images__main__image > img')\n"
     ]
    },
    {
     "name": "stdout",
     "output_type": "stream",
     "text": [
      "https://www.jlindeberg.com/dw/image/v2/ABBT_PRD/on/demandware.static/-/Sites-pim-catalog/default/dw51d10b15/pim-static/large/50055665_Beige_001052_001_ProductLarge.jpg\n",
      "https://www.jlindeberg.com/dw/image/v2/ABBT_PRD/on/demandware.static/-/Sites-pim-catalog/default/dw0f6bb611/pim-static/large/50055665_Black_009999_001_ProductLarge.jpg\n",
      "https://www.jlindeberg.com/dw/image/v2/ABBT_PRD/on/demandware.static/-/Sites-pim-catalog/default/dwbec7f988/pim-static/large/50055665_PalePink_00S039_001_ProductLarge.jpg\n",
      "https://www.jlindeberg.com/dw/image/v2/ABBT_PRD/on/demandware.static/-/Sites-pim-catalog/default/dw27fcbaee/pim-static/large/50055665_JLNavy_006855_001_ProductLarge.jpg\n",
      "https://www.jlindeberg.com/dw/image/v2/ABBT_PRD/on/demandware.static/-/Sites-pim-catalog/default/dwdd4cf326/pim-static/large/50055665_White_000000_001_ProductLarge.jpg\n"
     ]
    },
    {
     "name": "stderr",
     "output_type": "stream",
     "text": [
      "\n",
      "\n",
      "====== WebDriver manager ======\n"
     ]
    },
    {
     "name": "stdout",
     "output_type": "stream",
     "text": [
      "1 / 15\n",
      "fin\n"
     ]
    },
    {
     "name": "stderr",
     "output_type": "stream",
     "text": [
      "Current google-chrome version is 99.0.4844\n",
      "Get LATEST chromedriver version for 99.0.4844 google-chrome\n",
      "Driver [C:\\Users\\Wook\\.wdm\\drivers\\chromedriver\\win32\\99.0.4844.51\\chromedriver.exe] found in cache\n"
     ]
    },
    {
     "name": "stdout",
     "output_type": "stream",
     "text": [
      "https://www.jlindeberg.com/dw/image/v2/ABBT_PRD/on/demandware.static/-/Sites-pim-catalog/default/dwf7195d0b/pim-static/large/50054080_GrapeLeaf_00M338_003_ProductLarge.jpg\n",
      "https://www.jlindeberg.com/dw/image/v2/ABBT_PRD/on/demandware.static/-/Sites-pim-catalog/default/dw65b66c4d/pim-static/large/50054080_GrapeLeaf_00M338_004_ProductLarge.jpg\n",
      "https://www.jlindeberg.com/dw/image/v2/ABBT_PRD/on/demandware.static/-/Sites-pim-catalog/default/dw804d12c9/pim-static/large/50054080_GrapeLeaf_00M338_005_ProductLarge.jpg\n",
      "https://www.jlindeberg.com/dw/image/v2/ABBT_PRD/on/demandware.static/-/Sites-pim-catalog/default/dwc71c7483/pim-static/large/50054080_GrapeLeaf_00M338_006_ProductLarge.jpg\n",
      "https://www.jlindeberg.com/dw/image/v2/ABBT_PRD/on/demandware.static/-/Sites-pim-catalog/default/dw853d4006/pim-static/large/50054080_Black_009999_001_ProductLarge.jpg\n",
      "https://www.jlindeberg.com/dw/image/v2/ABBT_PRD/on/demandware.static/-/Sites-pim-catalog/default/dwb84d2ef4/pim-static/large/50054080_Black_009999_003_ProductLarge.jpg\n",
      "https://www.jlindeberg.com/dw/image/v2/ABBT_PRD/on/demandware.static/-/Sites-pim-catalog/default/dw844f2074/pim-static/large/50054080_Black_009999_004_ProductLarge.jpg\n",
      "https://www.jlindeberg.com/dw/image/v2/ABBT_PRD/on/demandware.static/-/Sites-pim-catalog/default/dw35ea3e91/pim-static/large/50054080_Black_009999_005_ProductLarge.jpg\n",
      "https://www.jlindeberg.com/dw/image/v2/ABBT_PRD/on/demandware.static/-/Sites-pim-catalog/default/dw62f9437d/pim-static/large/50054080_Black_009999_006_ProductLarge.jpg\n",
      "https://www.jlindeberg.com/dw/image/v2/ABBT_PRD/on/demandware.static/-/Sites-pim-catalog/default/dwe03fb191/pim-static/large/50054080_JLNavy_006855_001_ProductLarge.jpg\n",
      "https://www.jlindeberg.com/dw/image/v2/ABBT_PRD/on/demandware.static/-/Sites-pim-catalog/default/dw34d3bee4/pim-static/large/50054080_TangerineTango_00G016_001_ProductLarge.jpg\n",
      "https://www.jlindeberg.com/dw/image/v2/ABBT_PRD/on/demandware.static/-/Sites-pim-catalog/default/dwfc3f5c13/pim-static/large/50054080_TangerineTango_00G016_003_ProductLarge.jpg\n",
      "https://www.jlindeberg.com/dw/image/v2/ABBT_PRD/on/demandware.static/-/Sites-pim-catalog/default/dwff79c1bb/pim-static/large/50054080_TangerineTango_00G016_004_ProductLarge.jpg\n",
      "https://www.jlindeberg.com/dw/image/v2/ABBT_PRD/on/demandware.static/-/Sites-pim-catalog/default/dwbecd140b/pim-static/large/50054080_TangerineTango_00G016_005_ProductLarge.jpg\n",
      "https://www.jlindeberg.com/dw/image/v2/ABBT_PRD/on/demandware.static/-/Sites-pim-catalog/default/dw4cb2391c/pim-static/large/50054080_TangerineTango_00G016_006_ProductLarge.jpg\n",
      "https://www.jlindeberg.com/dw/image/v2/ABBT_PRD/on/demandware.static/-/Sites-pim-catalog/default/dw5a9d1ae0/pim-static/large/50054080_White_000000_001_ProductLarge.jpg\n",
      "https://www.jlindeberg.com/dw/image/v2/ABBT_PRD/on/demandware.static/-/Sites-pim-catalog/default/dw7fdb10c2/pim-static/large/50054080_White_000000_003_ProductLarge.jpg\n",
      "https://www.jlindeberg.com/dw/image/v2/ABBT_PRD/on/demandware.static/-/Sites-pim-catalog/default/dw2cacbd7f/pim-static/large/50054080_White_000000_004_ProductLarge.jpg\n",
      "https://www.jlindeberg.com/dw/image/v2/ABBT_PRD/on/demandware.static/-/Sites-pim-catalog/default/dw81666514/pim-static/large/50054080_White_000000_005_ProductLarge.jpg\n",
      "https://www.jlindeberg.com/dw/image/v2/ABBT_PRD/on/demandware.static/-/Sites-pim-catalog/default/dw2cd19e56/pim-static/large/50054080_White_000000_006_ProductLarge.jpg\n"
     ]
    },
    {
     "name": "stderr",
     "output_type": "stream",
     "text": [
      "\n",
      "\n",
      "====== WebDriver manager ======\n"
     ]
    },
    {
     "name": "stdout",
     "output_type": "stream",
     "text": [
      "2 / 15\n",
      "fin\n"
     ]
    },
    {
     "name": "stderr",
     "output_type": "stream",
     "text": [
      "Current google-chrome version is 99.0.4844\n",
      "Get LATEST chromedriver version for 99.0.4844 google-chrome\n",
      "Driver [C:\\Users\\Wook\\.wdm\\drivers\\chromedriver\\win32\\99.0.4844.51\\chromedriver.exe] found in cache\n"
     ]
    },
    {
     "name": "stdout",
     "output_type": "stream",
     "text": [
      "https://www.jlindeberg.com/dw/image/v2/ABBT_PRD/on/demandware.static/-/Sites-pim-catalog/default/dwbf3127d0/pim-static/large/50054136_Skydiver_00O301_001_ProductLarge.jpg\n",
      "https://www.jlindeberg.com/dw/image/v2/ABBT_PRD/on/demandware.static/-/Sites-pim-catalog/default/dwa78b5198/pim-static/large/50054136_Skydiver_00O301_003_ProductLarge.jpg\n",
      "https://www.jlindeberg.com/dw/image/v2/ABBT_PRD/on/demandware.static/-/Sites-pim-catalog/default/dw20b76736/pim-static/large/50054136_Skydiver_00O301_004_ProductLarge.jpg\n",
      "https://www.jlindeberg.com/dw/image/v2/ABBT_PRD/on/demandware.static/-/Sites-pim-catalog/default/dwbcbe8daf/pim-static/large/50054136_Skydiver_00O301_005_ProductLarge.jpg\n",
      "https://www.jlindeberg.com/dw/image/v2/ABBT_PRD/on/demandware.static/-/Sites-pim-catalog/default/dw3b7c0f99/pim-static/large/50054136_Skydiver_00O301_006_ProductLarge.jpg\n",
      "https://www.jlindeberg.com/dw/image/v2/ABBT_PRD/on/demandware.static/-/Sites-pim-catalog/default/dw4c0446dd/pim-static/large/50054136_White_000000_001_ProductLarge.jpg\n",
      "https://www.jlindeberg.com/dw/image/v2/ABBT_PRD/on/demandware.static/-/Sites-pim-catalog/default/dwbf3127d0/pim-static/large/50054136_Skydiver_00O301_001_ProductLarge.jpg\n",
      "https://www.jlindeberg.com/dw/image/v2/ABBT_PRD/on/demandware.static/-/Sites-pim-catalog/default/dwa78b5198/pim-static/large/50054136_Skydiver_00O301_003_ProductLarge.jpg\n",
      "https://www.jlindeberg.com/dw/image/v2/ABBT_PRD/on/demandware.static/-/Sites-pim-catalog/default/dw20b76736/pim-static/large/50054136_Skydiver_00O301_004_ProductLarge.jpg\n",
      "https://www.jlindeberg.com/dw/image/v2/ABBT_PRD/on/demandware.static/-/Sites-pim-catalog/default/dwbcbe8daf/pim-static/large/50054136_Skydiver_00O301_005_ProductLarge.jpg\n",
      "https://www.jlindeberg.com/dw/image/v2/ABBT_PRD/on/demandware.static/-/Sites-pim-catalog/default/dw3b7c0f99/pim-static/large/50054136_Skydiver_00O301_006_ProductLarge.jpg\n"
     ]
    },
    {
     "name": "stderr",
     "output_type": "stream",
     "text": [
      "\n",
      "\n",
      "====== WebDriver manager ======\n"
     ]
    },
    {
     "name": "stdout",
     "output_type": "stream",
     "text": [
      "3 / 15\n",
      "fin\n"
     ]
    },
    {
     "name": "stderr",
     "output_type": "stream",
     "text": [
      "Current google-chrome version is 99.0.4844\n",
      "Get LATEST chromedriver version for 99.0.4844 google-chrome\n",
      "Driver [C:\\Users\\Wook\\.wdm\\drivers\\chromedriver\\win32\\99.0.4844.51\\chromedriver.exe] found in cache\n"
     ]
    },
    {
     "name": "stdout",
     "output_type": "stream",
     "text": [
      "https://www.jlindeberg.com/dw/image/v2/ABBT_PRD/on/demandware.static/-/Sites-pim-catalog/default/dwa9159e4b/pim-static/large/50054087_JLNavy_006855_001_ProductLarge.jpg\n"
     ]
    },
    {
     "name": "stderr",
     "output_type": "stream",
     "text": [
      "\n",
      "\n",
      "====== WebDriver manager ======\n"
     ]
    },
    {
     "name": "stdout",
     "output_type": "stream",
     "text": [
      "4 / 15\n",
      "fin\n"
     ]
    },
    {
     "name": "stderr",
     "output_type": "stream",
     "text": [
      "Current google-chrome version is 99.0.4844\n",
      "Get LATEST chromedriver version for 99.0.4844 google-chrome\n",
      "Driver [C:\\Users\\Wook\\.wdm\\drivers\\chromedriver\\win32\\99.0.4844.51\\chromedriver.exe] found in cache\n"
     ]
    },
    {
     "name": "stdout",
     "output_type": "stream",
     "text": [
      "https://www.jlindeberg.com/dw/image/v2/ABBT_PRD/on/demandware.static/-/Sites-pim-catalog/default/dw8b76ee7d/pim-static/large/50053778_KetchupBridgeMonogram_00I171_001_ProductLarge.jpg\n",
      "https://www.jlindeberg.com/dw/image/v2/ABBT_PRD/on/demandware.static/-/Sites-pim-catalog/default/dwb2d75781/pim-static/large/50053778_KetchupBridgeMonogram_00I171_002_ProductLarge.jpg\n",
      "https://www.jlindeberg.com/dw/image/v2/ABBT_PRD/on/demandware.static/-/Sites-pim-catalog/default/dw0b037b5c/pim-static/large/50053778_KetchupBridgeMonogram_00I171_003_ProductLarge.jpg\n",
      "https://www.jlindeberg.com/dw/image/v2/ABBT_PRD/on/demandware.static/-/Sites-pim-catalog/default/dw1681d150/pim-static/large/50053778_KetchupBridgeMonogram_00I171_004_ProductLarge.jpg\n"
     ]
    },
    {
     "name": "stderr",
     "output_type": "stream",
     "text": [
      "\n",
      "\n",
      "====== WebDriver manager ======\n"
     ]
    },
    {
     "name": "stdout",
     "output_type": "stream",
     "text": [
      "5 / 15\n",
      "fin\n"
     ]
    },
    {
     "name": "stderr",
     "output_type": "stream",
     "text": [
      "Current google-chrome version is 99.0.4844\n",
      "Get LATEST chromedriver version for 99.0.4844 google-chrome\n",
      "Driver [C:\\Users\\Wook\\.wdm\\drivers\\chromedriver\\win32\\99.0.4844.51\\chromedriver.exe] found in cache\n"
     ]
    },
    {
     "name": "stdout",
     "output_type": "stream",
     "text": [
      "https://www.jlindeberg.com/dw/image/v2/ABBT_PRD/on/demandware.static/-/Sites-pim-catalog/default/dw981d3999/pim-static/large/50054270_MicroChip_00U019_001_ProductLarge.jpg\n",
      "https://www.jlindeberg.com/dw/image/v2/ABBT_PRD/on/demandware.static/-/Sites-pim-catalog/default/dwa7eb343e/pim-static/large/50054270_Black_009999_001_ProductLarge.jpg\n",
      "https://www.jlindeberg.com/dw/image/v2/ABBT_PRD/on/demandware.static/-/Sites-pim-catalog/default/dw599a2a77/pim-static/large/50054270_GrapeLeaf_00M338_001_ProductLarge.jpg\n",
      "https://www.jlindeberg.com/dw/image/v2/ABBT_PRD/on/demandware.static/-/Sites-pim-catalog/default/dw73836a3b/pim-static/large/50054270_White_000000_001_ProductLarge.jpg\n",
      "https://www.jlindeberg.com/dw/image/v2/ABBT_PRD/on/demandware.static/-/Sites-pim-catalog/default/dw801c97d3/pim-static/large/50054270_JLNavy_006855_001_ProductLarge.jpg\n"
     ]
    },
    {
     "name": "stderr",
     "output_type": "stream",
     "text": [
      "\n",
      "\n",
      "====== WebDriver manager ======\n"
     ]
    },
    {
     "name": "stdout",
     "output_type": "stream",
     "text": [
      "6 / 15\n",
      "fin\n"
     ]
    },
    {
     "name": "stderr",
     "output_type": "stream",
     "text": [
      "Current google-chrome version is 99.0.4844\n",
      "Get LATEST chromedriver version for 99.0.4844 google-chrome\n",
      "Driver [C:\\Users\\Wook\\.wdm\\drivers\\chromedriver\\win32\\99.0.4844.51\\chromedriver.exe] found in cache\n"
     ]
    },
    {
     "name": "stdout",
     "output_type": "stream",
     "text": [
      "https://www.jlindeberg.com/dw/image/v2/ABBT_PRD/on/demandware.static/-/Sites-pim-catalog/default/dw2405a949/pim-static/large/50054219_GrapeLeafMelange_00M470_001_ProductLarge.jpg\n",
      "https://www.jlindeberg.com/dw/image/v2/ABBT_PRD/on/demandware.static/-/Sites-pim-catalog/default/dw6e1645ea/pim-static/large/50054219_GrapeLeafMelange_00M470_002_ProductLarge.jpg\n",
      "https://www.jlindeberg.com/dw/image/v2/ABBT_PRD/on/demandware.static/-/Sites-pim-catalog/default/dw86685dd6/pim-static/large/50054219_Skydiver_00O301_003_ProductLarge.jpg\n",
      "https://www.jlindeberg.com/dw/image/v2/ABBT_PRD/on/demandware.static/-/Sites-pim-catalog/default/dwc4c863b5/pim-static/large/50054219_Skydiver_00O301_004_ProductLarge.jpg\n",
      "https://www.jlindeberg.com/dw/image/v2/ABBT_PRD/on/demandware.static/-/Sites-pim-catalog/default/dw688bae23/pim-static/large/50054219_Skydiver_00O301_005_ProductLarge.jpg\n",
      "https://www.jlindeberg.com/dw/image/v2/ABBT_PRD/on/demandware.static/-/Sites-pim-catalog/default/dwea4ee0e0/pim-static/large/50054219_Skydiver_00O301_006_ProductLarge.jpg\n",
      "https://www.jlindeberg.com/dw/image/v2/ABBT_PRD/on/demandware.static/-/Sites-pim-catalog/default/dw33e553c9/pim-static/large/50054219_MicroChipMelange_00U207_001_ProductLarge.jpg\n",
      "https://www.jlindeberg.com/dw/image/v2/ABBT_PRD/on/demandware.static/-/Sites-pim-catalog/default/dwb313ffd1/pim-static/large/50054219_MicroChipMelange_00U207_002_ProductLarge.jpg\n",
      "https://www.jlindeberg.com/dw/image/v2/ABBT_PRD/on/demandware.static/-/Sites-pim-catalog/default/dw6632e848/pim-static/large/50054219_MicroChipMelange_00U207_003_ProductLarge.jpg\n",
      "https://www.jlindeberg.com/dw/image/v2/ABBT_PRD/on/demandware.static/-/Sites-pim-catalog/default/dwd9e921cb/pim-static/large/50054219_MicroChipMelange_00U207_004_ProductLarge.jpg\n",
      "https://www.jlindeberg.com/dw/image/v2/ABBT_PRD/on/demandware.static/-/Sites-pim-catalog/default/dwd895cc83/pim-static/large/50054219_MicroChipMelange_00U207_005_ProductLarge.jpg\n",
      "https://www.jlindeberg.com/dw/image/v2/ABBT_PRD/on/demandware.static/-/Sites-pim-catalog/default/dwefe8e5d8/pim-static/large/50054219_MicroChipMelange_00U207_006_ProductLarge.jpg\n",
      "https://www.jlindeberg.com/dw/image/v2/ABBT_PRD/on/demandware.static/-/Sites-pim-catalog/default/dwa3d424e3/pim-static/large/50054219_TangerineTango_00G016_001_ProductLarge.jpg\n",
      "https://www.jlindeberg.com/dw/image/v2/ABBT_PRD/on/demandware.static/-/Sites-pim-catalog/default/dwc38f607e/pim-static/large/50054219_TangerineTango_00G016_002_ProductLarge.jpg\n",
      "https://www.jlindeberg.com/dw/image/v2/ABBT_PRD/on/demandware.static/-/Sites-pim-catalog/default/dw3ac84cd8/pim-static/large/50054219_TangerineTango_00G016_003_ProductLarge.jpg\n",
      "https://www.jlindeberg.com/dw/image/v2/ABBT_PRD/on/demandware.static/-/Sites-pim-catalog/default/dwfc000334/pim-static/large/50054219_TangerineTango_00G016_004_ProductLarge.jpg\n",
      "https://www.jlindeberg.com/dw/image/v2/ABBT_PRD/on/demandware.static/-/Sites-pim-catalog/default/dw8d08c8fc/pim-static/large/50054219_TangerineTango_00G016_005_ProductLarge.jpg\n",
      "https://www.jlindeberg.com/dw/image/v2/ABBT_PRD/on/demandware.static/-/Sites-pim-catalog/default/dw71efc2ba/pim-static/large/50054219_TangerineTango_00G016_006_ProductLarge.jpg\n"
     ]
    },
    {
     "name": "stderr",
     "output_type": "stream",
     "text": [
      "\n",
      "\n",
      "====== WebDriver manager ======\n"
     ]
    },
    {
     "name": "stdout",
     "output_type": "stream",
     "text": [
      "7 / 15\n",
      "fin\n"
     ]
    },
    {
     "name": "stderr",
     "output_type": "stream",
     "text": [
      "Current google-chrome version is 99.0.4844\n",
      "Get LATEST chromedriver version for 99.0.4844 google-chrome\n",
      "Driver [C:\\Users\\Wook\\.wdm\\drivers\\chromedriver\\win32\\99.0.4844.51\\chromedriver.exe] found in cache\n"
     ]
    },
    {
     "name": "stdout",
     "output_type": "stream",
     "text": [
      "https://www.jlindeberg.com/dw/image/v2/ABBT_PRD/on/demandware.static/-/Sites-pim-catalog/default/dwfab12c9b/pim-static/large/50054202_Skydiver_00O301_001_ProductLarge.jpg\n",
      "https://www.jlindeberg.com/dw/image/v2/ABBT_PRD/on/demandware.static/-/Sites-pim-catalog/default/dwa58e8bec/pim-static/large/50054202_Skydiver_00O301_003_ProductLarge.jpg\n",
      "https://www.jlindeberg.com/dw/image/v2/ABBT_PRD/on/demandware.static/-/Sites-pim-catalog/default/dw3d4ec2a5/pim-static/large/50054202_Skydiver_00O301_004_ProductLarge.jpg\n",
      "https://www.jlindeberg.com/dw/image/v2/ABBT_PRD/on/demandware.static/-/Sites-pim-catalog/default/dw6fdf1a4a/pim-static/large/50054202_Skydiver_00O301_005_ProductLarge.jpg\n",
      "https://www.jlindeberg.com/dw/image/v2/ABBT_PRD/on/demandware.static/-/Sites-pim-catalog/default/dwcf3b607f/pim-static/large/50054202_Skydiver_00O301_006_ProductLarge.jpg\n",
      "https://www.jlindeberg.com/dw/image/v2/ABBT_PRD/on/demandware.static/-/Sites-pim-catalog/default/dw01937d90/pim-static/large/50054202_JLNavy_006855_001_ProductLarge.jpg\n"
     ]
    },
    {
     "name": "stderr",
     "output_type": "stream",
     "text": [
      "\n",
      "\n",
      "====== WebDriver manager ======\n"
     ]
    },
    {
     "name": "stdout",
     "output_type": "stream",
     "text": [
      "8 / 15\n",
      "fin\n"
     ]
    },
    {
     "name": "stderr",
     "output_type": "stream",
     "text": [
      "Current google-chrome version is 99.0.4844\n",
      "Get LATEST chromedriver version for 99.0.4844 google-chrome\n",
      "Driver [C:\\Users\\Wook\\.wdm\\drivers\\chromedriver\\win32\\99.0.4844.51\\chromedriver.exe] found in cache\n"
     ]
    },
    {
     "name": "stdout",
     "output_type": "stream",
     "text": [
      "https://www.jlindeberg.com/dw/image/v2/ABBT_PRD/on/demandware.static/-/Sites-pim-catalog/default/dw7fe93fbc/pim-static/large/50054282_EnamelBlueBridgeMonogram_00O448_001_ProductLarge.jpg\n",
      "https://www.jlindeberg.com/dw/image/v2/ABBT_PRD/on/demandware.static/-/Sites-pim-catalog/default/dwd0153633/pim-static/large/50054282_JLNavyBridgeMonogram_00O441_001_ProductLarge.jpg\n",
      "https://www.jlindeberg.com/dw/image/v2/ABBT_PRD/on/demandware.static/-/Sites-pim-catalog/default/dw4cba002e/pim-static/large/50054282_JLNavyBridgeMonogram_00O441_003_ProductLarge.jpg\n",
      "https://www.jlindeberg.com/dw/image/v2/ABBT_PRD/on/demandware.static/-/Sites-pim-catalog/default/dw8b59cf72/pim-static/large/50054282_JLNavyBridgeMonogram_00O441_004_ProductLarge.jpg\n",
      "https://www.jlindeberg.com/dw/image/v2/ABBT_PRD/on/demandware.static/-/Sites-pim-catalog/default/dw8170b500/pim-static/large/50054282_JLNavyBridgeMonogram_00O441_005_ProductLarge.jpg\n",
      "https://www.jlindeberg.com/dw/image/v2/ABBT_PRD/on/demandware.static/-/Sites-pim-catalog/default/dw18b85946/pim-static/large/50054282_JLNavyBridgeMonogram_00O441_006_ProductLarge.jpg\n",
      "https://www.jlindeberg.com/dw/image/v2/ABBT_PRD/on/demandware.static/-/Sites-pim-catalog/default/dwa39dd289/pim-static/large/50054282_KetchupBridgeMonogram_00I171_001_ProductLarge.jpg\n",
      "https://www.jlindeberg.com/dw/image/v2/ABBT_PRD/on/demandware.static/-/Sites-pim-catalog/default/dwf0f294e3/pim-static/large/50054282_KetchupBridgeMonogram_00I171_003_ProductLarge.jpg\n",
      "https://www.jlindeberg.com/dw/image/v2/ABBT_PRD/on/demandware.static/-/Sites-pim-catalog/default/dw05523e68/pim-static/large/50054282_KetchupBridgeMonogram_00I171_004_ProductLarge.jpg\n",
      "https://www.jlindeberg.com/dw/image/v2/ABBT_PRD/on/demandware.static/-/Sites-pim-catalog/default/dw9ce50937/pim-static/large/50054282_KetchupBridgeMonogram_00I171_005_ProductLarge.jpg\n",
      "https://www.jlindeberg.com/dw/image/v2/ABBT_PRD/on/demandware.static/-/Sites-pim-catalog/default/dw3a7222f8/pim-static/large/50054282_KetchupBridgeMonogram_00I171_006_ProductLarge.jpg\n"
     ]
    },
    {
     "name": "stderr",
     "output_type": "stream",
     "text": [
      "\n",
      "\n",
      "====== WebDriver manager ======\n"
     ]
    },
    {
     "name": "stdout",
     "output_type": "stream",
     "text": [
      "9 / 15\n",
      "fin\n"
     ]
    },
    {
     "name": "stderr",
     "output_type": "stream",
     "text": [
      "Current google-chrome version is 99.0.4844\n",
      "Get LATEST chromedriver version for 99.0.4844 google-chrome\n",
      "Driver [C:\\Users\\Wook\\.wdm\\drivers\\chromedriver\\win32\\99.0.4844.51\\chromedriver.exe] found in cache\n"
     ]
    },
    {
     "name": "stdout",
     "output_type": "stream",
     "text": [
      "https://www.jlindeberg.com/dw/image/v2/ABBT_PRD/on/demandware.static/-/Sites-pim-catalog/default/dw5014a551/pim-static/large/50054292_JLNavy_006855_001_ProductLarge.jpg\n",
      "https://www.jlindeberg.com/dw/image/v2/ABBT_PRD/on/demandware.static/-/Sites-pim-catalog/default/dwd450e727/pim-static/large/50054292_GrapeLeaf_00M338_001_ProductLarge.jpg\n",
      "https://www.jlindeberg.com/dw/image/v2/ABBT_PRD/on/demandware.static/-/Sites-pim-catalog/default/dw5014a551/pim-static/large/50054292_JLNavy_006855_001_ProductLarge.jpg\n"
     ]
    },
    {
     "name": "stderr",
     "output_type": "stream",
     "text": [
      "\n",
      "\n",
      "====== WebDriver manager ======\n"
     ]
    },
    {
     "name": "stdout",
     "output_type": "stream",
     "text": [
      "10 / 15\n",
      "fin\n"
     ]
    },
    {
     "name": "stderr",
     "output_type": "stream",
     "text": [
      "Current google-chrome version is 99.0.4844\n",
      "Get LATEST chromedriver version for 99.0.4844 google-chrome\n",
      "Driver [C:\\Users\\Wook\\.wdm\\drivers\\chromedriver\\win32\\99.0.4844.51\\chromedriver.exe] found in cache\n"
     ]
    },
    {
     "name": "stdout",
     "output_type": "stream",
     "text": [
      "https://www.jlindeberg.com/dw/image/v2/ABBT_PRD/on/demandware.static/-/Sites-pim-catalog/default/dw5e6f91a2/pim-static/large/50054286_TangerineTango_00G016_001_ProductLarge.jpg\n",
      "https://www.jlindeberg.com/dw/image/v2/ABBT_PRD/on/demandware.static/-/Sites-pim-catalog/default/dw0255764b/pim-static/large/50054286_TangerineTango_00G016_003_ProductLarge.jpg\n",
      "https://www.jlindeberg.com/dw/image/v2/ABBT_PRD/on/demandware.static/-/Sites-pim-catalog/default/dwdcbd7959/pim-static/large/50054286_TangerineTango_00G016_004_ProductLarge.jpg\n",
      "https://www.jlindeberg.com/dw/image/v2/ABBT_PRD/on/demandware.static/-/Sites-pim-catalog/default/dwfd821375/pim-static/large/50054286_TangerineTango_00G016_005_ProductLarge.jpg\n",
      "https://www.jlindeberg.com/dw/image/v2/ABBT_PRD/on/demandware.static/-/Sites-pim-catalog/default/dw5ad3b287/pim-static/large/50054286_TangerineTango_00G016_006_ProductLarge.jpg\n",
      "https://www.jlindeberg.com/dw/image/v2/ABBT_PRD/on/demandware.static/-/Sites-pim-catalog/default/dw1c242aee/pim-static/large/50054286_Skydiver_00O301_001_ProductLarge.jpg\n",
      "https://www.jlindeberg.com/dw/image/v2/ABBT_PRD/on/demandware.static/-/Sites-pim-catalog/default/dwa9c8b4ee/pim-static/large/50054286_Skydiver_00O301_003_ProductLarge.jpg\n",
      "https://www.jlindeberg.com/dw/image/v2/ABBT_PRD/on/demandware.static/-/Sites-pim-catalog/default/dw51676a07/pim-static/large/50054286_Skydiver_00O301_004_ProductLarge.jpg\n",
      "https://www.jlindeberg.com/dw/image/v2/ABBT_PRD/on/demandware.static/-/Sites-pim-catalog/default/dwcf0d424f/pim-static/large/50054286_Skydiver_00O301_005_ProductLarge.jpg\n",
      "https://www.jlindeberg.com/dw/image/v2/ABBT_PRD/on/demandware.static/-/Sites-pim-catalog/default/dw256c640f/pim-static/large/50054286_Skydiver_00O301_006_ProductLarge.jpg\n",
      "https://www.jlindeberg.com/dw/image/v2/ABBT_PRD/on/demandware.static/-/Sites-pim-catalog/default/dw60ed1e80/pim-static/large/50054286_HotPink_00S166_001_ProductLarge.jpg\n",
      "https://www.jlindeberg.com/dw/image/v2/ABBT_PRD/on/demandware.static/-/Sites-pim-catalog/default/dw1b70ebdf/pim-static/large/50054286_HotPink_00S166_003_ProductLarge.jpg\n",
      "https://www.jlindeberg.com/dw/image/v2/ABBT_PRD/on/demandware.static/-/Sites-pim-catalog/default/dw24b19b70/pim-static/large/50054286_HotPink_00S166_004_ProductLarge.jpg\n",
      "https://www.jlindeberg.com/dw/image/v2/ABBT_PRD/on/demandware.static/-/Sites-pim-catalog/default/dw3805e308/pim-static/large/50054286_HotPink_00S166_005_ProductLarge.jpg\n",
      "https://www.jlindeberg.com/dw/image/v2/ABBT_PRD/on/demandware.static/-/Sites-pim-catalog/default/dwa16117aa/pim-static/large/50054286_HotPink_00S166_006_ProductLarge.jpg\n",
      "https://www.jlindeberg.com/dw/image/v2/ABBT_PRD/on/demandware.static/-/Sites-pim-catalog/default/dwa5d4ce29/pim-static/large/50054286_MoroccanBlue_00O287_001_ProductLarge.jpg\n",
      "https://www.jlindeberg.com/dw/image/v2/ABBT_PRD/on/demandware.static/-/Sites-pim-catalog/default/dwefe1dda3/pim-static/large/50054286_MicroChip_00U019_003_ProductLarge.jpg\n",
      "https://www.jlindeberg.com/dw/image/v2/ABBT_PRD/on/demandware.static/-/Sites-pim-catalog/default/dw0b8048c7/pim-static/large/50054286_MicroChip_00U019_004_ProductLarge.jpg\n",
      "https://www.jlindeberg.com/dw/image/v2/ABBT_PRD/on/demandware.static/-/Sites-pim-catalog/default/dw29f2356b/pim-static/large/50054286_MicroChip_00U019_005_ProductLarge.jpg\n",
      "https://www.jlindeberg.com/dw/image/v2/ABBT_PRD/on/demandware.static/-/Sites-pim-catalog/default/dwfcb386b6/pim-static/large/50054286_MicroChip_00U019_006_ProductLarge.jpg\n"
     ]
    },
    {
     "name": "stderr",
     "output_type": "stream",
     "text": [
      "\n",
      "\n",
      "====== WebDriver manager ======\n"
     ]
    },
    {
     "name": "stdout",
     "output_type": "stream",
     "text": [
      "11 / 15\n",
      "fin\n"
     ]
    },
    {
     "name": "stderr",
     "output_type": "stream",
     "text": [
      "Current google-chrome version is 99.0.4844\n",
      "Get LATEST chromedriver version for 99.0.4844 google-chrome\n",
      "Driver [C:\\Users\\Wook\\.wdm\\drivers\\chromedriver\\win32\\99.0.4844.51\\chromedriver.exe] found in cache\n"
     ]
    },
    {
     "name": "stdout",
     "output_type": "stream",
     "text": [
      "https://www.jlindeberg.com/dw/image/v2/ABBT_PRD/on/demandware.static/-/Sites-pim-catalog/default/dw23fb5182/pim-static/large/50054191_GrapeLeafMelange_00M470_003_ProductLarge.jpg\n",
      "https://www.jlindeberg.com/dw/image/v2/ABBT_PRD/on/demandware.static/-/Sites-pim-catalog/default/dw63f92a7d/pim-static/large/50054191_GrapeLeafMelange_00M470_004_ProductLarge.jpg\n",
      "https://www.jlindeberg.com/dw/image/v2/ABBT_PRD/on/demandware.static/-/Sites-pim-catalog/default/dw68e48a9d/pim-static/large/50054191_GrapeLeafMelange_00M470_005_ProductLarge.jpg\n",
      "https://www.jlindeberg.com/dw/image/v2/ABBT_PRD/on/demandware.static/-/Sites-pim-catalog/default/dw1e987bdd/pim-static/large/50054191_GrapeLeafMelange_00M470_006_ProductLarge.jpg\n",
      "https://www.jlindeberg.com/dw/image/v2/ABBT_PRD/on/demandware.static/-/Sites-pim-catalog/default/dw769c28c3/pim-static/large/50054191_TangerineTango_00G016_001_ProductLarge.jpg\n",
      "https://www.jlindeberg.com/dw/image/v2/ABBT_PRD/on/demandware.static/-/Sites-pim-catalog/default/dw8c3067e6/pim-static/large/50054191_TangerineTango_00G016_003_ProductLarge.jpg\n",
      "https://www.jlindeberg.com/dw/image/v2/ABBT_PRD/on/demandware.static/-/Sites-pim-catalog/default/dweac8733c/pim-static/large/50054191_TangerineTango_00G016_004_ProductLarge.jpg\n",
      "https://www.jlindeberg.com/dw/image/v2/ABBT_PRD/on/demandware.static/-/Sites-pim-catalog/default/dw37824c21/pim-static/large/50054191_TangerineTango_00G016_005_ProductLarge.jpg\n",
      "https://www.jlindeberg.com/dw/image/v2/ABBT_PRD/on/demandware.static/-/Sites-pim-catalog/default/dwf45ca86e/pim-static/large/50054191_TangerineTango_00G016_006_ProductLarge.jpg\n",
      "https://www.jlindeberg.com/dw/image/v2/ABBT_PRD/on/demandware.static/-/Sites-pim-catalog/default/dw877fac97/pim-static/large/50054191_HotPink_00S166_001_ProductLarge.jpg\n",
      "https://www.jlindeberg.com/dw/image/v2/ABBT_PRD/on/demandware.static/-/Sites-pim-catalog/default/dw442c336f/pim-static/large/50054191_HotPink_00S166_003_ProductLarge.jpg\n",
      "https://www.jlindeberg.com/dw/image/v2/ABBT_PRD/on/demandware.static/-/Sites-pim-catalog/default/dwabfe41e3/pim-static/large/50054191_HotPink_00S166_004_ProductLarge.jpg\n",
      "https://www.jlindeberg.com/dw/image/v2/ABBT_PRD/on/demandware.static/-/Sites-pim-catalog/default/dw847c3030/pim-static/large/50054191_HotPink_00S166_005_ProductLarge.jpg\n",
      "https://www.jlindeberg.com/dw/image/v2/ABBT_PRD/on/demandware.static/-/Sites-pim-catalog/default/dw9c2e802f/pim-static/large/50054191_HotPink_00S166_006_ProductLarge.jpg\n",
      "https://www.jlindeberg.com/dw/image/v2/ABBT_PRD/on/demandware.static/-/Sites-pim-catalog/default/dw54d3cd1b/pim-static/large/50054191_MicroChipMelange_00U207_001_ProductLarge.jpg\n",
      "https://www.jlindeberg.com/dw/image/v2/ABBT_PRD/on/demandware.static/-/Sites-pim-catalog/default/dw2eb32568/pim-static/large/50054191_MicroChipMelange_00U207_003_ProductLarge.jpg\n",
      "https://www.jlindeberg.com/dw/image/v2/ABBT_PRD/on/demandware.static/-/Sites-pim-catalog/default/dwb75f9b64/pim-static/large/50054191_MicroChipMelange_00U207_004_ProductLarge.jpg\n",
      "https://www.jlindeberg.com/dw/image/v2/ABBT_PRD/on/demandware.static/-/Sites-pim-catalog/default/dw753d1825/pim-static/large/50054191_MicroChipMelange_00U207_005_ProductLarge.jpg\n",
      "https://www.jlindeberg.com/dw/image/v2/ABBT_PRD/on/demandware.static/-/Sites-pim-catalog/default/dw862d7e6c/pim-static/large/50054191_MicroChipMelange_00U207_006_ProductLarge.jpg\n"
     ]
    },
    {
     "name": "stderr",
     "output_type": "stream",
     "text": [
      "\n",
      "\n",
      "====== WebDriver manager ======\n"
     ]
    },
    {
     "name": "stdout",
     "output_type": "stream",
     "text": [
      "12 / 15\n",
      "fin\n"
     ]
    },
    {
     "name": "stderr",
     "output_type": "stream",
     "text": [
      "Current google-chrome version is 99.0.4844\n",
      "Get LATEST chromedriver version for 99.0.4844 google-chrome\n",
      "Driver [C:\\Users\\Wook\\.wdm\\drivers\\chromedriver\\win32\\99.0.4844.51\\chromedriver.exe] found in cache\n"
     ]
    },
    {
     "name": "stdout",
     "output_type": "stream",
     "text": [
      "https://www.jlindeberg.com/dw/image/v2/ABBT_PRD/on/demandware.static/-/Sites-pim-catalog/default/dw57992bf2/pim-static/large/50054137_White_000000_001_ProductLarge.jpg\n",
      "https://www.jlindeberg.com/dw/image/v2/ABBT_PRD/on/demandware.static/-/Sites-pim-catalog/default/dw9fd08a1e/pim-static/large/50054137_JLNavy_006855_001_ProductLarge.jpg\n",
      "https://www.jlindeberg.com/dw/image/v2/ABBT_PRD/on/demandware.static/-/Sites-pim-catalog/default/dw4c901d1a/pim-static/large/50054137_JLNavy_006855_003_ProductLarge.jpg\n",
      "https://www.jlindeberg.com/dw/image/v2/ABBT_PRD/on/demandware.static/-/Sites-pim-catalog/default/dw7788b8be/pim-static/large/50054137_JLNavy_006855_004_ProductLarge.jpg\n",
      "https://www.jlindeberg.com/dw/image/v2/ABBT_PRD/on/demandware.static/-/Sites-pim-catalog/default/dwef6fe2e3/pim-static/large/50054137_JLNavy_006855_005_ProductLarge.jpg\n",
      "https://www.jlindeberg.com/dw/image/v2/ABBT_PRD/on/demandware.static/-/Sites-pim-catalog/default/dw312b199c/pim-static/large/50054137_JLNavy_006855_006_ProductLarge.jpg\n"
     ]
    },
    {
     "name": "stderr",
     "output_type": "stream",
     "text": [
      "\n",
      "\n",
      "====== WebDriver manager ======\n"
     ]
    },
    {
     "name": "stdout",
     "output_type": "stream",
     "text": [
      "13 / 15\n",
      "fin\n"
     ]
    },
    {
     "name": "stderr",
     "output_type": "stream",
     "text": [
      "Current google-chrome version is 99.0.4844\n",
      "Get LATEST chromedriver version for 99.0.4844 google-chrome\n",
      "Driver [C:\\Users\\Wook\\.wdm\\drivers\\chromedriver\\win32\\99.0.4844.51\\chromedriver.exe] found in cache\n"
     ]
    },
    {
     "name": "stdout",
     "output_type": "stream",
     "text": [
      "https://www.jlindeberg.com/dw/image/v2/ABBT_PRD/on/demandware.static/-/Sites-pim-catalog/default/dw2af25e77/pim-static/large/50054163_TangerineTango_00G016_001_ProductLarge.jpg\n",
      "https://www.jlindeberg.com/dw/image/v2/ABBT_PRD/on/demandware.static/-/Sites-pim-catalog/default/dw94744b30/pim-static/large/50054163_Skydiver_00O301_001_ProductLarge.jpg\n",
      "https://www.jlindeberg.com/dw/image/v2/ABBT_PRD/on/demandware.static/-/Sites-pim-catalog/default/dw133b2a25/pim-static/large/50054163_JLNavy_006855_001_ProductLarge.jpg\n"
     ]
    },
    {
     "name": "stderr",
     "output_type": "stream",
     "text": [
      "\n",
      "\n",
      "====== WebDriver manager ======\n"
     ]
    },
    {
     "name": "stdout",
     "output_type": "stream",
     "text": [
      "14 / 15\n",
      "fin\n"
     ]
    },
    {
     "name": "stderr",
     "output_type": "stream",
     "text": [
      "Current google-chrome version is 99.0.4844\n",
      "Get LATEST chromedriver version for 99.0.4844 google-chrome\n",
      "Driver [C:\\Users\\Wook\\.wdm\\drivers\\chromedriver\\win32\\99.0.4844.51\\chromedriver.exe] found in cache\n"
     ]
    },
    {
     "name": "stdout",
     "output_type": "stream",
     "text": [
      "https://www.jlindeberg.com/dw/image/v2/ABBT_PRD/on/demandware.static/-/Sites-pim-catalog/default/dw3a55fe46/pim-static/large/50054139_White_000000_001_ProductLarge.jpg\n",
      "https://www.jlindeberg.com/dw/image/v2/ABBT_PRD/on/demandware.static/-/Sites-pim-catalog/default/dw2ed24c89/pim-static/large/50054139_MoroccanBlue_00O287_001_ProductLarge.jpg\n",
      "https://www.jlindeberg.com/dw/image/v2/ABBT_PRD/on/demandware.static/-/Sites-pim-catalog/default/dw975e4e6f/pim-static/large/50054139_JLNavy_006855_001_ProductLarge.jpg\n",
      "https://www.jlindeberg.com/dw/image/v2/ABBT_PRD/on/demandware.static/-/Sites-pim-catalog/default/dw635737c2/pim-static/large/50054139_HotPink_00S166_001_ProductLarge.jpg\n",
      "https://www.jlindeberg.com/dw/image/v2/ABBT_PRD/on/demandware.static/-/Sites-pim-catalog/default/dw5e1a4667/pim-static/large/50054139_HotPink_00S166_003_ProductLarge.jpg\n",
      "https://www.jlindeberg.com/dw/image/v2/ABBT_PRD/on/demandware.static/-/Sites-pim-catalog/default/dw09fd46da/pim-static/large/50054139_HotPink_00S166_004_ProductLarge.jpg\n",
      "https://www.jlindeberg.com/dw/image/v2/ABBT_PRD/on/demandware.static/-/Sites-pim-catalog/default/dwce51ecd0/pim-static/large/50054139_HotPink_00S166_005_ProductLarge.jpg\n",
      "https://www.jlindeberg.com/dw/image/v2/ABBT_PRD/on/demandware.static/-/Sites-pim-catalog/default/dwd3a97b4e/pim-static/large/50054139_HotPink_00S166_006_ProductLarge.jpg\n",
      "15 / 15\n",
      "fin\n"
     ]
    }
   ],
   "source": [
    "from selenium import webdriver\n",
    "from selenium.webdriver import ActionChains\n",
    "from selenium.webdriver.common.by import By\n",
    "from webdriver_manager.chrome import ChromeDriverManager\n",
    "from PIL import Image\n",
    "import time\n",
    "import os\n",
    "import urllib.request\n",
    "from bs4 import BeautifulSoup\n",
    "import re\n",
    "from rembg.bg import remove\n",
    "\n",
    "urls =[\"https://www.jlindeberg.com/de/en/jl/women/golf/skirts-and-dresses/alice-skirt-50055665.html?cgid=jl-women-golf-skirts_dresses&dwvar_colorPattern=50055665_White_000000\",\n",
    "\"https://www.jlindeberg.com/de/en/jl/men/golf/outerwear/ash-light-packable-jacket-50054080.html?cgid=jl-men-golf-jackets&dwvar_colorPattern=50054080_Black_009999\",\n",
    "\"https://www.jlindeberg.com/de/en/jl/men/golf/base-and-midlayers/aello-compression-top-50054136.html?cgid=jl-men-golf-base_mid&dwvar_colorPattern=50054136_JLNavy_006855\",\n",
    "\"https://www.jlindeberg.com/de/en/jl/men/golf/outerwear/ash-packable-vest-50054087.html?cgid=jl-men-golf-jackets&dwvar_colorPattern=50054087_JLNavy_006855\",\n",
    "\"https://www.jlindeberg.com/de/en/jl/women/golf/accessories/more-accessories/boston-bag-50053778.html?cgid=jl-women-golf-accessories-more&dwvar_colorPattern=50053778_KetchupBridgeMonogram_00I171\",\n",
    "\"https://www.jlindeberg.com/de/en/jl/men/golf/shorts/somle-shorts-50054270.html?cgid=jl-men-golf-shorts&dwvar_colorPattern=50054270_JLNavy_006855\",\n",
    "\"https://www.jlindeberg.com/de/en/jl/men/golf/polo-shirts/kv-regular-fit-polo-shirt-50054219.html?cgid=jl-men-golf-polos&dwvar_colorPattern=50054219_MicroChipMelange_00U207\",\n",
    "\"https://www.jlindeberg.com/de/en/jl/men/golf/polo-shirts/jordan-regular-fit-polo-shirt-50054202.html?cgid=jl-men-golf-polos&dwvar_colorPattern=50054202_Skydiver_00O301\",\n",
    "\"https://www.jlindeberg.com/de/en/jl/men/golf/polo-shirts/tour-tech-printed-polo-shirt-50054282.html?cgid=jl-men-golf-polos&dwvar_colorPattern=50054282_KetchupBridgeMonogram_00I171\",\n",
    "\"https://www.jlindeberg.com/de/en/jl/men/golf/polo-shirts/zip-slim-fit-polo-shirt-50054292.html?cgid=jl-men-golf-polos&dwvar_colorPattern=50054292_White_000000\",\n",
    "\"https://www.jlindeberg.com/de/en/jl/men/golf/trousers/vent-trousers-50054286.html?cgid=jl-men-golf-trousers&dwvar_colorPattern=50054286_MicroChip_00U019\",\n",
    "\"https://www.jlindeberg.com/de/en/jl/men/golf/polo-shirts/heath-regular-fit-polo-shirt-50054191.html?cgid=jl-men-golf-polos&dwvar_colorPattern=50054191_MicroChipMelange_00U207\",\n",
    "\"https://www.jlindeberg.com/de/en/jl/men/golf/polo-shirts/bode-regular-fit-polo-shirt-50054137.html?cgid=jl-men-golf-polos&dwvar_colorPattern=50054137_JLNavy_006855\",\n",
    "\"https://www.jlindeberg.com/de/en/jl/men/golf/polo-shirts/clipz-regular-fit-polo-shirt-50054163.html?cgid=jl-men-golf-polos&dwvar_colorPattern=50054163_JLNavy_006855\",\n",
    "\"https://www.jlindeberg.com/de/en/jl/men/golf/polo-shirts/austin-regular-fit-polo-shirt-50054139.html?cgid=jl-men-golf-polos&dwvar_colorPattern=50054139_JLNavy_006855\"\n",
    "]\n",
    "\n",
    "\n",
    "options = webdriver.ChromeOptions()\n",
    "options.headless = True\n",
    "\n",
    "count = 1\n",
    "for url in urls:\n",
    "    driver = webdriver.Chrome(ChromeDriverManager().install(), options=options)\n",
    "    driver.get(url)\n",
    "    time.sleep(1)\n",
    "    cookie_ = driver.find_element_by_css_selector('#onetrust-accept-btn-handler')\n",
    "    driver.execute_script('arguments[0].click();', cookie_)\n",
    "    \n",
    "    ui_ = driver.find_elements_by_css_selector('.colorpattern > li > a > img')\n",
    "    time.sleep(1) \n",
    "    #첫번쨰 url 데이터\n",
    "    pro_name = driver.find_element_by_css_selector('.product-set-details-container > h1')\n",
    "    pro_color = driver.find_element_by_css_selector('.product-variations > p') \n",
    "    pro_image = driver.find_elements_by_css_selector('li.product-images__main__image > img')\n",
    "    os.makedirs('./{}'.format(pro_name.text), exist_ok=True)\n",
    "    new_string = re.sub(r\"[^a-zA-Z0-9]\",\"\",pro_color.text)\n",
    "    time.sleep(3)\n",
    "    count_ = 1\n",
    "    for i in pro_image:\n",
    "        xxx = i.get_attribute('srcset').split(',')[0].split('.jpg')[0]+'.jpg'\n",
    "        urllib.request.urlretrieve(xxx,\"{}/{}_{}.jpg\".format(pro_name.text,new_string,count_))\n",
    "        count_ += 1\n",
    "    \n",
    "    #옵션 상품 url 데이터\n",
    "    for ii in range(len(ui_)):\n",
    "        ui_ = driver.find_elements_by_css_selector('.colorpattern > li > a > img')\n",
    "        driver.execute_script('arguments[0].click();', ui_[ii])\n",
    "        time.sleep(3)\n",
    "        pro_name = driver.find_element_by_css_selector('.product-set-details-container > h1')\n",
    "        pro_color = driver.find_element_by_css_selector('.product-variations > p') \n",
    "        pro_image = driver.find_elements_by_css_selector('li.product-images__main__image > img')\n",
    "        new_color = re.sub(r\"[^a-zA-Z0-9]\",\"\",pro_color.text)\n",
    "        count__ = 1\n",
    "        for iii in pro_image:\n",
    "            yyy = iii.get_attribute('srcset').split(',')[0].split('.jpg')[0]+'.jpg'\n",
    "            urllib.request.urlretrieve(yyy,\"{}/{}_{}.jpg\".format(pro_name.text,new_color,count__))\n",
    "            print(yyy)\n",
    "            im = Image.open(\"{}/{}_{}.jpg\".format(pro_name.text,new_color,count__)).convert(\"RGB\")\n",
    "            im.save('convert.jpg')\n",
    "            input = Image.open('convert.jpg')\n",
    "            output = remove(input)\n",
    "            os.makedirs('./{}/{}'.format(pro_name.text,\"crop\"), exist_ok=True)\n",
    "            output.save(\"{}/crop/{}_{}_crop.png\".format(pro_name.text,new_color,count__))\n",
    "            count__ += 1\n",
    "    driver.quit()\n",
    "    \n",
    "    print(\"{} / {}\".format(count,len(urls)))\n",
    "    count += 1\n",
    "    print(\"fin\")    \n",
    "\n",
    "\n",
    "    "
   ]
  },
  {
   "cell_type": "code",
   "execution_count": 94,
   "id": "86afb17f",
   "metadata": {},
   "outputs": [
    {
     "name": "stderr",
     "output_type": "stream",
     "text": [
      "\n",
      "\n",
      "====== WebDriver manager ======\n",
      "Current google-chrome version is 99.0.4844\n",
      "Get LATEST chromedriver version for 99.0.4844 google-chrome\n",
      "Driver [C:\\Users\\Wook\\.wdm\\drivers\\chromedriver\\win32\\99.0.4844.51\\chromedriver.exe] found in cache\n",
      "C:\\Users\\Wook\\AppData\\Local\\Temp/ipykernel_45756/4010078525.py:21: DeprecationWarning: executable_path has been deprecated, please pass in a Service object\n",
      "  driver = webdriver.Chrome(ChromeDriverManager().install())\n",
      "C:\\Users\\Wook\\AppData\\Local\\Temp/ipykernel_45756/4010078525.py:24: DeprecationWarning: find_element_by_css_selector is deprecated. Please use find_element(by=By.CSS_SELECTOR, value=css_selector) instead\n",
      "  cookie_ = driver.find_element_by_css_selector('#onetrust-accept-btn-handler')\n",
      "C:\\Users\\Wook\\AppData\\Local\\Temp/ipykernel_45756/4010078525.py:27: DeprecationWarning: find_elements_by_css_selector is deprecated. Please use find_elements(by=By.CSS_SELECTOR, value=css_selector) instead\n",
      "  ui_ = driver.find_elements_by_css_selector('.colorpattern > li > a > img')\n",
      "C:\\Users\\Wook\\AppData\\Local\\Temp/ipykernel_45756/4010078525.py:30: DeprecationWarning: find_elements_by_css_selector is deprecated. Please use find_elements(by=By.CSS_SELECTOR, value=css_selector) instead\n",
      "  ui_ = driver.find_elements_by_css_selector('.colorpattern > li > a > img')\n",
      "C:\\Users\\Wook\\AppData\\Local\\Temp/ipykernel_45756/4010078525.py:33: DeprecationWarning: find_element_by_css_selector is deprecated. Please use find_element(by=By.CSS_SELECTOR, value=css_selector) instead\n",
      "  pro_name = driver.find_element_by_css_selector('.product-set-details-container > h1')\n",
      "C:\\Users\\Wook\\AppData\\Local\\Temp/ipykernel_45756/4010078525.py:34: DeprecationWarning: find_element_by_css_selector is deprecated. Please use find_element(by=By.CSS_SELECTOR, value=css_selector) instead\n",
      "  pro_color = driver.find_element_by_css_selector('.product-variations > p')\n",
      "C:\\Users\\Wook\\AppData\\Local\\Temp/ipykernel_45756/4010078525.py:35: DeprecationWarning: find_elements_by_css_selector is deprecated. Please use find_elements(by=By.CSS_SELECTOR, value=css_selector) instead\n",
      "  pro_image = driver.find_elements_by_css_selector('li.product-images__main__image > img')\n"
     ]
    },
    {
     "name": "stdout",
     "output_type": "stream",
     "text": [
      "1 / 1\n",
      "fin\n"
     ]
    }
   ],
   "source": [
    "\n",
    "    "
   ]
  },
  {
   "cell_type": "code",
   "execution_count": null,
   "id": "ec3ba4db",
   "metadata": {},
   "outputs": [],
   "source": []
  }
 ],
 "metadata": {
  "kernelspec": {
   "display_name": "Python 3 (ipykernel)",
   "language": "python",
   "name": "python3"
  },
  "language_info": {
   "codemirror_mode": {
    "name": "ipython",
    "version": 3
   },
   "file_extension": ".py",
   "mimetype": "text/x-python",
   "name": "python",
   "nbconvert_exporter": "python",
   "pygments_lexer": "ipython3",
   "version": "3.9.7"
  }
 },
 "nbformat": 4,
 "nbformat_minor": 5
}
