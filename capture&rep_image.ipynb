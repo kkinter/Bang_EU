{
 "cells": [
  {
   "cell_type": "code",
   "execution_count": null,
   "id": "fe80883b",
   "metadata": {},
   "outputs": [],
   "source": []
  },
  {
   "cell_type": "code",
   "execution_count": 15,
   "id": "df7f8e6f",
   "metadata": {},
   "outputs": [
    {
     "name": "stderr",
     "output_type": "stream",
     "text": [
      "\n",
      "\n",
      "====== WebDriver manager ======\n",
      "Current google-chrome version is 102.0.5005\n",
      "Get LATEST chromedriver version for 102.0.5005 google-chrome\n",
      "Driver [C:\\Users\\Wook\\.wdm\\drivers\\chromedriver\\win32\\102.0.5005.61\\chromedriver.exe] found in cache\n",
      "C:\\Users\\Wook\\AppData\\Local\\Temp/ipykernel_78244/3187650273.py:26: DeprecationWarning: executable_path has been deprecated, please pass in a Service object\n",
      "  driver = webdriver.Chrome(ChromeDriverManager().install(), options=options)\n",
      "C:\\Users\\Wook\\AppData\\Local\\Temp/ipykernel_78244/3187650273.py:42: DeprecationWarning: find_element_by_xpath is deprecated. Please use find_element(by=By.XPATH, value=xpath) instead\n",
      "  element2 = driver.find_element_by_xpath(\"//*[contains(text(), '동일한 제품')]\")\n",
      "C:\\Users\\Wook\\AppData\\Local\\Temp/ipykernel_78244/3187650273.py:52: DeprecationWarning: find_element_by_css_selector is deprecated. Please use find_element(by=By.CSS_SELECTOR, value=css_selector) instead\n",
      "  driver.find_element_by_css_selector('._9F9CWn02VE > div:nth-child(1) > div:nth-child(1) > div:nth-child(1) > div:nth-child(1)').screenshot('origin '+str(i)+'.png')\n"
     ]
    },
    {
     "ename": "SystemError",
     "evalue": "tile cannot extend outside image",
     "output_type": "error",
     "traceback": [
      "\u001b[1;31m---------------------------------------------------------------------------\u001b[0m",
      "\u001b[1;31mAttributeError\u001b[0m                            Traceback (most recent call last)",
      "\u001b[1;32m~\\Anaconda3\\lib\\site-packages\\PIL\\ImageFile.py\u001b[0m in \u001b[0;36m_save\u001b[1;34m(im, fp, tile, bufsize)\u001b[0m\n\u001b[0;32m    494\u001b[0m     \u001b[1;32mtry\u001b[0m\u001b[1;33m:\u001b[0m\u001b[1;33m\u001b[0m\u001b[1;33m\u001b[0m\u001b[0m\n\u001b[1;32m--> 495\u001b[1;33m         \u001b[0mfh\u001b[0m \u001b[1;33m=\u001b[0m \u001b[0mfp\u001b[0m\u001b[1;33m.\u001b[0m\u001b[0mfileno\u001b[0m\u001b[1;33m(\u001b[0m\u001b[1;33m)\u001b[0m\u001b[1;33m\u001b[0m\u001b[1;33m\u001b[0m\u001b[0m\n\u001b[0m\u001b[0;32m    496\u001b[0m         \u001b[0mfp\u001b[0m\u001b[1;33m.\u001b[0m\u001b[0mflush\u001b[0m\u001b[1;33m(\u001b[0m\u001b[1;33m)\u001b[0m\u001b[1;33m\u001b[0m\u001b[1;33m\u001b[0m\u001b[0m\n",
      "\u001b[1;31mAttributeError\u001b[0m: '_idat' object has no attribute 'fileno'",
      "\nDuring handling of the above exception, another exception occurred:\n",
      "\u001b[1;31mSystemError\u001b[0m                               Traceback (most recent call last)",
      "\u001b[1;32m~\\AppData\\Local\\Temp/ipykernel_78244/3187650273.py\u001b[0m in \u001b[0;36m<module>\u001b[1;34m\u001b[0m\n\u001b[0;32m     56\u001b[0m     \u001b[0my\u001b[0m \u001b[1;33m=\u001b[0m \u001b[0mimage1\u001b[0m\u001b[1;33m.\u001b[0m\u001b[0msize\u001b[0m\u001b[1;33m[\u001b[0m\u001b[1;36m1\u001b[0m\u001b[1;33m]\u001b[0m\u001b[1;33m\u001b[0m\u001b[1;33m\u001b[0m\u001b[0m\n\u001b[0;32m     57\u001b[0m     \u001b[0mcrop_img\u001b[0m \u001b[1;33m=\u001b[0m \u001b[0mimage1\u001b[0m\u001b[1;33m.\u001b[0m\u001b[0mcrop\u001b[0m\u001b[1;33m(\u001b[0m\u001b[1;33m(\u001b[0m\u001b[1;36m0\u001b[0m\u001b[1;33m,\u001b[0m\u001b[1;36m0\u001b[0m\u001b[1;33m,\u001b[0m\u001b[1;36m1020\u001b[0m\u001b[1;33m,\u001b[0m\u001b[0my\u001b[0m\u001b[1;33m-\u001b[0m\u001b[1;36m3000\u001b[0m\u001b[1;33m)\u001b[0m\u001b[1;33m)\u001b[0m\u001b[1;33m\u001b[0m\u001b[1;33m\u001b[0m\u001b[0m\n\u001b[1;32m---> 58\u001b[1;33m     \u001b[0mcrop_img\u001b[0m\u001b[1;33m.\u001b[0m\u001b[0msave\u001b[0m\u001b[1;33m(\u001b[0m\u001b[0mstr\u001b[0m\u001b[1;33m(\u001b[0m\u001b[0mi\u001b[0m\u001b[1;33m)\u001b[0m\u001b[1;33m+\u001b[0m\u001b[1;34m'.png'\u001b[0m\u001b[1;33m)\u001b[0m\u001b[1;33m\u001b[0m\u001b[1;33m\u001b[0m\u001b[0m\n\u001b[0m\u001b[0;32m     59\u001b[0m \u001b[1;31m#---------------------------------------------------------------------------------------------------------------------------------------\u001b[0m\u001b[1;33m\u001b[0m\u001b[1;33m\u001b[0m\u001b[0m\n\u001b[0;32m     60\u001b[0m \u001b[1;31m# 동적인 이미지를 선택하고, 이미지를 추출 후 저장\u001b[0m\u001b[1;33m\u001b[0m\u001b[1;33m\u001b[0m\u001b[0m\n",
      "\u001b[1;32m~\\Anaconda3\\lib\\site-packages\\PIL\\Image.py\u001b[0m in \u001b[0;36msave\u001b[1;34m(self, fp, format, **params)\u001b[0m\n\u001b[0;32m   2210\u001b[0m \u001b[1;33m\u001b[0m\u001b[0m\n\u001b[0;32m   2211\u001b[0m         \u001b[1;32mtry\u001b[0m\u001b[1;33m:\u001b[0m\u001b[1;33m\u001b[0m\u001b[1;33m\u001b[0m\u001b[0m\n\u001b[1;32m-> 2212\u001b[1;33m             \u001b[0msave_handler\u001b[0m\u001b[1;33m(\u001b[0m\u001b[0mself\u001b[0m\u001b[1;33m,\u001b[0m \u001b[0mfp\u001b[0m\u001b[1;33m,\u001b[0m \u001b[0mfilename\u001b[0m\u001b[1;33m)\u001b[0m\u001b[1;33m\u001b[0m\u001b[1;33m\u001b[0m\u001b[0m\n\u001b[0m\u001b[0;32m   2213\u001b[0m         \u001b[1;32mfinally\u001b[0m\u001b[1;33m:\u001b[0m\u001b[1;33m\u001b[0m\u001b[1;33m\u001b[0m\u001b[0m\n\u001b[0;32m   2214\u001b[0m             \u001b[1;31m# do what we can to clean up\u001b[0m\u001b[1;33m\u001b[0m\u001b[1;33m\u001b[0m\u001b[0m\n",
      "\u001b[1;32m~\\Anaconda3\\lib\\site-packages\\PIL\\PngImagePlugin.py\u001b[0m in \u001b[0;36m_save\u001b[1;34m(im, fp, filename, chunk, save_all)\u001b[0m\n\u001b[0;32m   1346\u001b[0m         \u001b[0m_write_multiple_frames\u001b[0m\u001b[1;33m(\u001b[0m\u001b[0mim\u001b[0m\u001b[1;33m,\u001b[0m \u001b[0mfp\u001b[0m\u001b[1;33m,\u001b[0m \u001b[0mchunk\u001b[0m\u001b[1;33m,\u001b[0m \u001b[0mrawmode\u001b[0m\u001b[1;33m)\u001b[0m\u001b[1;33m\u001b[0m\u001b[1;33m\u001b[0m\u001b[0m\n\u001b[0;32m   1347\u001b[0m     \u001b[1;32melse\u001b[0m\u001b[1;33m:\u001b[0m\u001b[1;33m\u001b[0m\u001b[1;33m\u001b[0m\u001b[0m\n\u001b[1;32m-> 1348\u001b[1;33m         \u001b[0mImageFile\u001b[0m\u001b[1;33m.\u001b[0m\u001b[0m_save\u001b[0m\u001b[1;33m(\u001b[0m\u001b[0mim\u001b[0m\u001b[1;33m,\u001b[0m \u001b[0m_idat\u001b[0m\u001b[1;33m(\u001b[0m\u001b[0mfp\u001b[0m\u001b[1;33m,\u001b[0m \u001b[0mchunk\u001b[0m\u001b[1;33m)\u001b[0m\u001b[1;33m,\u001b[0m \u001b[1;33m[\u001b[0m\u001b[1;33m(\u001b[0m\u001b[1;34m\"zip\"\u001b[0m\u001b[1;33m,\u001b[0m \u001b[1;33m(\u001b[0m\u001b[1;36m0\u001b[0m\u001b[1;33m,\u001b[0m \u001b[1;36m0\u001b[0m\u001b[1;33m)\u001b[0m \u001b[1;33m+\u001b[0m \u001b[0mim\u001b[0m\u001b[1;33m.\u001b[0m\u001b[0msize\u001b[0m\u001b[1;33m,\u001b[0m \u001b[1;36m0\u001b[0m\u001b[1;33m,\u001b[0m \u001b[0mrawmode\u001b[0m\u001b[1;33m)\u001b[0m\u001b[1;33m]\u001b[0m\u001b[1;33m)\u001b[0m\u001b[1;33m\u001b[0m\u001b[1;33m\u001b[0m\u001b[0m\n\u001b[0m\u001b[0;32m   1349\u001b[0m \u001b[1;33m\u001b[0m\u001b[0m\n\u001b[0;32m   1350\u001b[0m     \u001b[1;32mif\u001b[0m \u001b[0minfo\u001b[0m\u001b[1;33m:\u001b[0m\u001b[1;33m\u001b[0m\u001b[1;33m\u001b[0m\u001b[0m\n",
      "\u001b[1;32m~\\Anaconda3\\lib\\site-packages\\PIL\\ImageFile.py\u001b[0m in \u001b[0;36m_save\u001b[1;34m(im, fp, tile, bufsize)\u001b[0m\n\u001b[0;32m    501\u001b[0m             \u001b[1;32mif\u001b[0m \u001b[0mo\u001b[0m \u001b[1;33m>\u001b[0m \u001b[1;36m0\u001b[0m\u001b[1;33m:\u001b[0m\u001b[1;33m\u001b[0m\u001b[1;33m\u001b[0m\u001b[0m\n\u001b[0;32m    502\u001b[0m                 \u001b[0mfp\u001b[0m\u001b[1;33m.\u001b[0m\u001b[0mseek\u001b[0m\u001b[1;33m(\u001b[0m\u001b[0mo\u001b[0m\u001b[1;33m)\u001b[0m\u001b[1;33m\u001b[0m\u001b[1;33m\u001b[0m\u001b[0m\n\u001b[1;32m--> 503\u001b[1;33m             \u001b[0me\u001b[0m\u001b[1;33m.\u001b[0m\u001b[0msetimage\u001b[0m\u001b[1;33m(\u001b[0m\u001b[0mim\u001b[0m\u001b[1;33m.\u001b[0m\u001b[0mim\u001b[0m\u001b[1;33m,\u001b[0m \u001b[0mb\u001b[0m\u001b[1;33m)\u001b[0m\u001b[1;33m\u001b[0m\u001b[1;33m\u001b[0m\u001b[0m\n\u001b[0m\u001b[0;32m    504\u001b[0m             \u001b[1;32mif\u001b[0m \u001b[0me\u001b[0m\u001b[1;33m.\u001b[0m\u001b[0mpushes_fd\u001b[0m\u001b[1;33m:\u001b[0m\u001b[1;33m\u001b[0m\u001b[1;33m\u001b[0m\u001b[0m\n\u001b[0;32m    505\u001b[0m                 \u001b[0me\u001b[0m\u001b[1;33m.\u001b[0m\u001b[0msetfd\u001b[0m\u001b[1;33m(\u001b[0m\u001b[0mfp\u001b[0m\u001b[1;33m)\u001b[0m\u001b[1;33m\u001b[0m\u001b[1;33m\u001b[0m\u001b[0m\n",
      "\u001b[1;31mSystemError\u001b[0m: tile cannot extend outside image"
     ]
    }
   ],
   "source": [
    "from selenium import webdriver\n",
    "from selenium.webdriver import ActionChains\n",
    "from selenium.webdriver.common.by import By\n",
    "from webdriver_manager.chrome import ChromeDriverManager\n",
    "from PIL import Image\n",
    "import time\n",
    "import os\n",
    "import urllib.request\n",
    "\n",
    "#---------------------------------------------------------------------------------------------------------------------------------------\n",
    "#옵션 headless\n",
    "options = webdriver.ChromeOptions()\n",
    "# options.headless = True\n",
    "\n",
    "List_1 = [\n",
    "6708516695,\n",
    "6708496394\n",
    "]\n",
    "\n",
    "#---------------------------------------------------------------------------------------------------------------------------------------\n",
    "# URL 접근 및 스크롤\n",
    "count = 1\n",
    " \n",
    "for i in List_1:\n",
    "    URL = 'https://smartstore.naver.com/europeinroom/products/'+str(i)\n",
    "    driver = webdriver.Chrome(ChromeDriverManager().install(), options=options)\n",
    "    driver.get(URL)\n",
    "    S = lambda X: driver.execute_script('return document.body.parentNode.scroll'+X) # 스크롤 하고 스크롤 크기 가져오는 ?\n",
    "    time.sleep(1)\n",
    "    driver.set_window_size(S(\"Width\"),S('Height')+5000) # May need manual adjustment\n",
    "    time.sleep(7)    \n",
    "#---------------------------------------------------------------------------------------------------------------------------------------\n",
    "# 링크 제거\n",
    "    driver.execute_script(\"\"\"\n",
    "    var element = document.getElementsByClassName(\"se-component se-oglink se-l-large_image __se-component\")[0];\n",
    "    if (element)\n",
    "        element.parentNode.removeChild(element);\n",
    "    \"\"\")\n",
    "#---------------------------------------------------------------------------------------------------------------------------------------\n",
    "# 특정한 텍스트가 포함되어 있을 때, 제거\n",
    "    try:\n",
    "        element2 = driver.find_element_by_xpath(\"//*[contains(text(), '동일한 제품')]\")     \n",
    "        driver.execute_script(\"\"\"\n",
    "        var element2 = arguments[0];\n",
    "        if (element2)\n",
    "        element2.parentNode.removeChild(element2);\n",
    "        \"\"\",element2)\n",
    "    except Exception:\n",
    "        pass\n",
    "#---------------------------------------------------------------------------------------------------------------------------------------\n",
    "# 특정 요소를 택하여 스크린샷 \n",
    "    driver.find_element_by_css_selector('._9F9CWn02VE > div:nth-child(1) > div:nth-child(1) > div:nth-child(1) > div:nth-child(1)').screenshot('origin '+str(i)+'.png')\n",
    "#---------------------------------------------------------------------------------------------------------------------------------------\n",
    "# 이미지를 자른 후, 저장\n",
    "    image1 = Image.open('origin '+str(i)+'.png')\n",
    "    y = image1.size[1]\n",
    "    crop_img = image1.crop((0,0,1020,y-3000))\n",
    "    crop_img.save(str(i)+'.png')  \n",
    "#---------------------------------------------------------------------------------------------------------------------------------------\n",
    "# 동적인 이미지를 선택하고, 이미지를 추출 후 저장 \n",
    "    s = driver.find_elements_by_css_selector('._2Yq5J2HeBn > li')\n",
    "    z = driver.find_element_by_css_selector('._23RpOU6xpc')\n",
    "\n",
    "    for m in range(len(s)):\n",
    "        webdriver.ActionChains(driver).move_to_element(s[m]).perform()\n",
    "        time.sleep(0.05) \n",
    "        webdriver.ActionChains(driver).move_to_element(z).perform()\n",
    "     \n",
    "    q = driver.find_elements_by_css_selector('._37ptkngDmo > img')\n",
    "\n",
    "    count1 = 1\n",
    "    for xx in q: \n",
    "        print(xx.get_attribute('src'))\n",
    "        urllib.request.urlretrieve(xx.get_attribute('src'),'{}_{}.png'.format(str(i),count1))\n",
    "        count1 +=1\n",
    "#---------------------------------------------------------------------------------------------------------------------------------------\n",
    "# 진행상황 출력    \n",
    "    \n",
    "    print('{} / {} - {}'.format(count,len(List_1),i))\n",
    "    count += 1\n",
    "    \n",
    "driver.quit()"
   ]
  },
  {
   "cell_type": "code",
   "execution_count": 1,
   "id": "46bed4fb",
   "metadata": {
    "scrolled": true
   },
   "outputs": [
    {
     "name": "stderr",
     "output_type": "stream",
     "text": [
      "\n",
      "\n",
      "====== WebDriver manager ======\n",
      "Current google-chrome version is 102.0.5005\n",
      "Get LATEST chromedriver version for 102.0.5005 google-chrome\n",
      "Driver [C:\\Users\\Wook\\.wdm\\drivers\\chromedriver\\win32\\102.0.5005.61\\chromedriver.exe] found in cache\n",
      "C:\\Users\\Wook\\AppData\\Local\\Temp/ipykernel_75040/1811844498.py:73: DeprecationWarning: executable_path has been deprecated, please pass in a Service object\n",
      "  driver = webdriver.Chrome(ChromeDriverManager().install(), options=options)\n",
      "C:\\Users\\Wook\\AppData\\Local\\Temp/ipykernel_75040/1811844498.py:81: DeprecationWarning: find_element_by_css_selector is deprecated. Please use find_element(by=By.CSS_SELECTOR, value=css_selector) instead\n",
      "  driver.find_element_by_css_selector('._9F9CWn02VE > div:nth-child(1) > div:nth-child(1) > div:nth-child(1) > div:nth-child(1)').screenshot('origin '+str(i)+'.png')\n",
      "C:\\Users\\Wook\\AppData\\Local\\Temp/ipykernel_75040/1811844498.py:89: DeprecationWarning: find_elements_by_css_selector is deprecated. Please use find_elements(by=By.CSS_SELECTOR, value=css_selector) instead\n",
      "  s = driver.find_elements_by_css_selector('._2Yq5J2HeBn > li')\n",
      "C:\\Users\\Wook\\AppData\\Local\\Temp/ipykernel_75040/1811844498.py:90: DeprecationWarning: find_element_by_css_selector is deprecated. Please use find_element(by=By.CSS_SELECTOR, value=css_selector) instead\n",
      "  z = driver.find_element_by_css_selector('._23RpOU6xpc')\n",
      "C:\\Users\\Wook\\AppData\\Local\\Temp/ipykernel_75040/1811844498.py:97: DeprecationWarning: find_elements_by_css_selector is deprecated. Please use find_elements(by=By.CSS_SELECTOR, value=css_selector) instead\n",
      "  q = driver.find_elements_by_css_selector('._37ptkngDmo > img')\n"
     ]
    },
    {
     "name": "stdout",
     "output_type": "stream",
     "text": [
      "https://shop-phinf.pstatic.net/20220329_220/1648551181949w3Q9x_JPEG/49687024656340109_1019270783.jpg?type=m10000_10000_no_rotate\n",
      "https://shop-phinf.pstatic.net/20220329_85/16485511965684rXc0_JPEG/49687039038885447_2111378096.jpg?type=m10000_10000_no_rotate\n",
      "https://shop-phinf.pstatic.net/20220329_173/1648551196848mj5Pz_JPEG/49687039538501121_323830165.jpg?type=m10000_10000_no_rotate\n",
      "https://shop-phinf.pstatic.net/20220329_253/1648551197037bXzkl_JPEG/49687039733555535_1627149705.jpg?type=m10000_10000_no_rotate\n",
      "https://shop-phinf.pstatic.net/20220329_137/1648550178099tLGo7_JPEG/49685961814292807_1115265685.jpg?type=m10000_10000_no_rotate\n",
      "https://shop-phinf.pstatic.net/20220329_192/1648551197416GmAyw_JPEG/49687039968835930_1498425731.jpg?type=m10000_10000_no_rotate\n",
      "https://shop-phinf.pstatic.net/20220329_115/1648551197592tRKMQ_JPEG/49687040284879000_1301685270.jpg?type=m10000_10000_no_rotate\n",
      "https://shop-phinf.pstatic.net/20220329_86/1648551197768Wgtq1_JPEG/49687040465716717_1810146141.jpg?type=m10000_10000_no_rotate\n",
      "1 / 50 - 6475794040\n"
     ]
    },
    {
     "name": "stderr",
     "output_type": "stream",
     "text": [
      "\n",
      "\n",
      "====== WebDriver manager ======\n",
      "Current google-chrome version is 102.0.5005\n",
      "Get LATEST chromedriver version for 102.0.5005 google-chrome\n",
      "Driver [C:\\Users\\Wook\\.wdm\\drivers\\chromedriver\\win32\\102.0.5005.61\\chromedriver.exe] found in cache\n"
     ]
    },
    {
     "name": "stdout",
     "output_type": "stream",
     "text": [
      "https://shop-phinf.pstatic.net/20220329_247/1648550947882I9xr1_JPEG/49686790367605406_493615067.jpg?type=m10000_10000_no_rotate\n",
      "https://shop-phinf.pstatic.net/20220329_275/1648551062610QrNH9_JPEG/49686905317787710_286586915.jpg?type=m10000_10000_no_rotate\n",
      "https://shop-phinf.pstatic.net/20220329_108/1648550169127yrL5D_JPEG/49685952841887754_31938785.jpg?type=m10000_10000_no_rotate\n",
      "https://shop-phinf.pstatic.net/20220329_127/1648551062703Od45u_JPEG/49686905415916614_601080784.jpg?type=m10000_10000_no_rotate\n",
      "https://shop-phinf.pstatic.net/20220329_196/1648551062865C6eFT_JPEG/49686905572427463_1920766026.jpg?type=m10000_10000_no_rotate\n",
      "https://shop-phinf.pstatic.net/20220329_22/1648551062947zX6qn_JPEG/49686905658301747_209302662.jpg?type=m10000_10000_no_rotate\n",
      "2 / 50 - 6475784487\n"
     ]
    },
    {
     "name": "stderr",
     "output_type": "stream",
     "text": [
      "\n",
      "\n",
      "====== WebDriver manager ======\n",
      "Current google-chrome version is 102.0.5005\n",
      "Get LATEST chromedriver version for 102.0.5005 google-chrome\n",
      "Driver [C:\\Users\\Wook\\.wdm\\drivers\\chromedriver\\win32\\102.0.5005.61\\chromedriver.exe] found in cache\n"
     ]
    },
    {
     "name": "stdout",
     "output_type": "stream",
     "text": [
      "https://shop-phinf.pstatic.net/20220329_57/1648551131132Hz3JJ_JPEG/49686973845390968_611105547.jpg?type=m10000_10000_no_rotate\n",
      "https://shop-phinf.pstatic.net/20220329_276/16485509589939Pq6R_JPEG/49686801703705239_1087976299.jpg?type=m10000_10000_no_rotate\n",
      "https://shop-phinf.pstatic.net/20220329_239/1648550959101gaQEv_JPEG/49686801811164726_1244138445.jpg?type=m10000_10000_no_rotate\n",
      "https://shop-phinf.pstatic.net/20220329_235/16485509592338Txbt_JPEG/49686801940002547_1953813539.jpg?type=m10000_10000_no_rotate\n",
      "https://shop-phinf.pstatic.net/20220329_71/1648550159691o3ULw_JPEG/49685943398636662_159869402.jpg?type=m10000_10000_no_rotate\n",
      "https://shop-phinf.pstatic.net/20220329_300/1648550959391X0dxV_JPEG/49686802104543711_457488097.jpg?type=m10000_10000_no_rotate\n",
      "https://shop-phinf.pstatic.net/20220329_52/16485509595046pmgp_JPEG/49686802213757173_1693318686.jpg?type=m10000_10000_no_rotate\n",
      "https://shop-phinf.pstatic.net/20220329_77/1648550959686Mq1FV_JPEG/49686802397390384_355615303.jpg?type=m10000_10000_no_rotate\n",
      "3 / 50 - 6475778863\n"
     ]
    },
    {
     "name": "stderr",
     "output_type": "stream",
     "text": [
      "\n",
      "\n",
      "====== WebDriver manager ======\n",
      "Current google-chrome version is 102.0.5005\n",
      "Get LATEST chromedriver version for 102.0.5005 google-chrome\n",
      "Driver [C:\\Users\\Wook\\.wdm\\drivers\\chromedriver\\win32\\102.0.5005.61\\chromedriver.exe] found in cache\n"
     ]
    },
    {
     "name": "stdout",
     "output_type": "stream",
     "text": [
      "https://shop-phinf.pstatic.net/20220329_59/16485508478590xSFg_JPEG/49686690574818091_324074803.jpg?type=m10000_10000_no_rotate\n",
      "https://shop-phinf.pstatic.net/20220329_17/1648550860848gs6uH_JPEG/49686703559257517_381184362.jpg?type=m10000_10000_no_rotate\n",
      "https://shop-phinf.pstatic.net/20220329_229/1648550860945p1gfo_JPEG/49686703653600228_773315850.jpg?type=m10000_10000_no_rotate\n",
      "https://shop-phinf.pstatic.net/20220329_111/1648550861056Xjxue_JPEG/49686703768970981_158980578.jpg?type=m10000_10000_no_rotate\n",
      "https://shop-phinf.pstatic.net/20220329_252/1648550148387Eeb7c_JPEG/49685932101963582_2130496554.jpg?type=m10000_10000_no_rotate\n",
      "https://shop-phinf.pstatic.net/20220329_247/1648550861215wRgzV_JPEG/49686703928453854_1393063846.jpg?type=m10000_10000_no_rotate\n",
      "https://shop-phinf.pstatic.net/20220329_203/16485508613630I9Gv_JPEG/49686704067308015_1333920293.jpg?type=m10000_10000_no_rotate\n",
      "https://shop-phinf.pstatic.net/20220329_222/1648550861479pLqPO_JPEG/49686704159359376_925162342.jpg?type=m10000_10000_no_rotate\n",
      "4 / 50 - 6475772998\n"
     ]
    },
    {
     "name": "stderr",
     "output_type": "stream",
     "text": [
      "\n",
      "\n",
      "====== WebDriver manager ======\n",
      "Current google-chrome version is 102.0.5005\n",
      "Get LATEST chromedriver version for 102.0.5005 google-chrome\n",
      "Driver [C:\\Users\\Wook\\.wdm\\drivers\\chromedriver\\win32\\102.0.5005.61\\chromedriver.exe] found in cache\n"
     ]
    },
    {
     "name": "stdout",
     "output_type": "stream",
     "text": [
      "https://shop-phinf.pstatic.net/20220329_234/1648550737648ap4O7_JPEG/49686580356929211_556945764.jpg?type=m10000_10000_no_rotate\n",
      "https://shop-phinf.pstatic.net/20220329_140/16485507490014P9pS_JPEG/49686591702837129_159152628.jpg?type=m10000_10000_no_rotate\n",
      "https://shop-phinf.pstatic.net/20220329_71/1648550749231aKr4O_JPEG/49686591928193583_1542089062.jpg?type=m10000_10000_no_rotate\n",
      "https://shop-phinf.pstatic.net/20220329_221/1648550139072UdI4v_JPEG/49685922786249994_13338603.jpg?type=m10000_10000_no_rotate\n",
      "https://shop-phinf.pstatic.net/20220329_156/1648550749414HO6zu_JPEG/49686592109050121_849781918.jpg?type=m10000_10000_no_rotate\n",
      "https://shop-phinf.pstatic.net/20220329_232/1648550749600jDV0V_JPEG/49686592297172356_501893554.jpg?type=m10000_10000_no_rotate\n",
      "https://shop-phinf.pstatic.net/20220329_252/1648550749783ez8fe_JPEG/49686592470272642_2120668824.jpg?type=m10000_10000_no_rotate\n",
      "5 / 50 - 6475760526\n"
     ]
    },
    {
     "name": "stderr",
     "output_type": "stream",
     "text": [
      "\n",
      "\n",
      "====== WebDriver manager ======\n",
      "Current google-chrome version is 102.0.5005\n",
      "Get LATEST chromedriver version for 102.0.5005 google-chrome\n",
      "Driver [C:\\Users\\Wook\\.wdm\\drivers\\chromedriver\\win32\\102.0.5005.61\\chromedriver.exe] found in cache\n"
     ]
    },
    {
     "name": "stdout",
     "output_type": "stream",
     "text": [
      "https://shop-phinf.pstatic.net/20220329_242/1648550582403R2V5B_JPEG/49686424435399330_1191984804.jpg?type=m10000_10000_no_rotate\n",
      "https://shop-phinf.pstatic.net/20220329_295/1648550593373y8Ekz_JPEG/49686436068421183_1033715893.jpg?type=m10000_10000_no_rotate\n",
      "https://shop-phinf.pstatic.net/20220329_172/1648550593637vghou_JPEG/49686436316388576_1421147142.jpg?type=m10000_10000_no_rotate\n",
      "https://shop-phinf.pstatic.net/20220329_70/1648549917144xXY57_JPEG/49685744972217613_253161792.jpg?type=m10000_10000_no_rotate\n",
      "https://shop-phinf.pstatic.net/20220329_113/16485505938252oqFL_JPEG/49686436518365132_958170318.jpg?type=m10000_10000_no_rotate\n",
      "https://shop-phinf.pstatic.net/20220329_163/1648550594004txhBw_JPEG/49686436700014290_1783518583.jpg?type=m10000_10000_no_rotate\n",
      "https://shop-phinf.pstatic.net/20220329_254/1648550594214nF4wK_JPEG/49686436903329765_757634723.jpg?type=m10000_10000_no_rotate\n",
      "6 / 50 - 6475748348\n"
     ]
    },
    {
     "name": "stderr",
     "output_type": "stream",
     "text": [
      "\n",
      "\n",
      "====== WebDriver manager ======\n",
      "Current google-chrome version is 102.0.5005\n",
      "Get LATEST chromedriver version for 102.0.5005 google-chrome\n",
      "Driver [C:\\Users\\Wook\\.wdm\\drivers\\chromedriver\\win32\\102.0.5005.61\\chromedriver.exe] found in cache\n"
     ]
    },
    {
     "name": "stdout",
     "output_type": "stream",
     "text": [
      "https://shop-phinf.pstatic.net/20220329_76/1648549762979Ucx5j_JPEG/49685542693233056_2049622242.jpg?type=m10000_10000_no_rotate\n",
      "https://shop-phinf.pstatic.net/20220329_222/1648549785362fRV3I_JPEG/49685565075837992_250907912.jpg?type=m10000_10000_no_rotate\n",
      "https://shop-phinf.pstatic.net/20220329_192/1648549785604obIO4_JPEG/49685565312555727_1265826168.jpg?type=m10000_10000_no_rotate\n",
      "https://shop-phinf.pstatic.net/20220329_129/1648548503874fDEpp_JPEG/49684337692084485_504412260.jpg?type=m10000_10000_no_rotate\n",
      "https://shop-phinf.pstatic.net/20220329_107/1648549785847qJmBJ_JPEG/49685565550423376_475099687.jpg?type=m10000_10000_no_rotate\n",
      "https://shop-phinf.pstatic.net/20220329_51/1648549786082HuY7D_JPEG/49685565791934294_131521347.jpg?type=m10000_10000_no_rotate\n",
      "https://shop-phinf.pstatic.net/20220329_127/1648549786322kEfYM_JPEG/49685566019788058_1316701865.jpg?type=m10000_10000_no_rotate\n",
      "7 / 50 - 6475666312\n"
     ]
    },
    {
     "name": "stderr",
     "output_type": "stream",
     "text": [
      "\n",
      "\n",
      "====== WebDriver manager ======\n",
      "Current google-chrome version is 102.0.5005\n",
      "Get LATEST chromedriver version for 102.0.5005 google-chrome\n",
      "Driver [C:\\Users\\Wook\\.wdm\\drivers\\chromedriver\\win32\\102.0.5005.61\\chromedriver.exe] found in cache\n"
     ]
    },
    {
     "name": "stdout",
     "output_type": "stream",
     "text": [
      "https://shop-phinf.pstatic.net/20220329_111/1648549650261yiIro_JPEG/49685429978708817_2095295562.jpg?type=m10000_10000_no_rotate\n",
      "https://shop-phinf.pstatic.net/20220329_260/1648549667296OCfwV_JPEG/49685446669836983_1021700609.jpg?type=m10000_10000_no_rotate\n",
      "https://shop-phinf.pstatic.net/20220329_30/1648549667845LTm92_JPEG/49685447251706050_1538847647.jpg?type=m10000_10000_no_rotate\n",
      "https://shop-phinf.pstatic.net/20220329_43/1648548491779Jx10A_JPEG/49684325598180377_14455456.jpg?type=m10000_10000_no_rotate\n",
      "https://shop-phinf.pstatic.net/20220329_130/1648549668015ho7S9_JPEG/49685447724175520_316255830.jpg?type=m10000_10000_no_rotate\n",
      "https://shop-phinf.pstatic.net/20220329_221/1648549668170uoYlf_JPEG/49685447875452429_1640725908.jpg?type=m10000_10000_no_rotate\n",
      "https://shop-phinf.pstatic.net/20220329_273/1648549668432YgYU4_JPEG/49685448130140835_1879428181.jpg?type=m10000_10000_no_rotate\n",
      "8 / 50 - 6475656327\n"
     ]
    },
    {
     "name": "stderr",
     "output_type": "stream",
     "text": [
      "\n",
      "\n",
      "====== WebDriver manager ======\n",
      "Current google-chrome version is 102.0.5005\n",
      "Get LATEST chromedriver version for 102.0.5005 google-chrome\n",
      "Driver [C:\\Users\\Wook\\.wdm\\drivers\\chromedriver\\win32\\102.0.5005.61\\chromedriver.exe] found in cache\n"
     ]
    },
    {
     "name": "stdout",
     "output_type": "stream",
     "text": [
      "https://shop-phinf.pstatic.net/20220329_237/164854950996615JJY_JPEG/49685289187853812_653242645.jpg?type=m10000_10000_no_rotate\n",
      "https://shop-phinf.pstatic.net/20220329_200/1648549525610TRV56_JPEG/49685305305043239_449626857.jpg?type=m10000_10000_no_rotate\n",
      "https://shop-phinf.pstatic.net/20220329_100/1648549525804rnERn_JPEG/49685305495253738_2129889131.jpg?type=m10000_10000_no_rotate\n",
      "https://shop-phinf.pstatic.net/20220329_44/1648549526100OJXAc_JPEG/49685305809491476_1413879579.jpg?type=m10000_10000_no_rotate\n",
      "https://shop-phinf.pstatic.net/20220329_290/16485484824108M7N0_JPEG/49684316229590712_1761415040.jpg?type=m10000_10000_no_rotate\n",
      "https://shop-phinf.pstatic.net/20220329_276/1648549526291fq8Qd_JPEG/49685305992481908_712614433.jpg?type=m10000_10000_no_rotate\n",
      "https://shop-phinf.pstatic.net/20220329_114/1648549526533RWi0d_JPEG/49685306232607629_954368152.jpg?type=m10000_10000_no_rotate\n",
      "https://shop-phinf.pstatic.net/20220329_156/1648549527158GXx1r_JPEG/49685306442287904_56329024.jpg?type=m10000_10000_no_rotate\n",
      "9 / 50 - 6475643370\n"
     ]
    },
    {
     "name": "stderr",
     "output_type": "stream",
     "text": [
      "\n",
      "\n",
      "====== WebDriver manager ======\n",
      "Current google-chrome version is 102.0.5005\n",
      "Get LATEST chromedriver version for 102.0.5005 google-chrome\n",
      "Driver [C:\\Users\\Wook\\.wdm\\drivers\\chromedriver\\win32\\102.0.5005.61\\chromedriver.exe] found in cache\n"
     ]
    },
    {
     "name": "stdout",
     "output_type": "stream",
     "text": [
      "https://shop-phinf.pstatic.net/20220329_253/1648549391992oq5gx_JPEG/49685171709621113_1109177829.jpg?type=m10000_10000_no_rotate\n",
      "https://shop-phinf.pstatic.net/20220329_174/1648549401662G0yJd_JPEG/49685181369884322_1026230571.jpg?type=m10000_10000_no_rotate\n",
      "https://shop-phinf.pstatic.net/20220329_15/16485494018152Cdt6_JPEG/49685181525230165_1296944445.jpg?type=m10000_10000_no_rotate\n",
      "https://shop-phinf.pstatic.net/20220329_142/16485494019953Wei6_JPEG/49685181700584748_1337965740.jpg?type=m10000_10000_no_rotate\n",
      "https://shop-phinf.pstatic.net/20220329_134/1648548472719naPrc_JPEG/49684306472004488_559224309.jpg?type=m10000_10000_no_rotate\n",
      "https://shop-phinf.pstatic.net/20220329_159/1648549402213bgmRU_JPEG/49685181918831267_1589612058.jpg?type=m10000_10000_no_rotate\n",
      "https://shop-phinf.pstatic.net/20220329_231/1648549402402TfAs0_JPEG/49685182104216957_1608884391.jpg?type=m10000_10000_no_rotate\n",
      "10 / 50 - 6475622876\n"
     ]
    },
    {
     "name": "stderr",
     "output_type": "stream",
     "text": [
      "\n",
      "\n",
      "====== WebDriver manager ======\n",
      "Current google-chrome version is 102.0.5005\n",
      "Get LATEST chromedriver version for 102.0.5005 google-chrome\n",
      "Driver [C:\\Users\\Wook\\.wdm\\drivers\\chromedriver\\win32\\102.0.5005.61\\chromedriver.exe] found in cache\n"
     ]
    },
    {
     "name": "stdout",
     "output_type": "stream",
     "text": [
      "https://shop-phinf.pstatic.net/20220329_195/1648549275354KFfMe_JPEG/49685055081677263_88043887.jpg?type=m10000_10000_no_rotate\n",
      "https://shop-phinf.pstatic.net/20220329_111/1648549287113KG0ST_JPEG/49685066833321258_390935448.jpg?type=m10000_10000_no_rotate\n",
      "https://shop-phinf.pstatic.net/20220329_280/1648549287219LPbpX_JPEG/49685066935317327_98209459.jpg?type=m10000_10000_no_rotate\n",
      "https://shop-phinf.pstatic.net/20220329_39/1648549287370sUYqV_JPEG/49685067089675095_1219891874.jpg?type=m10000_10000_no_rotate\n",
      "https://shop-phinf.pstatic.net/20220329_229/1648549287467TVL15_JPEG/49685067190999796_1079821153.jpg?type=m10000_10000_no_rotate\n",
      "https://shop-phinf.pstatic.net/20220329_109/1648548463533NexTT_JPEG/49684297108615432_2132279772.jpg?type=m10000_10000_no_rotate\n",
      "https://shop-phinf.pstatic.net/20220329_212/1648549287556DjylD_JPEG/49685067277351479_1741390094.jpg?type=m10000_10000_no_rotate\n",
      "https://shop-phinf.pstatic.net/20220329_295/1648549287769x9Fls_JPEG/49685067465033510_103180102.jpg?type=m10000_10000_no_rotate\n",
      "11 / 50 - 6475609478\n"
     ]
    },
    {
     "name": "stderr",
     "output_type": "stream",
     "text": [
      "\n",
      "\n",
      "====== WebDriver manager ======\n",
      "Current google-chrome version is 102.0.5005\n",
      "Get LATEST chromedriver version for 102.0.5005 google-chrome\n",
      "Driver [C:\\Users\\Wook\\.wdm\\drivers\\chromedriver\\win32\\102.0.5005.61\\chromedriver.exe] found in cache\n"
     ]
    },
    {
     "name": "stdout",
     "output_type": "stream",
     "text": [
      "https://shop-phinf.pstatic.net/20220329_27/164854908351194HyB_JPEG/49684863231253620_1455788505.jpg?type=m10000_10000_no_rotate\n",
      "https://shop-phinf.pstatic.net/20220329_166/1648549100770f015F_JPEG/49684880488831447_1481956142.jpg?type=m10000_10000_no_rotate\n",
      "https://shop-phinf.pstatic.net/20220329_92/1648549100857bIHlF_JPEG/49684880575882677_811270913.jpg?type=m10000_10000_no_rotate\n",
      "https://shop-phinf.pstatic.net/20220329_97/16485484423552RKwl_JPEG/49684275943929446_1086599708.jpg?type=m10000_10000_no_rotate\n",
      "https://shop-phinf.pstatic.net/20220329_293/1648549100963giy5b_JPEG/49684880688087037_1314448933.jpg?type=m10000_10000_no_rotate\n",
      "https://shop-phinf.pstatic.net/20220329_94/1648549101109dBpyL_JPEG/49684880833314471_377040829.jpg?type=m10000_10000_no_rotate\n",
      "https://shop-phinf.pstatic.net/20220329_247/1648549101222MPNB6_JPEG/49684880943590861_1634967660.jpg?type=m10000_10000_no_rotate\n",
      "12 / 50 - 6475593655\n"
     ]
    },
    {
     "name": "stderr",
     "output_type": "stream",
     "text": [
      "\n",
      "\n",
      "====== WebDriver manager ======\n",
      "Current google-chrome version is 102.0.5005\n",
      "Get LATEST chromedriver version for 102.0.5005 google-chrome\n",
      "Driver [C:\\Users\\Wook\\.wdm\\drivers\\chromedriver\\win32\\102.0.5005.61\\chromedriver.exe] found in cache\n"
     ]
    },
    {
     "name": "stdout",
     "output_type": "stream",
     "text": [
      "https://shop-phinf.pstatic.net/20220329_289/1648548929978AvTxe_JPEG/49684709696243325_209686411.jpg?type=m10000_10000_no_rotate\n",
      "https://shop-phinf.pstatic.net/20220329_9/1648548940062KXKTD_JPEG/49684719751438874_1704957076.jpg?type=m10000_10000_no_rotate\n",
      "https://shop-phinf.pstatic.net/20220329_296/1648548940256hk1IA_JPEG/49684719963961852_301156987.jpg?type=m10000_10000_no_rotate\n",
      "https://shop-phinf.pstatic.net/20220329_253/1648548431345oQMYF_JPEG/49684265064022557_1301001517.jpg?type=m10000_10000_no_rotate\n",
      "https://shop-phinf.pstatic.net/20220329_228/1648548940495pcdeB_JPEG/49684720205525013_1398243945.jpg?type=m10000_10000_no_rotate\n",
      "https://shop-phinf.pstatic.net/20220329_62/1648548940728WerDn_JPEG/49684720433512356_142951655.jpg?type=m10000_10000_no_rotate\n",
      "https://shop-phinf.pstatic.net/20220329_298/16485489409039w89u_JPEG/49684720606700922_1315938707.jpg?type=m10000_10000_no_rotate\n",
      "13 / 50 - 6475577705\n"
     ]
    },
    {
     "name": "stderr",
     "output_type": "stream",
     "text": [
      "\n",
      "\n",
      "====== WebDriver manager ======\n",
      "Current google-chrome version is 102.0.5005\n",
      "Get LATEST chromedriver version for 102.0.5005 google-chrome\n",
      "Driver [C:\\Users\\Wook\\.wdm\\drivers\\chromedriver\\win32\\102.0.5005.61\\chromedriver.exe] found in cache\n"
     ]
    },
    {
     "name": "stdout",
     "output_type": "stream",
     "text": [
      "https://shop-phinf.pstatic.net/20220327_112/1648381925219Ma8gc_JPEG/49517813721038054_1732067511.jpg?type=m10000_10000_no_rotate\n",
      "https://shop-phinf.pstatic.net/20220327_169/1648381474452SjlUU_JPEG/49517363164575933_1680300418.jpg?type=m10000_10000_no_rotate\n",
      "https://shop-phinf.pstatic.net/20220327_266/1648381940394Tyr5d_JPEG/49517829104678151_512709185.jpg?type=m10000_10000_no_rotate\n",
      "https://shop-phinf.pstatic.net/20220327_169/1648381474683VBmrd_JPEG/49517363394883173_1520064018.jpg?type=m10000_10000_no_rotate\n",
      "https://shop-phinf.pstatic.net/20220327_253/1648381940508teYVl_JPEG/49517829213486279_1220592507.jpg?type=m10000_10000_no_rotate\n",
      "https://shop-phinf.pstatic.net/20220327_262/1648381940610Ce8NA_JPEG/49517829321118869_1398367689.jpg?type=m10000_10000_no_rotate\n",
      "https://shop-phinf.pstatic.net/20220327_86/1648381940691q3RyF_JPEG/49517829400864002_144489549.jpg?type=m10000_10000_no_rotate\n",
      "14 / 50 - 6466333774\n"
     ]
    },
    {
     "name": "stderr",
     "output_type": "stream",
     "text": [
      "\n",
      "\n",
      "====== WebDriver manager ======\n",
      "Current google-chrome version is 102.0.5005\n",
      "Get LATEST chromedriver version for 102.0.5005 google-chrome\n",
      "Driver [C:\\Users\\Wook\\.wdm\\drivers\\chromedriver\\win32\\102.0.5005.61\\chromedriver.exe] found in cache\n"
     ]
    },
    {
     "name": "stdout",
     "output_type": "stream",
     "text": [
      "https://shop-phinf.pstatic.net/20220327_100/1648381481117qmA9c_JPEG/49517369495597397_217173547.jpg?type=m10000_10000_no_rotate\n",
      "https://shop-phinf.pstatic.net/20220327_8/1648381491852eOeke_JPEG/49517380564172683_1226305474.jpg?type=m10000_10000_no_rotate\n",
      "https://shop-phinf.pstatic.net/20220327_181/164838184682128L3X_JPEG/49517735531186776_1432003990.jpg?type=m10000_10000_no_rotate\n",
      "https://shop-phinf.pstatic.net/20220327_270/16483814920732NjkH_JPEG/49517380783853024_1249375723.jpg?type=m10000_10000_no_rotate\n",
      "https://shop-phinf.pstatic.net/20220327_239/1648381846991pACi0_JPEG/49517735699255029_1642786497.jpg?type=m10000_10000_no_rotate\n",
      "https://shop-phinf.pstatic.net/20220327_6/1648381847156Va3va_JPEG/49517735866979549_1728357620.jpg?type=m10000_10000_no_rotate\n",
      "https://shop-phinf.pstatic.net/20220327_4/1648381847271bBo3S_JPEG/49517735978017979_207232989.jpg?type=m10000_10000_no_rotate\n",
      "15 / 50 - 6466332383\n"
     ]
    },
    {
     "name": "stderr",
     "output_type": "stream",
     "text": [
      "\n",
      "\n",
      "====== WebDriver manager ======\n",
      "Current google-chrome version is 102.0.5005\n",
      "Get LATEST chromedriver version for 102.0.5005 google-chrome\n",
      "Driver [C:\\Users\\Wook\\.wdm\\drivers\\chromedriver\\win32\\102.0.5005.61\\chromedriver.exe] found in cache\n"
     ]
    },
    {
     "name": "stdout",
     "output_type": "stream",
     "text": [
      "https://shop-phinf.pstatic.net/20220327_187/1648381733412QsGYi_JPEG/49517622123545533_1149862391.jpg?type=m10000_10000_no_rotate\n",
      "https://shop-phinf.pstatic.net/20220327_204/1648381464537WqQVl_JPEG/49517353249211766_2129739216.jpg?type=m10000_10000_no_rotate\n",
      "https://shop-phinf.pstatic.net/20220327_141/1648381746389Rp8DO_JPEG/49517634878252250_565787608.jpg?type=m10000_10000_no_rotate\n",
      "https://shop-phinf.pstatic.net/20220327_225/1648381464699Ea0U1_JPEG/49517353410825571_2088050249.jpg?type=m10000_10000_no_rotate\n",
      "https://shop-phinf.pstatic.net/20220327_287/1648381746486QWdvc_JPEG/49517635196886251_1506866028.jpg?type=m10000_10000_no_rotate\n",
      "https://shop-phinf.pstatic.net/20220327_43/1648381746659T822H_JPEG/49517635370307159_397314899.jpg?type=m10000_10000_no_rotate\n",
      "https://shop-phinf.pstatic.net/20220327_14/16483817467456eOIS_JPEG/49517635455584755_1994607049.jpg?type=m10000_10000_no_rotate\n",
      "16 / 50 - 6466329692\n"
     ]
    },
    {
     "name": "stderr",
     "output_type": "stream",
     "text": [
      "\n",
      "\n",
      "====== WebDriver manager ======\n",
      "Current google-chrome version is 102.0.5005\n",
      "Get LATEST chromedriver version for 102.0.5005 google-chrome\n",
      "Driver [C:\\Users\\Wook\\.wdm\\drivers\\chromedriver\\win32\\102.0.5005.61\\chromedriver.exe] found in cache\n"
     ]
    },
    {
     "name": "stdout",
     "output_type": "stream",
     "text": [
      "https://shop-phinf.pstatic.net/20220327_190/1648379530924gWOUI_JPEG/49515419418522085_1204346783.jpg?type=m10000_10000_no_rotate\n",
      "https://shop-phinf.pstatic.net/20220327_97/1648379822813sGfEa_JPEG/49515711519753051_1471200950.jpg?type=m10000_10000_no_rotate\n",
      "https://shop-phinf.pstatic.net/20220327_154/164837982301396tV4_JPEG/49515711719175698_847495039.jpg?type=m10000_10000_no_rotate\n",
      "https://shop-phinf.pstatic.net/20220327_146/1648379083876yzex7_JPEG/49514972586363443_1928715641.jpg?type=m10000_10000_no_rotate\n",
      "https://shop-phinf.pstatic.net/20220327_79/1648379084024stbt9_JPEG/49514972734429412_1233849829.jpg?type=m10000_10000_no_rotate\n",
      "https://shop-phinf.pstatic.net/20220327_190/1648379823220FtdKp_JPEG/49515711931645740_1842835473.jpg?type=m10000_10000_no_rotate\n",
      "https://shop-phinf.pstatic.net/20220327_245/1648379823301r6kkz_JPEG/49515712013068020_2078948939.jpg?type=m10000_10000_no_rotate\n",
      "https://shop-phinf.pstatic.net/20220327_64/1648379823410pjizk_JPEG/49515712119803544_695575998.jpg?type=m10000_10000_no_rotate\n",
      "17 / 50 - 6466275195\n"
     ]
    },
    {
     "name": "stderr",
     "output_type": "stream",
     "text": [
      "\n",
      "\n",
      "====== WebDriver manager ======\n",
      "Current google-chrome version is 102.0.5005\n",
      "Get LATEST chromedriver version for 102.0.5005 google-chrome\n",
      "Driver [C:\\Users\\Wook\\.wdm\\drivers\\chromedriver\\win32\\102.0.5005.61\\chromedriver.exe] found in cache\n"
     ]
    },
    {
     "name": "stdout",
     "output_type": "stream",
     "text": [
      "https://shop-phinf.pstatic.net/20220327_273/16483796758401U1eF_JPEG/49515564548690310_494101371.jpg?type=m10000_10000_no_rotate\n",
      "https://shop-phinf.pstatic.net/20220327_94/1648379694699VJBHF_JPEG/49515583404498541_1979007355.jpg?type=m10000_10000_no_rotate\n",
      "https://shop-phinf.pstatic.net/20220327_16/1648379694890VcVtB_JPEG/49515583596703884_447729381.jpg?type=m10000_10000_no_rotate\n",
      "https://shop-phinf.pstatic.net/20220327_288/1648379057225wdjyv_JPEG/49514945937734630_1296639802.jpg?type=m10000_10000_no_rotate\n",
      "https://shop-phinf.pstatic.net/20220327_295/1648379057371GG0wR_JPEG/49514946084647294_630146042.jpg?type=m10000_10000_no_rotate\n",
      "https://shop-phinf.pstatic.net/20220327_2/1648379695117E5Yfv_JPEG/49515583829414780_2038630710.jpg?type=m10000_10000_no_rotate\n",
      "https://shop-phinf.pstatic.net/20220327_114/1648379695285nE3Q7_JPEG/49515583997436390_1548580238.jpg?type=m10000_10000_no_rotate\n",
      "https://shop-phinf.pstatic.net/20220327_257/1648379695423zhjlS_JPEG/49515584134432191_1105387304.jpg?type=m10000_10000_no_rotate\n",
      "https://shop-phinf.pstatic.net/20220327_142/1648379695567Dv6y1_JPEG/49515584278399069_468732381.jpg?type=m10000_10000_no_rotate\n",
      "18 / 50 - 6466272819\n"
     ]
    },
    {
     "name": "stderr",
     "output_type": "stream",
     "text": [
      "\n",
      "\n",
      "====== WebDriver manager ======\n",
      "Current google-chrome version is 102.0.5005\n",
      "Get LATEST chromedriver version for 102.0.5005 google-chrome\n",
      "Driver [C:\\Users\\Wook\\.wdm\\drivers\\chromedriver\\win32\\102.0.5005.61\\chromedriver.exe] found in cache\n"
     ]
    },
    {
     "name": "stdout",
     "output_type": "stream",
     "text": [
      "https://shop-phinf.pstatic.net/20220327_300/1648379534895XRBk9_JPEG/49515423609903068_1317277636.jpg?type=m10000_10000_no_rotate\n",
      "https://shop-phinf.pstatic.net/20220327_85/1648379547575c3aQp_JPEG/49515435942276461_480608850.jpg?type=m10000_10000_no_rotate\n",
      "https://shop-phinf.pstatic.net/20220327_115/1648379547908fX2UC_JPEG/49515436374826155_668427519.jpg?type=m10000_10000_no_rotate\n",
      "https://shop-phinf.pstatic.net/20220327_147/16483790354378yECi_JPEG/49514924148570822_1915261808.jpg?type=m10000_10000_no_rotate\n",
      "https://shop-phinf.pstatic.net/20220327_267/1648379035598GsCpA_JPEG/49514924301586467_1728491031.jpg?type=m10000_10000_no_rotate\n",
      "https://shop-phinf.pstatic.net/20220327_84/1648379548080LrjCO_JPEG/49515436791807798_488380300.jpg?type=m10000_10000_no_rotate\n",
      "https://shop-phinf.pstatic.net/20220327_128/1648379548236FrwD6_JPEG/49515436946620049_604177913.jpg?type=m10000_10000_no_rotate\n",
      "https://shop-phinf.pstatic.net/20220327_292/1648379548404uPdKC_JPEG/49515437114282910_1075283911.jpg?type=m10000_10000_no_rotate\n",
      "19 / 50 - 6466269698\n"
     ]
    },
    {
     "name": "stderr",
     "output_type": "stream",
     "text": [
      "\n",
      "\n",
      "====== WebDriver manager ======\n",
      "Current google-chrome version is 102.0.5005\n",
      "Get LATEST chromedriver version for 102.0.5005 google-chrome\n",
      "Driver [C:\\Users\\Wook\\.wdm\\drivers\\chromedriver\\win32\\102.0.5005.61\\chromedriver.exe] found in cache\n"
     ]
    },
    {
     "name": "stdout",
     "output_type": "stream",
     "text": [
      "https://shop-phinf.pstatic.net/20220327_198/1648379382212zSLLQ_JPEG/49515270925561555_996194529.jpg?type=m10000_10000_no_rotate\n",
      "https://shop-phinf.pstatic.net/20220327_45/1648379399549DgNwY_JPEG/49515288252494459_226060651.jpg?type=m10000_10000_no_rotate\n",
      "https://shop-phinf.pstatic.net/20220327_288/1648379399851iFw87_JPEG/49515288557965243_377524795.jpg?type=m10000_10000_no_rotate\n",
      "https://shop-phinf.pstatic.net/20220327_193/1648379025921Ux9qd_JPEG/49514914632908972_682800095.jpg?type=m10000_10000_no_rotate\n",
      "https://shop-phinf.pstatic.net/20220327_183/1648379025997VJsdb_JPEG/49514914708713333_1603425847.jpg?type=m10000_10000_no_rotate\n",
      "https://shop-phinf.pstatic.net/20220327_77/1648379399985TJ0GC_JPEG/49515288696874538_1986254707.jpg?type=m10000_10000_no_rotate\n",
      "https://shop-phinf.pstatic.net/20220327_275/16483794001363uTep_JPEG/49515288846961077_2079286970.jpg?type=m10000_10000_no_rotate\n",
      "https://shop-phinf.pstatic.net/20220327_243/1648379400231B1e4F_JPEG/49515288937580392_813813339.jpg?type=m10000_10000_no_rotate\n",
      "https://shop-phinf.pstatic.net/20220327_166/1648379400420i5VQH_JPEG/49515289130088201_1088462839.jpg?type=m10000_10000_no_rotate\n",
      "20 / 50 - 6466266990\n"
     ]
    },
    {
     "name": "stderr",
     "output_type": "stream",
     "text": [
      "\n",
      "\n",
      "====== WebDriver manager ======\n",
      "Current google-chrome version is 102.0.5005\n",
      "Get LATEST chromedriver version for 102.0.5005 google-chrome\n",
      "Driver [C:\\Users\\Wook\\.wdm\\drivers\\chromedriver\\win32\\102.0.5005.61\\chromedriver.exe] found in cache\n"
     ]
    },
    {
     "name": "stdout",
     "output_type": "stream",
     "text": [
      "https://shop-phinf.pstatic.net/20220327_238/1648378607699qyms6_PNG/49514391412883802_1636431816.png?type=m10000_10000_no_rotate\n",
      "https://shop-phinf.pstatic.net/20220327_174/1648378336671sgLae_JPEG/49514120382934300_1306049048.jpg?type=m10000_10000_no_rotate\n",
      "https://shop-phinf.pstatic.net/20220327_136/1648378618416ht7bJ_JPEG/49514402123144579_1779908681.jpg?type=m10000_10000_no_rotate\n",
      "https://shop-phinf.pstatic.net/20220327_82/1648378336865ml2pz_JPEG/49514120579887947_673271007.jpg?type=m10000_10000_no_rotate\n",
      "https://shop-phinf.pstatic.net/20220327_206/16483786185393o0n1_JPEG/49514402252435102_1127458397.jpg?type=m10000_10000_no_rotate\n",
      "https://shop-phinf.pstatic.net/20220327_108/16483783369730SpH2_JPEG/49514120681075981_1929325016.jpg?type=m10000_10000_no_rotate\n",
      "https://shop-phinf.pstatic.net/20220327_270/1648378618635ckz0m_JPEG/49514402344433065_1065276461.jpg?type=m10000_10000_no_rotate\n",
      "https://shop-phinf.pstatic.net/20220327_188/164837833707416IwP_JPEG/49514120778566647_151553100.jpg?type=m10000_10000_no_rotate\n",
      "21 / 50 - 6466237501\n"
     ]
    },
    {
     "name": "stderr",
     "output_type": "stream",
     "text": [
      "\n",
      "\n",
      "====== WebDriver manager ======\n",
      "Current google-chrome version is 102.0.5005\n",
      "Get LATEST chromedriver version for 102.0.5005 google-chrome\n",
      "Driver [C:\\Users\\Wook\\.wdm\\drivers\\chromedriver\\win32\\102.0.5005.61\\chromedriver.exe] found in cache\n"
     ]
    },
    {
     "name": "stdout",
     "output_type": "stream",
     "text": [
      "https://shop-phinf.pstatic.net/20220327_262/1648378515141CB3kg_PNG/49514298855249055_1922003787.png?type=m10000_10000_no_rotate\n",
      "https://shop-phinf.pstatic.net/20220327_103/1648378526083cKGP0_JPEG/49514309791174551_30036228.jpg?type=m10000_10000_no_rotate\n",
      "https://shop-phinf.pstatic.net/20220327_24/1648378335959tPsbc_JPEG/49514119666866915_1390123800.jpg?type=m10000_10000_no_rotate\n",
      "https://shop-phinf.pstatic.net/20220327_253/1648378336127iwoFp_JPEG/49514119839793794_983692837.jpg?type=m10000_10000_no_rotate\n",
      "https://shop-phinf.pstatic.net/20220327_74/1648378336304Qyqme_JPEG/49514120019266931_301690455.jpg?type=m10000_10000_no_rotate\n",
      "https://shop-phinf.pstatic.net/20220327_198/1648378526241T4cWI_JPEG/49514309952189262_473560444.jpg?type=m10000_10000_no_rotate\n",
      "https://shop-phinf.pstatic.net/20220327_155/1648378336459tsINQ_JPEG/49514120168411658_960628687.jpg?type=m10000_10000_no_rotate\n",
      "22 / 50 - 6466236481\n"
     ]
    },
    {
     "name": "stderr",
     "output_type": "stream",
     "text": [
      "\n",
      "\n",
      "====== WebDriver manager ======\n",
      "Current google-chrome version is 102.0.5005\n",
      "Get LATEST chromedriver version for 102.0.5005 google-chrome\n",
      "Driver [C:\\Users\\Wook\\.wdm\\drivers\\chromedriver\\win32\\102.0.5005.61\\chromedriver.exe] found in cache\n"
     ]
    },
    {
     "name": "stdout",
     "output_type": "stream",
     "text": [
      "https://shop-phinf.pstatic.net/20220327_233/1648376947730VEcU0_JPEG/49512727445211331_2012325726.jpg?type=m10000_10000_no_rotate\n",
      "https://shop-phinf.pstatic.net/20220327_213/1648376984641G10gC_JPEG/49512764353533159_1590127724.jpg?type=m10000_10000_no_rotate\n",
      "https://shop-phinf.pstatic.net/20220327_141/1648375649040GPHsH_JPEG/49511494756438442_643875866.jpg?type=m10000_10000_no_rotate\n",
      "https://shop-phinf.pstatic.net/20220327_40/1648376984804VAA3m_JPEG/49512764509013614_1473717263.jpg?type=m10000_10000_no_rotate\n",
      "https://shop-phinf.pstatic.net/20220327_232/1648376985052lttIF_JPEG/49512764757190582_1278471341.jpg?type=m10000_10000_no_rotate\n",
      "https://shop-phinf.pstatic.net/20220327_81/1648376985288cINlH_JPEG/49512764995108401_1887094530.jpg?type=m10000_10000_no_rotate\n",
      "https://shop-phinf.pstatic.net/20220327_244/1648376985531Sxc1T_JPEG/49512765230859427_1997151524.jpg?type=m10000_10000_no_rotate\n",
      "23 / 50 - 6466210832\n"
     ]
    },
    {
     "name": "stderr",
     "output_type": "stream",
     "text": [
      "\n",
      "\n",
      "====== WebDriver manager ======\n",
      "Current google-chrome version is 102.0.5005\n",
      "Get LATEST chromedriver version for 102.0.5005 google-chrome\n",
      "Driver [C:\\Users\\Wook\\.wdm\\drivers\\chromedriver\\win32\\102.0.5005.61\\chromedriver.exe] found in cache\n"
     ]
    },
    {
     "name": "stdout",
     "output_type": "stream",
     "text": [
      "https://shop-phinf.pstatic.net/20220327_67/1648376839470kVvgW_JPEG/49512619184590835_57333142.jpg?type=m10000_10000_no_rotate\n",
      "https://shop-phinf.pstatic.net/20220327_139/1648376858416G7vyT_JPEG/49512638112929883_742231803.jpg?type=m10000_10000_no_rotate\n",
      "https://shop-phinf.pstatic.net/20220327_103/1648376858674WfXjD_JPEG/49512638370784476_1141983760.jpg?type=m10000_10000_no_rotate\n",
      "https://shop-phinf.pstatic.net/20220327_227/16483756396359c6cR_JPEG/49511485350748425_1967739334.jpg?type=m10000_10000_no_rotate\n",
      "https://shop-phinf.pstatic.net/20220327_291/1648376858958c9g8x_JPEG/49512638657840087_1151044730.jpg?type=m10000_10000_no_rotate\n",
      "https://shop-phinf.pstatic.net/20220327_67/1648376859139nzDNx_JPEG/49512638847303273_1922333898.jpg?type=m10000_10000_no_rotate\n",
      "https://shop-phinf.pstatic.net/20220327_233/1648376859313cBuqc_JPEG/49512639021044853_573490766.jpg?type=m10000_10000_no_rotate\n",
      "https://shop-phinf.pstatic.net/20220327_163/1648376859515doT28_JPEG/49512639217987101_1158233934.jpg?type=m10000_10000_no_rotate\n",
      "24 / 50 - 6466208874\n"
     ]
    },
    {
     "name": "stderr",
     "output_type": "stream",
     "text": [
      "\n",
      "\n",
      "====== WebDriver manager ======\n",
      "Current google-chrome version is 102.0.5005\n",
      "Get LATEST chromedriver version for 102.0.5005 google-chrome\n",
      "Driver [C:\\Users\\Wook\\.wdm\\drivers\\chromedriver\\win32\\102.0.5005.61\\chromedriver.exe] found in cache\n"
     ]
    },
    {
     "name": "stdout",
     "output_type": "stream",
     "text": [
      "https://shop-phinf.pstatic.net/20220327_16/16483766404611lkH3_JPEG/49512420182621789_1984155849.jpg?type=m10000_10000_no_rotate\n",
      "https://shop-phinf.pstatic.net/20220327_173/16483766529521OebY_JPEG/49512432676153559_1513575131.jpg?type=m10000_10000_no_rotate\n",
      "https://shop-phinf.pstatic.net/20220327_291/1648375629908cIkkv_JPEG/49511475625950157_1707269628.jpg?type=m10000_10000_no_rotate\n",
      "https://shop-phinf.pstatic.net/20220327_4/1648376653039hwPn1_JPEG/49512432761603613_1556164339.jpg?type=m10000_10000_no_rotate\n",
      "https://shop-phinf.pstatic.net/20220327_104/16483766531174bksK_JPEG/49512432839300263_73606855.jpg?type=m10000_10000_no_rotate\n",
      "https://shop-phinf.pstatic.net/20220327_205/1648376653200RG4K4_JPEG/49512432916610248_1990989919.jpg?type=m10000_10000_no_rotate\n",
      "https://shop-phinf.pstatic.net/20220327_172/164837665331641zJl_JPEG/49512433036968346_480484893.jpg?type=m10000_10000_no_rotate\n",
      "25 / 50 - 6466206727\n"
     ]
    },
    {
     "name": "stderr",
     "output_type": "stream",
     "text": [
      "\n",
      "\n",
      "====== WebDriver manager ======\n",
      "Current google-chrome version is 102.0.5005\n",
      "Get LATEST chromedriver version for 102.0.5005 google-chrome\n",
      "Driver [C:\\Users\\Wook\\.wdm\\drivers\\chromedriver\\win32\\102.0.5005.61\\chromedriver.exe] found in cache\n"
     ]
    },
    {
     "name": "stdout",
     "output_type": "stream",
     "text": [
      "https://shop-phinf.pstatic.net/20220327_96/1648376510651CpjuH_JPEG/49512290158403265_1066500581.jpg?type=m10000_10000_no_rotate\n",
      "https://shop-phinf.pstatic.net/20220327_264/1648376522885zaJPp_JPEG/49512302606245031_1615535277.jpg?type=m10000_10000_no_rotate\n",
      "https://shop-phinf.pstatic.net/20220327_213/1648375621205XM9rX_JPEG/49511466697793535_1115208783.jpg?type=m10000_10000_no_rotate\n",
      "https://shop-phinf.pstatic.net/20220327_265/1648376523108iqnpN_JPEG/49512302771991011_1964075523.jpg?type=m10000_10000_no_rotate\n",
      "https://shop-phinf.pstatic.net/20220327_191/1648376523219kcb6d_JPEG/49512302935070566_1049833377.jpg?type=m10000_10000_no_rotate\n",
      "https://shop-phinf.pstatic.net/20220327_22/16483765233761On4z_JPEG/49512303095471926_2125054058.jpg?type=m10000_10000_no_rotate\n",
      "https://shop-phinf.pstatic.net/20220327_188/164837652345855Kec_JPEG/49512303176902652_2030031741.jpg?type=m10000_10000_no_rotate\n",
      "26 / 50 - 6466203235\n"
     ]
    },
    {
     "name": "stderr",
     "output_type": "stream",
     "text": [
      "\n",
      "\n",
      "====== WebDriver manager ======\n",
      "Current google-chrome version is 102.0.5005\n",
      "Get LATEST chromedriver version for 102.0.5005 google-chrome\n",
      "Driver [C:\\Users\\Wook\\.wdm\\drivers\\chromedriver\\win32\\102.0.5005.61\\chromedriver.exe] found in cache\n"
     ]
    },
    {
     "name": "stdout",
     "output_type": "stream",
     "text": [
      "https://shop-phinf.pstatic.net/20220327_52/16483763259546nG8I_JPEG/49512105671169695_1603330092.jpg?type=m10000_10000_no_rotate\n",
      "https://shop-phinf.pstatic.net/20220327_224/1648376335460WGU9q_JPEG/49512115168784808_677884319.jpg?type=m10000_10000_no_rotate\n",
      "https://shop-phinf.pstatic.net/20220327_59/1648376335693OgHcM_JPEG/49512115403112911_1965462137.jpg?type=m10000_10000_no_rotate\n",
      "https://shop-phinf.pstatic.net/20220327_148/164837561255883aCV_JPEG/49511458277371555_1379688449.jpg?type=m10000_10000_no_rotate\n",
      "https://shop-phinf.pstatic.net/20220327_242/1648376336450rNzxm_JPEG/49512116163818892_1770650294.jpg?type=m10000_10000_no_rotate\n",
      "https://shop-phinf.pstatic.net/20220327_59/1648376335898Lqnyr_JPEG/49512115604210380_1638569035.jpg?type=m10000_10000_no_rotate\n",
      "https://shop-phinf.pstatic.net/20220327_33/1648376336066lovCw_JPEG/49512115770921701_1746842229.jpg?type=m10000_10000_no_rotate\n",
      "https://shop-phinf.pstatic.net/20220327_105/1648376336240KGCe3_JPEG/49512115945080151_553379273.jpg?type=m10000_10000_no_rotate\n",
      "27 / 50 - 6466201357\n"
     ]
    },
    {
     "name": "stderr",
     "output_type": "stream",
     "text": [
      "\n",
      "\n",
      "====== WebDriver manager ======\n",
      "Current google-chrome version is 102.0.5005\n",
      "Get LATEST chromedriver version for 102.0.5005 google-chrome\n",
      "Driver [C:\\Users\\Wook\\.wdm\\drivers\\chromedriver\\win32\\102.0.5005.61\\chromedriver.exe] found in cache\n"
     ]
    },
    {
     "name": "stdout",
     "output_type": "stream",
     "text": [
      "https://shop-phinf.pstatic.net/20220327_16/16483760996558r5lO_JPEG/49511879376332518_835454991.jpg?type=m10000_10000_no_rotate\n",
      "https://shop-phinf.pstatic.net/20220327_75/164837610928569Q17_JPEG/49511889010176791_9557782.jpg?type=m10000_10000_no_rotate\n",
      "https://shop-phinf.pstatic.net/20220327_250/1648376109424HWxym_JPEG/49511889147820270_109175617.jpg?type=m10000_10000_no_rotate\n",
      "https://shop-phinf.pstatic.net/20220327_37/1648376109588kAEss_JPEG/49511889311109207_32084938.jpg?type=m10000_10000_no_rotate\n",
      "https://shop-phinf.pstatic.net/20220327_85/1648376109784ONwyp_JPEG/49511889476648762_1033926820.jpg?type=m10000_10000_no_rotate\n",
      "https://shop-phinf.pstatic.net/20220327_158/1648376109938lzY7i_JPEG/49511889661264979_366839.jpg?type=m10000_10000_no_rotate\n",
      "https://shop-phinf.pstatic.net/20220327_170/1648375604339q0dm4_JPEG/49511450056216868_232068589.jpg?type=m10000_10000_no_rotate\n",
      "https://shop-phinf.pstatic.net/20220327_57/1648376110140khX46_JPEG/49511889863050139_40254738.jpg?type=m10000_10000_no_rotate\n",
      "28 / 50 - 6466197024\n"
     ]
    },
    {
     "name": "stderr",
     "output_type": "stream",
     "text": [
      "\n",
      "\n",
      "====== WebDriver manager ======\n",
      "Current google-chrome version is 102.0.5005\n",
      "Get LATEST chromedriver version for 102.0.5005 google-chrome\n",
      "Driver [C:\\Users\\Wook\\.wdm\\drivers\\chromedriver\\win32\\102.0.5005.61\\chromedriver.exe] found in cache\n"
     ]
    },
    {
     "name": "stdout",
     "output_type": "stream",
     "text": [
      "https://shop-phinf.pstatic.net/20220327_263/16483750219617CvCN_JPEG/49510855782511148_948632367.jpg?type=m10000_10000_no_rotate\n",
      "https://shop-phinf.pstatic.net/20220327_86/1648375035718xUgq3_JPEG/49510869533766235_1376959629.jpg?type=m10000_10000_no_rotate\n",
      "https://shop-phinf.pstatic.net/20220327_7/1648375035868D1IpB_JPEG/49510869684646076_1444997425.jpg?type=m10000_10000_no_rotate\n",
      "https://shop-phinf.pstatic.net/20220327_80/1648375036267JnraS_JPEG/49510869849348346_1247209711.jpg?type=m10000_10000_no_rotate\n",
      "https://shop-phinf.pstatic.net/20220327_60/1648373668174N7433_JPEG/49509451887946700_683120833.jpg?type=m10000_10000_no_rotate\n",
      "https://shop-phinf.pstatic.net/20220327_268/1648375036677iTVYe_JPEG/49510870290761727_419000380.jpg?type=m10000_10000_no_rotate\n",
      "https://shop-phinf.pstatic.net/20220327_235/1648375036895FglPN_JPEG/49510870662804263_1332345648.jpg?type=m10000_10000_no_rotate\n",
      "https://shop-phinf.pstatic.net/20220327_240/1648375037060S4Sgu_JPEG/49510870878534880_1413371804.jpg?type=m10000_10000_no_rotate\n",
      "29 / 50 - 6466178963\n"
     ]
    },
    {
     "name": "stderr",
     "output_type": "stream",
     "text": [
      "\n",
      "\n",
      "====== WebDriver manager ======\n",
      "Current google-chrome version is 102.0.5005\n",
      "Get LATEST chromedriver version for 102.0.5005 google-chrome\n",
      "Driver [C:\\Users\\Wook\\.wdm\\drivers\\chromedriver\\win32\\102.0.5005.61\\chromedriver.exe] found in cache\n"
     ]
    },
    {
     "name": "stdout",
     "output_type": "stream",
     "text": [
      "https://shop-phinf.pstatic.net/20220327_209/1648374893188IIXP0_JPEG/49510727008947807_2108299975.jpg?type=m10000_10000_no_rotate\n",
      "https://shop-phinf.pstatic.net/20220327_231/1648374905405TYl8j_JPEG/49510739217020370_1154943877.jpg?type=m10000_10000_no_rotate\n",
      "https://shop-phinf.pstatic.net/20220327_86/1648374905503UvULk_JPEG/49510739322969182_1400238678.jpg?type=m10000_10000_no_rotate\n",
      "https://shop-phinf.pstatic.net/20220327_180/1648373659557vYsx4_JPEG/49509443271114646_255018482.jpg?type=m10000_10000_no_rotate\n",
      "https://shop-phinf.pstatic.net/20220327_238/1648374905630z2EKA_JPEG/49510739449046535_1450513349.jpg?type=m10000_10000_no_rotate\n",
      "https://shop-phinf.pstatic.net/20220327_38/16483749058222U5Aj_JPEG/49510739637266548_926657652.jpg?type=m10000_10000_no_rotate\n",
      "https://shop-phinf.pstatic.net/20220327_185/1648374905986ECyBk_JPEG/49510739805921387_1573125627.jpg?type=m10000_10000_no_rotate\n",
      "https://shop-phinf.pstatic.net/20220327_251/1648374906336Wi8uk_JPEG/49510739921005722_911640556.jpg?type=m10000_10000_no_rotate\n",
      "30 / 50 - 6466174165\n"
     ]
    },
    {
     "name": "stderr",
     "output_type": "stream",
     "text": [
      "\n",
      "\n",
      "====== WebDriver manager ======\n",
      "Current google-chrome version is 102.0.5005\n",
      "Get LATEST chromedriver version for 102.0.5005 google-chrome\n",
      "Driver [C:\\Users\\Wook\\.wdm\\drivers\\chromedriver\\win32\\102.0.5005.61\\chromedriver.exe] found in cache\n"
     ]
    },
    {
     "name": "stdout",
     "output_type": "stream",
     "text": [
      "https://shop-phinf.pstatic.net/20220327_92/1648374760248qN3X8_JPEG/49510594070400303_845648891.jpg?type=m10000_10000_no_rotate\n",
      "https://shop-phinf.pstatic.net/20220327_140/1648374773701BjeMO_JPEG/49510607516468146_756086510.jpg?type=m10000_10000_no_rotate\n",
      "https://shop-phinf.pstatic.net/20220327_131/1648374773921s1JDl_JPEG/49510607735042406_81614549.jpg?type=m10000_10000_no_rotate\n",
      "https://shop-phinf.pstatic.net/20220327_298/1648374774148w8puO_JPEG/49510607965873485_1041827079.jpg?type=m10000_10000_no_rotate\n",
      "https://shop-phinf.pstatic.net/20220327_156/1648373648654JzKdK_JPEG/49509432144151053_1392825385.jpg?type=m10000_10000_no_rotate\n",
      "https://shop-phinf.pstatic.net/20220327_227/1648374774332fdWhl_JPEG/49510608149809975_2012318180.jpg?type=m10000_10000_no_rotate\n",
      "https://shop-phinf.pstatic.net/20220327_211/1648374774507xYeeh_JPEG/49510608327338466_1892335187.jpg?type=m10000_10000_no_rotate\n",
      "https://shop-phinf.pstatic.net/20220327_4/1648374774664Qu49u_JPEG/49510608481511291_56241329.jpg?type=m10000_10000_no_rotate\n",
      "31 / 50 - 6466172357\n"
     ]
    },
    {
     "name": "stderr",
     "output_type": "stream",
     "text": [
      "\n",
      "\n",
      "====== WebDriver manager ======\n",
      "Current google-chrome version is 102.0.5005\n",
      "Get LATEST chromedriver version for 102.0.5005 google-chrome\n",
      "Driver [C:\\Users\\Wook\\.wdm\\drivers\\chromedriver\\win32\\102.0.5005.61\\chromedriver.exe] found in cache\n"
     ]
    },
    {
     "name": "stdout",
     "output_type": "stream",
     "text": [
      "https://shop-phinf.pstatic.net/20220327_219/1648374547828Tb2zB_JPEG/49510381636509092_691309699.jpg?type=m10000_10000_no_rotate\n",
      "https://shop-phinf.pstatic.net/20220327_288/1648374557510LXNRE_JPEG/49510391319067239_840537318.jpg?type=m10000_10000_no_rotate\n",
      "https://shop-phinf.pstatic.net/20220327_60/16483745577898WwP0_JPEG/49510391584598148_2011552658.jpg?type=m10000_10000_no_rotate\n",
      "https://shop-phinf.pstatic.net/20220327_247/1648373550049smYxx_JPEG/49509333761862938_354464599.jpg?type=m10000_10000_no_rotate\n",
      "https://shop-phinf.pstatic.net/20220327_108/1648374557992pCLtd_JPEG/49510391789687307_216373789.jpg?type=m10000_10000_no_rotate\n",
      "https://shop-phinf.pstatic.net/20220327_251/1648374558184b6sUX_JPEG/49510391975309763_2049136203.jpg?type=m10000_10000_no_rotate\n",
      "https://shop-phinf.pstatic.net/20220327_23/1648374558455tFLUM_JPEG/49510392256667444_922077937.jpg?type=m10000_10000_no_rotate\n",
      "https://shop-phinf.pstatic.net/20220327_62/1648374558644TdqhP_JPEG/49510392442998184_470527508.jpg?type=m10000_10000_no_rotate\n",
      "32 / 50 - 6466168496\n"
     ]
    },
    {
     "name": "stderr",
     "output_type": "stream",
     "text": [
      "\n",
      "\n",
      "====== WebDriver manager ======\n",
      "Current google-chrome version is 102.0.5005\n",
      "Get LATEST chromedriver version for 102.0.5005 google-chrome\n",
      "Driver [C:\\Users\\Wook\\.wdm\\drivers\\chromedriver\\win32\\102.0.5005.61\\chromedriver.exe] found in cache\n"
     ]
    },
    {
     "name": "stdout",
     "output_type": "stream",
     "text": [
      "https://shop-phinf.pstatic.net/20220327_151/1648374431418nolAB_JPEG/49510265007912223_1148588489.jpg?type=m10000_10000_no_rotate\n",
      "https://shop-phinf.pstatic.net/20220327_36/1648374442725jdGwh_JPEG/49510276520496016_243157681.jpg?type=m10000_10000_no_rotate\n",
      "https://shop-phinf.pstatic.net/20220327_169/1648374442987DqMbk_JPEG/49510276771332910_2138284012.jpg?type=m10000_10000_no_rotate\n",
      "https://shop-phinf.pstatic.net/20220327_118/1648374443212gPPiE_JPEG/49510277013694004_1437731041.jpg?type=m10000_10000_no_rotate\n",
      "https://shop-phinf.pstatic.net/20220327_201/1648373542054cWtMd_JPEG/49509325768930741_908610500.jpg?type=m10000_10000_no_rotate\n",
      "https://shop-phinf.pstatic.net/20220327_232/1648374443392i7Vor_JPEG/49510277196592860_1082642618.jpg?type=m10000_10000_no_rotate\n",
      "https://shop-phinf.pstatic.net/20220327_45/1648374443625pfQvb_JPEG/49510277421944362_1414937716.jpg?type=m10000_10000_no_rotate\n",
      "https://shop-phinf.pstatic.net/20220327_202/16483744438019lGno_JPEG/49510277598460881_727296257.jpg?type=m10000_10000_no_rotate\n",
      "33 / 50 - 6466165044\n"
     ]
    },
    {
     "name": "stderr",
     "output_type": "stream",
     "text": [
      "\n",
      "\n",
      "====== WebDriver manager ======\n",
      "Current google-chrome version is 102.0.5005\n",
      "Get LATEST chromedriver version for 102.0.5005 google-chrome\n",
      "Driver [C:\\Users\\Wook\\.wdm\\drivers\\chromedriver\\win32\\102.0.5005.61\\chromedriver.exe] found in cache\n"
     ]
    },
    {
     "name": "stdout",
     "output_type": "stream",
     "text": [
      "https://shop-phinf.pstatic.net/20220327_47/1648374209873IzLfr_JPEG/49510043683575248_924453487.jpg?type=m10000_10000_no_rotate\n",
      "https://shop-phinf.pstatic.net/20220327_269/16483742566211Y5EM_JPEG/49510090412749688_1785960891.jpg?type=m10000_10000_no_rotate\n",
      "https://shop-phinf.pstatic.net/20220327_108/1648374256861rdGG6_JPEG/49510090646650496_1058458397.jpg?type=m10000_10000_no_rotate\n",
      "https://shop-phinf.pstatic.net/20220327_60/164837425706665fs8_JPEG/49510090872586160_793988825.jpg?type=m10000_10000_no_rotate\n",
      "https://shop-phinf.pstatic.net/20220327_190/1648373534556x4Ejz_JPEG/49509318271211696_622913851.jpg?type=m10000_10000_no_rotate\n",
      "https://shop-phinf.pstatic.net/20220327_116/1648374257255wezx7_JPEG/49510091063653857_815029213.jpg?type=m10000_10000_no_rotate\n",
      "https://shop-phinf.pstatic.net/20220327_186/1648374257464ycjel_JPEG/49510091266670678_1149858661.jpg?type=m10000_10000_no_rotate\n",
      "https://shop-phinf.pstatic.net/20220327_276/16483742577207br0W_JPEG/49510091517919450_648786954.jpg?type=m10000_10000_no_rotate\n",
      "34 / 50 - 6466163069\n"
     ]
    },
    {
     "name": "stderr",
     "output_type": "stream",
     "text": [
      "\n",
      "\n",
      "====== WebDriver manager ======\n",
      "Current google-chrome version is 102.0.5005\n",
      "Get LATEST chromedriver version for 102.0.5005 google-chrome\n",
      "Driver [C:\\Users\\Wook\\.wdm\\drivers\\chromedriver\\win32\\102.0.5005.61\\chromedriver.exe] found in cache\n"
     ]
    },
    {
     "name": "stdout",
     "output_type": "stream",
     "text": [
      "https://shop-phinf.pstatic.net/20220327_56/1648372934102gfpXL_JPEG/49508829832836984_1076476108.jpg?type=m10000_10000_no_rotate\n",
      "https://shop-phinf.pstatic.net/20220327_120/1648372946470qUBof_JPEG/49508842167926583_590404396.jpg?type=m10000_10000_no_rotate\n",
      "https://shop-phinf.pstatic.net/20220327_241/1648372946759uQpHl_JPEG/49508842468364367_1250668876.jpg?type=m10000_10000_no_rotate\n",
      "https://shop-phinf.pstatic.net/20220327_284/1648372258695vEE8a_JPEG/49508147387990081_1887971625.jpg?type=m10000_10000_no_rotate\n",
      "https://shop-phinf.pstatic.net/20220327_152/1648372258969Ycjcs_JPEG/49508147665874602_978283764.jpg?type=m10000_10000_no_rotate\n",
      "https://shop-phinf.pstatic.net/20220327_166/1648372947161QOupS_JPEG/49508842885672529_1184108416.jpg?type=m10000_10000_no_rotate\n",
      "https://shop-phinf.pstatic.net/20220327_220/1648372259223HrHVM_JPEG/49508147912422669_2015481575.jpg?type=m10000_10000_no_rotate\n",
      "https://shop-phinf.pstatic.net/20220327_134/1648372947332S2Tdp_JPEG/49508843051024991_1141801232.jpg?type=m10000_10000_no_rotate\n",
      "35 / 50 - 6466125796\n"
     ]
    },
    {
     "name": "stderr",
     "output_type": "stream",
     "text": [
      "\n",
      "\n",
      "====== WebDriver manager ======\n",
      "Current google-chrome version is 102.0.5005\n",
      "Get LATEST chromedriver version for 102.0.5005 google-chrome\n",
      "Driver [C:\\Users\\Wook\\.wdm\\drivers\\chromedriver\\win32\\102.0.5005.61\\chromedriver.exe] found in cache\n"
     ]
    },
    {
     "name": "stdout",
     "output_type": "stream",
     "text": [
      "https://shop-phinf.pstatic.net/20220327_6/1648372822301wgApX_JPEG/49508718038228181_1497665308.jpg?type=m10000_10000_no_rotate\n",
      "https://shop-phinf.pstatic.net/20220327_43/1648372833045EjG2p_JPEG/49508728778768366_75224261.jpg?type=m10000_10000_no_rotate\n",
      "https://shop-phinf.pstatic.net/20220327_224/1648372833129vRDBu_JPEG/49508728861191976_1093029422.jpg?type=m10000_10000_no_rotate\n",
      "https://shop-phinf.pstatic.net/20220327_172/1648372243261LFeuh_JPEG/49508131957339133_243446879.jpg?type=m10000_10000_no_rotate\n",
      "https://shop-phinf.pstatic.net/20220327_204/1648372243440zucD4_JPEG/49508132129546976_809087889.jpg?type=m10000_10000_no_rotate\n",
      "https://shop-phinf.pstatic.net/20220327_5/1648372833258xGveP_JPEG/49508728990265542_492743968.jpg?type=m10000_10000_no_rotate\n",
      "https://shop-phinf.pstatic.net/20220327_77/1648372243621TekoX_JPEG/49508132308578490_1575042362.jpg?type=m10000_10000_no_rotate\n",
      "https://shop-phinf.pstatic.net/20220327_14/1648372833451wFO1r_JPEG/49508729185122809_538253482.jpg?type=m10000_10000_no_rotate\n",
      "36 / 50 - 6466123339\n"
     ]
    },
    {
     "name": "stderr",
     "output_type": "stream",
     "text": [
      "\n",
      "\n",
      "====== WebDriver manager ======\n",
      "Current google-chrome version is 102.0.5005\n",
      "Get LATEST chromedriver version for 102.0.5005 google-chrome\n",
      "Driver [C:\\Users\\Wook\\.wdm\\drivers\\chromedriver\\win32\\102.0.5005.61\\chromedriver.exe] found in cache\n"
     ]
    },
    {
     "name": "stdout",
     "output_type": "stream",
     "text": [
      "https://shop-phinf.pstatic.net/20220327_111/164837273874334WIl_JPEG/49508634479013471_222544973.jpg?type=m10000_10000_no_rotate\n",
      "https://shop-phinf.pstatic.net/20220327_259/1648372753607DlVbM_JPEG/49508649334907513_1047047689.jpg?type=m10000_10000_no_rotate\n",
      "https://shop-phinf.pstatic.net/20220327_186/16483727538403Q8Yd_JPEG/49508649565841893_1345248608.jpg?type=m10000_10000_no_rotate\n",
      "https://shop-phinf.pstatic.net/20220327_102/1648372217149dGb4N_JPEG/49508105843810127_1467967234.jpg?type=m10000_10000_no_rotate\n",
      "https://shop-phinf.pstatic.net/20220327_189/1648372216986vd79U_JPEG/49508105678165514_744679781.jpg?type=m10000_10000_no_rotate\n",
      "https://shop-phinf.pstatic.net/20220327_58/1648372754077me2wP_JPEG/49508649812923602_280205508.jpg?type=m10000_10000_no_rotate\n",
      "https://shop-phinf.pstatic.net/20220327_116/1648372754188YGOHg_JPEG/49508649921315937_330053446.jpg?type=m10000_10000_no_rotate\n",
      "https://shop-phinf.pstatic.net/20220327_159/1648372217332OAkMj_JPEG/49508106026105990_1605685906.jpg?type=m10000_10000_no_rotate\n",
      "https://shop-phinf.pstatic.net/20220327_118/1648372754270zQYyr_JPEG/49508650003011559_1056639248.jpg?type=m10000_10000_no_rotate\n",
      "37 / 50 - 6466120769\n"
     ]
    },
    {
     "name": "stderr",
     "output_type": "stream",
     "text": [
      "\n",
      "\n",
      "====== WebDriver manager ======\n",
      "Current google-chrome version is 102.0.5005\n",
      "Get LATEST chromedriver version for 102.0.5005 google-chrome\n",
      "Driver [C:\\Users\\Wook\\.wdm\\drivers\\chromedriver\\win32\\102.0.5005.61\\chromedriver.exe] found in cache\n"
     ]
    },
    {
     "name": "stdout",
     "output_type": "stream",
     "text": [
      "https://shop-phinf.pstatic.net/20220327_49/1648371780589oiUdl_JPEG/49507560311812063_1350795736.jpg?type=m10000_10000_no_rotate\n",
      "https://shop-phinf.pstatic.net/20220327_149/1648371800935J0QhP_JPEG/49507580653238492_677102641.jpg?type=m10000_10000_no_rotate\n",
      "https://shop-phinf.pstatic.net/20220327_17/1648371801175mRIuA_JPEG/49507580888457040_1276287725.jpg?type=m10000_10000_no_rotate\n",
      "https://shop-phinf.pstatic.net/20220327_58/1648371202203I8yIJ_JPEG/49506981915662567_1897074958.jpg?type=m10000_10000_no_rotate\n",
      "https://shop-phinf.pstatic.net/20220327_23/16483712023563tBSe_JPEG/49506982067987155_1875316221.jpg?type=m10000_10000_no_rotate\n",
      "https://shop-phinf.pstatic.net/20220327_267/1648371801401noAro_JPEG/49507581126716247_202193899.jpg?type=m10000_10000_no_rotate\n",
      "https://shop-phinf.pstatic.net/20220327_287/1648371801529t0CUe_JPEG/49507581253075381_1493215063.jpg?type=m10000_10000_no_rotate\n",
      "https://shop-phinf.pstatic.net/20220327_244/1648371202529OeuxO_JPEG/49506982235359657_623375034.jpg?type=m10000_10000_no_rotate\n",
      "https://shop-phinf.pstatic.net/20220327_215/1648371801618KJGAK_JPEG/49507581336139021_2045958793.jpg?type=m10000_10000_no_rotate\n",
      "38 / 50 - 6466094902\n"
     ]
    },
    {
     "name": "stderr",
     "output_type": "stream",
     "text": [
      "\n",
      "\n",
      "====== WebDriver manager ======\n",
      "Current google-chrome version is 102.0.5005\n",
      "Get LATEST chromedriver version for 102.0.5005 google-chrome\n",
      "Driver [C:\\Users\\Wook\\.wdm\\drivers\\chromedriver\\win32\\102.0.5005.61\\chromedriver.exe] found in cache\n"
     ]
    },
    {
     "name": "stdout",
     "output_type": "stream",
     "text": [
      "https://shop-phinf.pstatic.net/20220327_1/1648371635468sxMWq_JPEG/49507415192600593_1199642580.jpg?type=m10000_10000_no_rotate\n",
      "https://shop-phinf.pstatic.net/20220327_108/16483716593475FMWv_JPEG/49507439062862432_322139824.jpg?type=m10000_10000_no_rotate\n",
      "https://shop-phinf.pstatic.net/20220327_279/16483716595122cTHT_JPEG/49507439232755794_1610582217.jpg?type=m10000_10000_no_rotate\n",
      "https://shop-phinf.pstatic.net/20220327_202/1648371185522Re4D9_JPEG/49506965233166778_589524258.jpg?type=m10000_10000_no_rotate\n",
      "https://shop-phinf.pstatic.net/20220327_106/1648371185309dYF48_JPEG/49506965016959216_931111690.jpg?type=m10000_10000_no_rotate\n",
      "https://shop-phinf.pstatic.net/20220327_152/1648371659691ltwGI_JPEG/49507439410802136_1133919640.jpg?type=m10000_10000_no_rotate\n",
      "https://shop-phinf.pstatic.net/20220327_168/1648371659859H7GY8_JPEG/49507439577311454_1286314727.jpg?type=m10000_10000_no_rotate\n",
      "https://shop-phinf.pstatic.net/20220327_62/1648371185689QqNJb_JPEG/49506965395438793_849637416.jpg?type=m10000_10000_no_rotate\n",
      "39 / 50 - 6466092404\n"
     ]
    },
    {
     "name": "stderr",
     "output_type": "stream",
     "text": [
      "\n",
      "\n",
      "====== WebDriver manager ======\n",
      "Current google-chrome version is 102.0.5005\n",
      "Get LATEST chromedriver version for 102.0.5005 google-chrome\n",
      "Driver [C:\\Users\\Wook\\.wdm\\drivers\\chromedriver\\win32\\102.0.5005.61\\chromedriver.exe] found in cache\n"
     ]
    },
    {
     "name": "stdout",
     "output_type": "stream",
     "text": [
      "https://shop-phinf.pstatic.net/20220327_294/1648371508799RhQBc_JPEG/49507288525473035_322835285.jpg?type=m10000_10000_no_rotate\n",
      "https://shop-phinf.pstatic.net/20220327_231/1648371528195v2xQq_JPEG/49507307912422288_761587772.jpg?type=m10000_10000_no_rotate\n",
      "https://shop-phinf.pstatic.net/20220327_89/1648371528355fcONH_JPEG/49507308073165218_743360040.jpg?type=m10000_10000_no_rotate\n",
      "https://shop-phinf.pstatic.net/20220327_29/1648371169857vcFRh_JPEG/49506949568431524_284757244.jpg?type=m10000_10000_no_rotate\n",
      "https://shop-phinf.pstatic.net/20220327_32/1648371170088j6eaE_JPEG/49506949798789662_11585023.jpg?type=m10000_10000_no_rotate\n",
      "https://shop-phinf.pstatic.net/20220327_295/1648371528632QEApJ_JPEG/49507308355240590_2116638833.jpg?type=m10000_10000_no_rotate\n",
      "https://shop-phinf.pstatic.net/20220327_197/1648371528957NzY9n_JPEG/49507308445850810_986691791.jpg?type=m10000_10000_no_rotate\n",
      "https://shop-phinf.pstatic.net/20220327_159/1648371170309pe6og_JPEG/49506950015960855_453770107.jpg?type=m10000_10000_no_rotate\n",
      "https://shop-phinf.pstatic.net/20220327_184/1648371529353nE7MU_JPEG/49507308847574565_499047093.jpg?type=m10000_10000_no_rotate\n",
      "40 / 50 - 6466088741\n"
     ]
    },
    {
     "name": "stderr",
     "output_type": "stream",
     "text": [
      "\n",
      "\n",
      "====== WebDriver manager ======\n",
      "Current google-chrome version is 102.0.5005\n",
      "Get LATEST chromedriver version for 102.0.5005 google-chrome\n",
      "Driver [C:\\Users\\Wook\\.wdm\\drivers\\chromedriver\\win32\\102.0.5005.61\\chromedriver.exe] found in cache\n"
     ]
    },
    {
     "name": "stdout",
     "output_type": "stream",
     "text": [
      "https://shop-phinf.pstatic.net/20220327_34/1648370671535NlP7e_JPEG/49506499365482339_210080553.jpg?type=m10000_10000_no_rotate\n",
      "https://shop-phinf.pstatic.net/20220327_102/1648370689703NR965_JPEG/49506517527370028_1943227657.jpg?type=m10000_10000_no_rotate\n",
      "https://shop-phinf.pstatic.net/20220327_153/1648370690016Srn3M_JPEG/49506517839526723_812866270.jpg?type=m10000_10000_no_rotate\n",
      "https://shop-phinf.pstatic.net/20220327_180/1648369188546fjKIq_JPEG/49505016357701608_1614145497.jpg?type=m10000_10000_no_rotate\n",
      "https://shop-phinf.pstatic.net/20220327_207/1648370690195AAVhn_JPEG/49506518018177259_2001426604.jpg?type=m10000_10000_no_rotate\n",
      "https://shop-phinf.pstatic.net/20220327_23/1648369188780LPCJC_JPEG/49505016589135506_2087412841.jpg?type=m10000_10000_no_rotate\n",
      "https://shop-phinf.pstatic.net/20220327_210/16483706903517Glhh_JPEG/49506518179740378_731299358.jpg?type=m10000_10000_no_rotate\n",
      "41 / 50 - 6466071118\n"
     ]
    },
    {
     "name": "stderr",
     "output_type": "stream",
     "text": [
      "\n",
      "\n",
      "====== WebDriver manager ======\n",
      "Current google-chrome version is 102.0.5005\n",
      "Get LATEST chromedriver version for 102.0.5005 google-chrome\n",
      "Driver [C:\\Users\\Wook\\.wdm\\drivers\\chromedriver\\win32\\102.0.5005.61\\chromedriver.exe] found in cache\n"
     ]
    },
    {
     "name": "stdout",
     "output_type": "stream",
     "text": [
      "https://shop-phinf.pstatic.net/20220327_26/1648370570115888GU_JPEG/49506397944766790_1826390052.jpg?type=m10000_10000_no_rotate\n",
      "https://shop-phinf.pstatic.net/20220327_235/1648370589491xqXOw_JPEG/49506417315208759_678466683.jpg?type=m10000_10000_no_rotate\n",
      "https://shop-phinf.pstatic.net/20220327_165/1648369177000YJp3j_JPEG/49505004814964665_624407622.jpg?type=m10000_10000_no_rotate\n",
      "https://shop-phinf.pstatic.net/20220327_54/1648369177189aXXn9_JPEG/49505005003313706_188526593.jpg?type=m10000_10000_no_rotate\n",
      "https://shop-phinf.pstatic.net/20220327_185/1648370589687nc5By_JPEG/49506417514451652_255673816.jpg?type=m10000_10000_no_rotate\n",
      "https://shop-phinf.pstatic.net/20220327_216/1648369177430SCSI6_JPEG/49505005241198619_940604130.jpg?type=m10000_10000_no_rotate\n",
      "https://shop-phinf.pstatic.net/20220327_89/1648370589816p8uF0_JPEG/49506417642711310_1702627946.jpg?type=m10000_10000_no_rotate\n",
      "42 / 50 - 6466068870\n"
     ]
    },
    {
     "name": "stderr",
     "output_type": "stream",
     "text": [
      "\n",
      "\n",
      "====== WebDriver manager ======\n",
      "Current google-chrome version is 102.0.5005\n",
      "Get LATEST chromedriver version for 102.0.5005 google-chrome\n",
      "Driver [C:\\Users\\Wook\\.wdm\\drivers\\chromedriver\\win32\\102.0.5005.61\\chromedriver.exe] found in cache\n"
     ]
    },
    {
     "name": "stdout",
     "output_type": "stream",
     "text": [
      "https://shop-phinf.pstatic.net/20220327_281/1648370424655KzaNI_JPEG/49506252485789197_972928430.jpg?type=m10000_10000_no_rotate\n",
      "https://shop-phinf.pstatic.net/20220327_174/1648370440006rvlD1_JPEG/49506267834312971_1287905378.jpg?type=m10000_10000_no_rotate\n",
      "https://shop-phinf.pstatic.net/20220327_34/1648369164359wG6h9_JPEG/49504992163890188_1607754095.jpg?type=m10000_10000_no_rotate\n",
      "https://shop-phinf.pstatic.net/20220327_293/1648369164583bwuDf_JPEG/49504992389724087_403362170.jpg?type=m10000_10000_no_rotate\n",
      "https://shop-phinf.pstatic.net/20220327_276/16483704397872dVJY_JPEG/49506267612353906_930877773.jpg?type=m10000_10000_no_rotate\n",
      "https://shop-phinf.pstatic.net/20220327_253/1648370439887FrOw5_JPEG/49506267711540612_1305142843.jpg?type=m10000_10000_no_rotate\n",
      "https://shop-phinf.pstatic.net/20220327_249/1648369164839aGv4f_JPEG/49504992640434411_1340220054.jpg?type=m10000_10000_no_rotate\n",
      "43 / 50 - 6466066246\n"
     ]
    },
    {
     "name": "stderr",
     "output_type": "stream",
     "text": [
      "\n",
      "\n",
      "====== WebDriver manager ======\n",
      "Current google-chrome version is 102.0.5005\n",
      "Get LATEST chromedriver version for 102.0.5005 google-chrome\n",
      "Driver [C:\\Users\\Wook\\.wdm\\drivers\\chromedriver\\win32\\102.0.5005.61\\chromedriver.exe] found in cache\n"
     ]
    },
    {
     "name": "stdout",
     "output_type": "stream",
     "text": [
      "https://shop-phinf.pstatic.net/20220327_289/1648368588397ErjmT_JPEG/49504371980732688_38684926.jpg?type=m10000_10000_no_rotate\n",
      "https://shop-phinf.pstatic.net/20220327_19/1648368606711Bljom_JPEG/49504390169460667_1199345746.jpg?type=m10000_10000_no_rotate\n",
      "https://shop-phinf.pstatic.net/20220327_124/1648366753362GdD9y_JPEG/49502599058403198_2067903391.jpg?type=m10000_10000_no_rotate\n",
      "https://shop-phinf.pstatic.net/20220327_228/1648368606861MTBx6_JPEG/49504390576220151_98450073.jpg?type=m10000_10000_no_rotate\n",
      "https://shop-phinf.pstatic.net/20220327_20/1648368607035CKKX0_JPEG/49504390743753645_807660676.jpg?type=m10000_10000_no_rotate\n",
      "https://shop-phinf.pstatic.net/20220327_279/1648368607131r6ybM_JPEG/49504390843401571_2034102349.jpg?type=m10000_10000_no_rotate\n",
      "https://shop-phinf.pstatic.net/20220327_281/1648368607226r66xo_JPEG/49504390936692556_1523739219.jpg?type=m10000_10000_no_rotate\n",
      "44 / 50 - 6466022459\n"
     ]
    },
    {
     "name": "stderr",
     "output_type": "stream",
     "text": [
      "\n",
      "\n",
      "====== WebDriver manager ======\n",
      "Current google-chrome version is 102.0.5005\n",
      "Get LATEST chromedriver version for 102.0.5005 google-chrome\n",
      "Driver [C:\\Users\\Wook\\.wdm\\drivers\\chromedriver\\win32\\102.0.5005.61\\chromedriver.exe] found in cache\n"
     ]
    },
    {
     "name": "stdout",
     "output_type": "stream",
     "text": [
      "https://shop-phinf.pstatic.net/20220327_27/16483683779794SO5z_JPEG/49504161695974375_485123880.jpg?type=m10000_10000_no_rotate\n",
      "https://shop-phinf.pstatic.net/20220327_249/1648368478143tOKc0_JPEG/49504261858396193_1169554775.jpg?type=m10000_10000_no_rotate\n",
      "https://shop-phinf.pstatic.net/20220327_175/1648366744671qtW55_JPEG/49502590151230736_666838155.jpg?type=m10000_10000_no_rotate\n",
      "https://shop-phinf.pstatic.net/20220327_245/1648368478292fCopt_JPEG/49504262007003694_1834621395.jpg?type=m10000_10000_no_rotate\n",
      "https://shop-phinf.pstatic.net/20220327_18/16483684783746WF2G_JPEG/49504262088086730_223864311.jpg?type=m10000_10000_no_rotate\n",
      "https://shop-phinf.pstatic.net/20220327_290/1648368478510wUG6r_JPEG/49504262223215960_1015090560.jpg?type=m10000_10000_no_rotate\n",
      "https://shop-phinf.pstatic.net/20220327_144/1648368478674SV4tB_JPEG/49504262386885091_1163828280.jpg?type=m10000_10000_no_rotate\n",
      "45 / 50 - 6466019178\n"
     ]
    },
    {
     "name": "stderr",
     "output_type": "stream",
     "text": [
      "\n",
      "\n",
      "====== WebDriver manager ======\n",
      "Current google-chrome version is 102.0.5005\n",
      "Get LATEST chromedriver version for 102.0.5005 google-chrome\n",
      "Driver [C:\\Users\\Wook\\.wdm\\drivers\\chromedriver\\win32\\102.0.5005.61\\chromedriver.exe] found in cache\n"
     ]
    },
    {
     "name": "stdout",
     "output_type": "stream",
     "text": [
      "https://shop-phinf.pstatic.net/20220327_279/1648368214775yHCDJ_JPEG/49503998492159898_393704388.jpg?type=m10000_10000_no_rotate\n",
      "https://shop-phinf.pstatic.net/20220327_270/16483682350359Q6qp_JPEG/49504018751529695_656179389.jpg?type=m10000_10000_no_rotate\n",
      "https://shop-phinf.pstatic.net/20220327_38/1648368235112WUw1z_JPEG/49504018829153950_1974923042.jpg?type=m10000_10000_no_rotate\n",
      "https://shop-phinf.pstatic.net/20220327_270/1648366734102hBmMD_JPEG/49502579803652120_1038007298.jpg?type=m10000_10000_no_rotate\n",
      "https://shop-phinf.pstatic.net/20220327_280/1648368235258xeM5a_JPEG/49504018973281438_578808631.jpg?type=m10000_10000_no_rotate\n",
      "https://shop-phinf.pstatic.net/20220327_14/1648368235340Ye4Lr_JPEG/49504019053651541_109665798.jpg?type=m10000_10000_no_rotate\n",
      "https://shop-phinf.pstatic.net/20220327_241/1648368235431Nhbk4_JPEG/49504019144632812_922446019.jpg?type=m10000_10000_no_rotate\n",
      "https://shop-phinf.pstatic.net/20220327_30/1648368235519ccqiY_JPEG/49504019231017622_1205064315.jpg?type=m10000_10000_no_rotate\n",
      "46 / 50 - 6466014221\n"
     ]
    },
    {
     "name": "stderr",
     "output_type": "stream",
     "text": [
      "\n",
      "\n",
      "====== WebDriver manager ======\n",
      "Current google-chrome version is 102.0.5005\n",
      "Get LATEST chromedriver version for 102.0.5005 google-chrome\n",
      "Driver [C:\\Users\\Wook\\.wdm\\drivers\\chromedriver\\win32\\102.0.5005.61\\chromedriver.exe] found in cache\n"
     ]
    },
    {
     "name": "stdout",
     "output_type": "stream",
     "text": [
      "https://shop-phinf.pstatic.net/20220327_51/1648368053159iJQnc_JPEG/49503836840073167_1919011930.jpg?type=m10000_10000_no_rotate\n",
      "https://shop-phinf.pstatic.net/20220327_153/1648368070894Tb1bt_JPEG/49503854355808641_1301998868.jpg?type=m10000_10000_no_rotate\n",
      "https://shop-phinf.pstatic.net/20220327_292/1648368071331reozm_JPEG/49503854775301223_1179471212.jpg?type=m10000_10000_no_rotate\n",
      "https://shop-phinf.pstatic.net/20220327_187/1648366726096m4FYU_JPEG/49502571797256937_250628476.jpg?type=m10000_10000_no_rotate\n",
      "https://shop-phinf.pstatic.net/20220327_215/1648368071746mdjJI_JPEG/49503855451679529_1586715763.jpg?type=m10000_10000_no_rotate\n",
      "https://shop-phinf.pstatic.net/20220327_236/1648368071919zR9hb_JPEG/49503855615954056_1016992717.jpg?type=m10000_10000_no_rotate\n",
      "https://shop-phinf.pstatic.net/20220327_17/1648368072172jpi5d_JPEG/49503855870170047_1035582284.jpg?type=m10000_10000_no_rotate\n",
      "https://shop-phinf.pstatic.net/20220327_11/1648368072460XixiW_JPEG/49503856151950003_815782580.jpg?type=m10000_10000_no_rotate\n",
      "47 / 50 - 6466010054\n"
     ]
    },
    {
     "name": "stderr",
     "output_type": "stream",
     "text": [
      "\n",
      "\n",
      "====== WebDriver manager ======\n",
      "Current google-chrome version is 102.0.5005\n",
      "Get LATEST chromedriver version for 102.0.5005 google-chrome\n",
      "Driver [C:\\Users\\Wook\\.wdm\\drivers\\chromedriver\\win32\\102.0.5005.61\\chromedriver.exe] found in cache\n"
     ]
    },
    {
     "name": "stdout",
     "output_type": "stream",
     "text": [
      "https://shop-phinf.pstatic.net/20220327_57/1648367930349HfhnM_JPEG/49503714067291449_1599913786.jpg?type=m10000_10000_no_rotate\n",
      "https://shop-phinf.pstatic.net/20220327_216/1648367951116YtpDw_JPEG/49503734829784254_1385558148.jpg?type=m10000_10000_no_rotate\n",
      "https://shop-phinf.pstatic.net/20220327_285/16483679512769sjAB_JPEG/49503734989533279_737597925.jpg?type=m10000_10000_no_rotate\n",
      "https://shop-phinf.pstatic.net/20220327_270/1648366718045G3exF_JPEG/49502563747852952_1510126889.jpg?type=m10000_10000_no_rotate\n",
      "https://shop-phinf.pstatic.net/20220327_286/1648367951423orVHm_JPEG/49503735135513590_2140844795.jpg?type=m10000_10000_no_rotate\n",
      "https://shop-phinf.pstatic.net/20220327_181/16483679516093PXss_JPEG/49503735323719592_1625198206.jpg?type=m10000_10000_no_rotate\n",
      "https://shop-phinf.pstatic.net/20220327_205/1648367951711NBLe8_JPEG/49503735420318018_421061709.jpg?type=m10000_10000_no_rotate\n",
      "https://shop-phinf.pstatic.net/20220327_210/1648367951877PBTj2_JPEG/49503735591106062_987849027.jpg?type=m10000_10000_no_rotate\n",
      "48 / 50 - 6466005689\n"
     ]
    },
    {
     "name": "stderr",
     "output_type": "stream",
     "text": [
      "\n",
      "\n",
      "====== WebDriver manager ======\n",
      "Current google-chrome version is 102.0.5005\n",
      "Get LATEST chromedriver version for 102.0.5005 google-chrome\n",
      "Driver [C:\\Users\\Wook\\.wdm\\drivers\\chromedriver\\win32\\102.0.5005.61\\chromedriver.exe] found in cache\n"
     ]
    },
    {
     "name": "stdout",
     "output_type": "stream",
     "text": [
      "https://shop-phinf.pstatic.net/20220327_127/1648367646496AXnoB_JPEG/49503430213898136_215790177.jpg?type=m10000_10000_no_rotate\n",
      "https://shop-phinf.pstatic.net/20220327_127/1648367665586hacl3_JPEG/49503449302662734_730708627.jpg?type=m10000_10000_no_rotate\n",
      "https://shop-phinf.pstatic.net/20220327_247/1648366700594XkFeT_JPEG/49502546293547236_768608958.jpg?type=m10000_10000_no_rotate\n",
      "https://shop-phinf.pstatic.net/20220327_146/1648367665728AxjSq_JPEG/49503449443593207_226646017.jpg?type=m10000_10000_no_rotate\n",
      "https://shop-phinf.pstatic.net/20220327_1/16483676658039DFjz_JPEG/49503449519438854_37178574.jpg?type=m10000_10000_no_rotate\n",
      "https://shop-phinf.pstatic.net/20220327_12/1648367665939vg37k_JPEG/49503449654108834_139753564.jpg?type=m10000_10000_no_rotate\n",
      "https://shop-phinf.pstatic.net/20220327_100/1648367666093lr6z7_JPEG/49503449807470527_785237707.jpg?type=m10000_10000_no_rotate\n",
      "49 / 50 - 6465998559\n"
     ]
    },
    {
     "name": "stderr",
     "output_type": "stream",
     "text": [
      "\n",
      "\n",
      "====== WebDriver manager ======\n",
      "Current google-chrome version is 102.0.5005\n",
      "Get LATEST chromedriver version for 102.0.5005 google-chrome\n",
      "Driver [C:\\Users\\Wook\\.wdm\\drivers\\chromedriver\\win32\\102.0.5005.61\\chromedriver.exe] found in cache\n"
     ]
    },
    {
     "name": "stdout",
     "output_type": "stream",
     "text": [
      "https://shop-phinf.pstatic.net/20220327_151/1648367510955B19wG_JPEG/49503294666776332_418976933.jpg?type=m10000_10000_no_rotate\n",
      "https://shop-phinf.pstatic.net/20220327_274/1648367525001ehBMD_JPEG/49503308715402678_1902928412.jpg?type=m10000_10000_no_rotate\n",
      "https://shop-phinf.pstatic.net/20220327_78/1648366691938qlNh7_JPEG/49502537644472096_542156882.jpg?type=m10000_10000_no_rotate\n",
      "https://shop-phinf.pstatic.net/20220327_129/1648367525168UjHG0_JPEG/49503308884041546_1856846661.jpg?type=m10000_10000_no_rotate\n",
      "https://shop-phinf.pstatic.net/20220327_43/1648367525298ROmpu_JPEG/49503309013742563_1109906200.jpg?type=m10000_10000_no_rotate\n",
      "https://shop-phinf.pstatic.net/20220327_34/1648367525474mehIb_JPEG/49503309187203875_560462246.jpg?type=m10000_10000_no_rotate\n",
      "https://shop-phinf.pstatic.net/20220327_273/1648367525707xD8No_JPEG/49503309417572439_394399767.jpg?type=m10000_10000_no_rotate\n",
      "50 / 50 - 6465994434\n"
     ]
    }
   ],
   "source": [
    "from selenium import webdriver\n",
    "from selenium.webdriver import ActionChains\n",
    "from selenium.webdriver.common.by import By\n",
    "from webdriver_manager.chrome import ChromeDriverManager\n",
    "from PIL import Image\n",
    "import time\n",
    "import os\n",
    "import urllib.request\n",
    "\n",
    "#옵션 headless\n",
    "options = webdriver.ChromeOptions()\n",
    "options.headless = True\n",
    "\n",
    "List_1 = [\n",
    "6475794040,\n",
    "6475784487,\n",
    "6475778863,\n",
    "6475772998,\n",
    "6475760526,\n",
    "6475748348,\n",
    "6475666312,\n",
    "6475656327,\n",
    "6475643370,\n",
    "6475622876,\n",
    "6475609478,\n",
    "6475593655,\n",
    "6475577705,\n",
    "6466333774,\n",
    "6466332383,\n",
    "6466329692,\n",
    "6466275195,\n",
    "6466272819,\n",
    "6466269698,\n",
    "6466266990,\n",
    "6466237501,\n",
    "6466236481,\n",
    "6466210832,\n",
    "6466208874,\n",
    "6466206727,\n",
    "6466203235,\n",
    "6466201357,\n",
    "6466197024,\n",
    "6466178963,\n",
    "6466174165,\n",
    "6466172357,\n",
    "6466168496,\n",
    "6466165044,\n",
    "6466163069,\n",
    "6466125796,\n",
    "6466123339,\n",
    "6466120769,\n",
    "6466094902,\n",
    "6466092404,\n",
    "6466088741,\n",
    "6466071118,\n",
    "6466068870,\n",
    "6466066246,\n",
    "6466022459,\n",
    "6466019178,\n",
    "6466014221,\n",
    "6466010054,\n",
    "6466005689,\n",
    "6465998559,\n",
    "6465994434\n",
    "]\n",
    "\n",
    "\n",
    "# driver = webdriver.Chrome(ChromeDriverManager().install()) \n",
    "count = 1\n",
    "\n",
    "for i in List_1:\n",
    "    URL = 'https://smartstore.naver.com/europeinroom/products/'+str(i)\n",
    "    driver = webdriver.Chrome(ChromeDriverManager().install(), options=options) \n",
    "    driver.get(URL)\n",
    "\n",
    "    #캡쳐\n",
    "    S = lambda X: driver.execute_script('return document.body.parentNode.scroll'+X) # 스크롤 하고 스크롤 크기 가져오는 ?\n",
    "    time.sleep(1)\n",
    "    driver.set_window_size(S(\"Width\"),S('Height')+5000) # May need manual adjustment\n",
    "    time.sleep(7)    \n",
    "    driver.find_element_by_css_selector('._9F9CWn02VE > div:nth-child(1) > div:nth-child(1) > div:nth-child(1) > div:nth-child(1)').screenshot('origin '+str(i)+'.png')\n",
    "#     time.sleep(1)\n",
    "    image1 = Image.open('origin '+str(i)+'.png')\n",
    "    y = image1.size[1]\n",
    "    crop_img = image1.crop((0,0,1020,y-7020))\n",
    "    crop_img.save(str(i)+'.png')  \n",
    "    \n",
    "    #대표 이미지\n",
    "    s = driver.find_elements_by_css_selector('._2Yq5J2HeBn > li')\n",
    "    z = driver.find_element_by_css_selector('._23RpOU6xpc')\n",
    "\n",
    "    for m in range(len(s)):\n",
    "        webdriver.ActionChains(driver).move_to_element(s[m]).perform()\n",
    "        time.sleep(0.05) \n",
    "        webdriver.ActionChains(driver).move_to_element(z).perform()\n",
    "     \n",
    "    q = driver.find_elements_by_css_selector('._37ptkngDmo > img')\n",
    "\n",
    "    count1 = 1\n",
    "    for xx in q: \n",
    "        print(xx.get_attribute('src'))\n",
    "        urllib.request.urlretrieve(xx.get_attribute('src'),'{}_{}.png'.format(str(i),count1))\n",
    "        count1 +=1\n",
    "    \n",
    "    \n",
    "    print('{} / {} - {}'.format(count,len(List_1),i))\n",
    "    count += 1\n",
    "    driver.quit()\n",
    "    time.sleep(1)"
   ]
  }
 ],
 "metadata": {
  "kernelspec": {
   "display_name": "Python 3 (ipykernel)",
   "language": "python",
   "name": "python3"
  },
  "language_info": {
   "codemirror_mode": {
    "name": "ipython",
    "version": 3
   },
   "file_extension": ".py",
   "mimetype": "text/x-python",
   "name": "python",
   "nbconvert_exporter": "python",
   "pygments_lexer": "ipython3",
   "version": "3.9.7"
  }
 },
 "nbformat": 4,
 "nbformat_minor": 5
}
