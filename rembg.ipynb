{
 "cells": [
  {
   "cell_type": "code",
   "execution_count": 1,
   "id": "f25ac85a",
   "metadata": {},
   "outputs": [
    {
     "name": "stdout",
     "output_type": "stream",
     "text": [
      "fin.\n"
     ]
    }
   ],
   "source": [
    "from rembg.bg import remove\n",
    "from PIL import Image\n",
    "\n",
    "input_path = 'input.jpg'\n",
    "output_path = 'output.png'\n",
    "im = Image.open(input_path).convert(\"RGB\")\n",
    "im.save('convert.jpg')\n",
    "input = Image.open('convert.jpg')\n",
    "output = remove(input)\n",
    "\n",
    "output.save(output_path)\n",
    "print('fin.')"
   ]
  },
  {
   "cell_type": "code",
   "execution_count": null,
   "id": "6ec7645e",
   "metadata": {},
   "outputs": [],
   "source": [
    "pip install rembg"
   ]
  },
  {
   "cell_type": "code",
   "execution_count": 4,
   "id": "c1d9a842",
   "metadata": {},
   "outputs": [
    {
     "name": "stdout",
     "output_type": "stream",
     "text": [
      "C:\\Users\\Wook\\Anaconda3\\python.exe\n"
     ]
    }
   ],
   "source": [
    "import sys\n",
    "print(sys.executable)"
   ]
  },
  {
   "cell_type": "code",
   "execution_count": null,
   "id": "2308d7d0",
   "metadata": {},
   "outputs": [],
   "source": [
    "jupyter kernelspec list"
   ]
  },
  {
   "cell_type": "code",
   "execution_count": null,
   "id": "1806c055",
   "metadata": {},
   "outputs": [],
   "source": [
    "pip list"
   ]
  },
  {
   "cell_type": "code",
   "execution_count": 14,
   "id": "d599dbfa",
   "metadata": {},
   "outputs": [
    {
     "name": "stderr",
     "output_type": "stream",
     "text": [
      "\n",
      "\n",
      "====== WebDriver manager ======\n",
      "Current google-chrome version is 99.0.4844\n",
      "Get LATEST chromedriver version for 99.0.4844 google-chrome\n",
      "Driver [C:\\Users\\Wook\\.wdm\\drivers\\chromedriver\\win32\\99.0.4844.51\\chromedriver.exe] found in cache\n",
      "C:\\Users\\Wook\\AppData\\Local\\Temp/ipykernel_42320/106820283.py:61: DeprecationWarning: executable_path has been deprecated, please pass in a Service object\n",
      "  driver = webdriver.Chrome(ChromeDriverManager().install(), options=options)\n",
      "C:\\Users\\Wook\\AppData\\Local\\Temp/ipykernel_42320/106820283.py:64: DeprecationWarning: find_element_by_css_selector is deprecated. Please use find_element(by=By.CSS_SELECTOR, value=css_selector) instead\n",
      "  pro_name = driver.find_element_by_css_selector('.product__title')\n",
      "C:\\Users\\Wook\\AppData\\Local\\Temp/ipykernel_42320/106820283.py:66: DeprecationWarning: find_element_by_css_selector is deprecated. Please use find_element(by=By.CSS_SELECTOR, value=css_selector) instead\n",
      "  footer_ = driver.find_element_by_css_selector('.site-footer__copyright')\n"
     ]
    },
    {
     "name": "stdout",
     "output_type": "stream",
     "text": [
      "LION DOT HOOD\n"
     ]
    },
    {
     "name": "stderr",
     "output_type": "stream",
     "text": [
      "C:\\Users\\Wook\\AppData\\Local\\Temp/ipykernel_42320/106820283.py:75: DeprecationWarning: find_element_by_css_selector is deprecated. Please use find_element(by=By.CSS_SELECTOR, value=css_selector) instead\n",
      "  pro_color = driver.find_element_by_css_selector('.product__images')\n"
     ]
    },
    {
     "name": "stdout",
     "output_type": "stream",
     "text": [
      "Black\n",
      "Black\n",
      "https://cdn.shopify.com/s/files/1/0087/6193/3920/products/1924770_BLAC_1_7eb2c9f2-f1bb-4447-98d7-1e0c71084ea3_1080x.jpg\n",
      "https://cdn.shopify.com/s/files/1/0087/6193/3920/products/1924770_BLAC_2_8f657494-e04e-4d03-a555-cfe47d281821_1080x.jpg\n"
     ]
    },
    {
     "name": "stderr",
     "output_type": "stream",
     "text": [
      "\n",
      "\n",
      "====== WebDriver manager ======\n"
     ]
    },
    {
     "name": "stdout",
     "output_type": "stream",
     "text": [
      "1 / 42\n"
     ]
    },
    {
     "name": "stderr",
     "output_type": "stream",
     "text": [
      "Current google-chrome version is 99.0.4844\n",
      "Get LATEST chromedriver version for 99.0.4844 google-chrome\n",
      "Driver [C:\\Users\\Wook\\.wdm\\drivers\\chromedriver\\win32\\99.0.4844.51\\chromedriver.exe] found in cache\n"
     ]
    },
    {
     "name": "stdout",
     "output_type": "stream",
     "text": [
      "LION DOT HOOD\n",
      "White\n",
      "White\n",
      "https://cdn.shopify.com/s/files/1/0087/6193/3920/products/1924770_WHIT_1_7772f288-5fc1-4907-a964-f87d68070742_1080x.jpg\n",
      "https://cdn.shopify.com/s/files/1/0087/6193/3920/products/1924770_WHIT_2_91413a75-b963-4032-8234-40c7e4dd0a63_1080x.jpg\n"
     ]
    },
    {
     "name": "stderr",
     "output_type": "stream",
     "text": [
      "\n",
      "\n",
      "====== WebDriver manager ======\n"
     ]
    },
    {
     "name": "stdout",
     "output_type": "stream",
     "text": [
      "2 / 42\n"
     ]
    },
    {
     "name": "stderr",
     "output_type": "stream",
     "text": [
      "Current google-chrome version is 99.0.4844\n",
      "Get LATEST chromedriver version for 99.0.4844 google-chrome\n",
      "Driver [C:\\Users\\Wook\\.wdm\\drivers\\chromedriver\\win32\\99.0.4844.51\\chromedriver.exe] found in cache\n"
     ]
    },
    {
     "name": "stdout",
     "output_type": "stream",
     "text": [
      "LION DOT HOOD\n",
      "Smoke\n",
      "Smoke\n",
      "https://cdn.shopify.com/s/files/1/0087/6193/3920/products/1924770_SMOK_1_fcad9de4-745d-4c00-834c-8319209c1d42_1080x.jpg\n",
      "https://cdn.shopify.com/s/files/1/0087/6193/3920/products/1924770_SMOK_2_e1c9acd5-7329-4a99-9273-35a2c1a6d544_1080x.jpg\n"
     ]
    },
    {
     "name": "stderr",
     "output_type": "stream",
     "text": [
      "\n",
      "\n",
      "====== WebDriver manager ======\n"
     ]
    },
    {
     "name": "stdout",
     "output_type": "stream",
     "text": [
      "3 / 42\n"
     ]
    },
    {
     "name": "stderr",
     "output_type": "stream",
     "text": [
      "Current google-chrome version is 99.0.4844\n",
      "Get LATEST chromedriver version for 99.0.4844 google-chrome\n",
      "Driver [C:\\Users\\Wook\\.wdm\\drivers\\chromedriver\\win32\\99.0.4844.51\\chromedriver.exe] found in cache\n"
     ]
    },
    {
     "name": "stdout",
     "output_type": "stream",
     "text": [
      "LION DOT HOOD\n",
      "Midnight\n",
      "Midnight\n",
      "https://cdn.shopify.com/s/files/1/0087/6193/3920/products/1924770_MIDN_1_a5767bb1-df16-489a-b115-3c529797d366_1080x.jpg\n",
      "https://cdn.shopify.com/s/files/1/0087/6193/3920/products/1924770_MIDN_2_50abc98c-bf0e-480f-9d9b-e7083f3ba7eb_1080x.jpg\n"
     ]
    },
    {
     "name": "stderr",
     "output_type": "stream",
     "text": [
      "\n",
      "\n",
      "====== WebDriver manager ======\n"
     ]
    },
    {
     "name": "stdout",
     "output_type": "stream",
     "text": [
      "4 / 42\n"
     ]
    },
    {
     "name": "stderr",
     "output_type": "stream",
     "text": [
      "Current google-chrome version is 99.0.4844\n",
      "Get LATEST chromedriver version for 99.0.4844 google-chrome\n",
      "Driver [C:\\Users\\Wook\\.wdm\\drivers\\chromedriver\\win32\\99.0.4844.51\\chromedriver.exe] found in cache\n"
     ]
    },
    {
     "name": "stdout",
     "output_type": "stream",
     "text": [
      "STOCK LOGO ZIP HOOD\n",
      "Black\n",
      "Black\n",
      "https://cdn.shopify.com/s/files/1/0087/6193/3920/products/118471_BA22_1_1080x.jpg\n",
      "https://cdn.shopify.com/s/files/1/0087/6193/3920/products/118471_BA22_2_1080x.jpg\n",
      "https://cdn.shopify.com/s/files/1/0087/6193/3920/products/118471_BA22_3_1080x.jpg\n",
      "https://cdn.shopify.com/s/files/1/0087/6193/3920/products/118471_BA22_5_1080x.jpg\n",
      "https://cdn.shopify.com/s/files/1/0087/6193/3920/products/118471_BA22_6_1080x.jpg\n",
      "https://cdn.shopify.com/s/files/1/0087/6193/3920/products/118471_BA22_7_1080x.jpg\n",
      "https://cdn.shopify.com/s/files/1/0087/6193/3920/products/118471_BA22_8_1080x.jpg\n",
      "https://cdn.shopify.com/s/files/1/0087/6193/3920/products/118471_BA22_9_1080x.jpg\n"
     ]
    },
    {
     "name": "stderr",
     "output_type": "stream",
     "text": [
      "\n",
      "\n",
      "====== WebDriver manager ======\n"
     ]
    },
    {
     "name": "stdout",
     "output_type": "stream",
     "text": [
      "5 / 42\n"
     ]
    },
    {
     "name": "stderr",
     "output_type": "stream",
     "text": [
      "Current google-chrome version is 99.0.4844\n",
      "Get LATEST chromedriver version for 99.0.4844 google-chrome\n",
      "Driver [C:\\Users\\Wook\\.wdm\\drivers\\chromedriver\\win32\\99.0.4844.51\\chromedriver.exe] found in cache\n"
     ]
    },
    {
     "name": "stdout",
     "output_type": "stream",
     "text": [
      "STOCK LOGO ZIP HOOD\n",
      "Grey Heather\n",
      "Grey Heather\n",
      "https://cdn.shopify.com/s/files/1/0087/6193/3920/products/118471_GH22_1_1080x.jpg\n",
      "https://cdn.shopify.com/s/files/1/0087/6193/3920/products/118471_GH22_2_1080x.jpg\n",
      "https://cdn.shopify.com/s/files/1/0087/6193/3920/products/118471_GH22_3_1080x.jpg\n",
      "https://cdn.shopify.com/s/files/1/0087/6193/3920/products/118471_GH22_4_1080x.jpg\n",
      "https://cdn.shopify.com/s/files/1/0087/6193/3920/products/118471_GH22_5_1080x.jpg\n",
      "https://cdn.shopify.com/s/files/1/0087/6193/3920/products/118471_GH22_6_1080x.jpg\n",
      "https://cdn.shopify.com/s/files/1/0087/6193/3920/products/118471_GH22_7_1080x.jpg\n",
      "https://cdn.shopify.com/s/files/1/0087/6193/3920/products/118471_GH22_8_1080x.jpg\n"
     ]
    },
    {
     "name": "stderr",
     "output_type": "stream",
     "text": [
      "\n",
      "\n",
      "====== WebDriver manager ======\n"
     ]
    },
    {
     "name": "stdout",
     "output_type": "stream",
     "text": [
      "6 / 42\n"
     ]
    },
    {
     "name": "stderr",
     "output_type": "stream",
     "text": [
      "Current google-chrome version is 99.0.4844\n",
      "Get LATEST chromedriver version for 99.0.4844 google-chrome\n",
      "Driver [C:\\Users\\Wook\\.wdm\\drivers\\chromedriver\\win32\\99.0.4844.51\\chromedriver.exe] found in cache\n"
     ]
    },
    {
     "name": "stdout",
     "output_type": "stream",
     "text": [
      "STOCK LOGO ZIP HOOD\n",
      "Navy\n",
      "Navy\n",
      "https://cdn.shopify.com/s/files/1/0087/6193/3920/products/118471_NV22_1_1080x.jpg\n",
      "https://cdn.shopify.com/s/files/1/0087/6193/3920/products/118471_NV22_2_1080x.jpg\n",
      "https://cdn.shopify.com/s/files/1/0087/6193/3920/products/118471_NV22_5_1080x.jpg\n",
      "https://cdn.shopify.com/s/files/1/0087/6193/3920/products/118471_NV22_6_1080x.jpg\n",
      "https://cdn.shopify.com/s/files/1/0087/6193/3920/products/118471_NV22_7_1080x.jpg\n",
      "https://cdn.shopify.com/s/files/1/0087/6193/3920/products/118471_NV22_8_1080x.jpg\n",
      "https://cdn.shopify.com/s/files/1/0087/6193/3920/products/118471_NV22_9_1080x.jpg\n"
     ]
    },
    {
     "name": "stderr",
     "output_type": "stream",
     "text": [
      "\n",
      "\n",
      "====== WebDriver manager ======\n"
     ]
    },
    {
     "name": "stdout",
     "output_type": "stream",
     "text": [
      "7 / 42\n"
     ]
    },
    {
     "name": "stderr",
     "output_type": "stream",
     "text": [
      "Current google-chrome version is 99.0.4844\n",
      "Get LATEST chromedriver version for 99.0.4844 google-chrome\n",
      "Driver [C:\\Users\\Wook\\.wdm\\drivers\\chromedriver\\win32\\99.0.4844.51\\chromedriver.exe] found in cache\n"
     ]
    },
    {
     "name": "stdout",
     "output_type": "stream",
     "text": [
      "STOCK LOGO ZIP HOOD\n",
      "Tan\n",
      "Tan\n",
      "https://cdn.shopify.com/s/files/1/0087/6193/3920/products/118471_TANN_1_1080x.jpg\n",
      "https://cdn.shopify.com/s/files/1/0087/6193/3920/products/118471_TANN_2_1080x.jpg\n",
      "https://cdn.shopify.com/s/files/1/0087/6193/3920/products/118471_TANN_3_1080x.jpg\n",
      "https://cdn.shopify.com/s/files/1/0087/6193/3920/products/118471_TANN_5_1080x.jpg\n",
      "https://cdn.shopify.com/s/files/1/0087/6193/3920/products/118471_TANN_6_1080x.jpg\n",
      "https://cdn.shopify.com/s/files/1/0087/6193/3920/products/118471_TANN_7_1080x.jpg\n",
      "https://cdn.shopify.com/s/files/1/0087/6193/3920/products/118471_TANN_8_1080x.jpg\n",
      "https://cdn.shopify.com/s/files/1/0087/6193/3920/products/118471_TANN_9_1080x.jpg\n"
     ]
    },
    {
     "name": "stderr",
     "output_type": "stream",
     "text": [
      "\n",
      "\n",
      "====== WebDriver manager ======\n"
     ]
    },
    {
     "name": "stdout",
     "output_type": "stream",
     "text": [
      "8 / 42\n"
     ]
    },
    {
     "name": "stderr",
     "output_type": "stream",
     "text": [
      "Current google-chrome version is 99.0.4844\n",
      "Get LATEST chromedriver version for 99.0.4844 google-chrome\n",
      "Driver [C:\\Users\\Wook\\.wdm\\drivers\\chromedriver\\win32\\99.0.4844.51\\chromedriver.exe] found in cache\n"
     ]
    },
    {
     "name": "stdout",
     "output_type": "stream",
     "text": [
      "STOCK LOGO ZIP HOOD\n",
      "Red\n",
      "Red\n",
      "https://cdn.shopify.com/s/files/1/0087/6193/3920/products/118471_RE22_1_1080x.jpg\n",
      "https://cdn.shopify.com/s/files/1/0087/6193/3920/products/118471_RE22_2_1080x.jpg\n",
      "https://cdn.shopify.com/s/files/1/0087/6193/3920/products/118471_RE22_3_1080x.jpg\n",
      "https://cdn.shopify.com/s/files/1/0087/6193/3920/products/118471_RE22_5_1080x.jpg\n",
      "https://cdn.shopify.com/s/files/1/0087/6193/3920/products/118471_RE22_6_1080x.jpg\n",
      "https://cdn.shopify.com/s/files/1/0087/6193/3920/products/118471_RE22_7_1080x.jpg\n",
      "https://cdn.shopify.com/s/files/1/0087/6193/3920/products/118471_RE22_8_1080x.jpg\n",
      "https://cdn.shopify.com/s/files/1/0087/6193/3920/products/118471_RE22_9_1080x.jpg\n",
      "https://cdn.shopify.com/s/files/1/0087/6193/3920/products/118471_RE22_10_1080x.jpg\n"
     ]
    },
    {
     "name": "stderr",
     "output_type": "stream",
     "text": [
      "\n",
      "\n",
      "====== WebDriver manager ======\n"
     ]
    },
    {
     "name": "stdout",
     "output_type": "stream",
     "text": [
      "9 / 42\n"
     ]
    },
    {
     "name": "stderr",
     "output_type": "stream",
     "text": [
      "Current google-chrome version is 99.0.4844\n",
      "Get LATEST chromedriver version for 99.0.4844 google-chrome\n",
      "Driver [C:\\Users\\Wook\\.wdm\\drivers\\chromedriver\\win32\\99.0.4844.51\\chromedriver.exe] found in cache\n"
     ]
    },
    {
     "name": "stdout",
     "output_type": "stream",
     "text": [
      "OVERDYED SS POCKET CREW\n",
      "Jet Black\n",
      "Jet Black\n",
      "https://cdn.shopify.com/s/files/1/0087/6193/3920/products/1140271_BA22_1_e08e421d-6a22-451e-b385-6ed096f567ba_1080x.jpg\n",
      "https://cdn.shopify.com/s/files/1/0087/6193/3920/products/1140271_BA22_2_bcd2ee82-cbf2-4d09-acf3-1bf0fd26b7a9_1080x.jpg\n",
      "https://cdn.shopify.com/s/files/1/0087/6193/3920/products/1140271_BA22_3_d13475f1-d15e-4297-8aa3-1c9ba6bc185c_1080x.jpg\n",
      "https://cdn.shopify.com/s/files/1/0087/6193/3920/products/1140271_BA22_4_fd8f2b55-b602-4972-9bf7-eaeecc7422c1_1080x.jpg\n"
     ]
    },
    {
     "name": "stderr",
     "output_type": "stream",
     "text": [
      "\n",
      "\n",
      "====== WebDriver manager ======\n"
     ]
    },
    {
     "name": "stdout",
     "output_type": "stream",
     "text": [
      "10 / 42\n"
     ]
    },
    {
     "name": "stderr",
     "output_type": "stream",
     "text": [
      "Current google-chrome version is 99.0.4844\n",
      "Get LATEST chromedriver version for 99.0.4844 google-chrome\n",
      "Driver [C:\\Users\\Wook\\.wdm\\drivers\\chromedriver\\win32\\99.0.4844.51\\chromedriver.exe] found in cache\n"
     ]
    },
    {
     "name": "stdout",
     "output_type": "stream",
     "text": [
      "OVERDYED SS POCKET CREW\n",
      "White\n",
      "White\n",
      "https://cdn.shopify.com/s/files/1/0087/6193/3920/products/1140271_WHIT_1_ecbb4608-0e22-4c9e-a746-0474f73e87cb_1080x.jpg\n",
      "https://cdn.shopify.com/s/files/1/0087/6193/3920/products/1140271_WHIT_2_9dab931f-47f1-4eae-a69a-d900c58f2aa2_1080x.jpg\n",
      "https://cdn.shopify.com/s/files/1/0087/6193/3920/products/1140271_WHIT_3_88d60abc-c8b4-4054-9c5c-a1fb45546d33_1080x.jpg\n",
      "https://cdn.shopify.com/s/files/1/0087/6193/3920/products/1140271_WHIT_4_54ab4546-9d93-47e5-8781-83e79a685300_1080x.jpg\n"
     ]
    },
    {
     "name": "stderr",
     "output_type": "stream",
     "text": [
      "\n",
      "\n",
      "====== WebDriver manager ======\n"
     ]
    },
    {
     "name": "stdout",
     "output_type": "stream",
     "text": [
      "11 / 42\n"
     ]
    },
    {
     "name": "stderr",
     "output_type": "stream",
     "text": [
      "Current google-chrome version is 99.0.4844\n",
      "Get LATEST chromedriver version for 99.0.4844 google-chrome\n",
      "Driver [C:\\Users\\Wook\\.wdm\\drivers\\chromedriver\\win32\\99.0.4844.51\\chromedriver.exe] found in cache\n"
     ]
    },
    {
     "name": "stdout",
     "output_type": "stream",
     "text": [
      "OVERDYED SS POCKET CREW\n",
      "Dark Navy\n",
      "Dark Navy\n",
      "https://cdn.shopify.com/s/files/1/0087/6193/3920/products/1140271_NV22_1_bb3492c3-8a4c-4b45-9308-95eeaa0835fb_1080x.jpg\n",
      "https://cdn.shopify.com/s/files/1/0087/6193/3920/products/1140271_NV22_2_afe4ed18-37cb-4e47-bc99-2f756ca94e0f_1080x.jpg\n",
      "https://cdn.shopify.com/s/files/1/0087/6193/3920/products/1140271_NV22_3_e8cb534b-37ac-4206-af52-99d2945d1817_1080x.jpg\n"
     ]
    },
    {
     "name": "stderr",
     "output_type": "stream",
     "text": [
      "\n",
      "\n",
      "====== WebDriver manager ======\n"
     ]
    },
    {
     "name": "stdout",
     "output_type": "stream",
     "text": [
      "12 / 42\n"
     ]
    },
    {
     "name": "stderr",
     "output_type": "stream",
     "text": [
      "Current google-chrome version is 99.0.4844\n",
      "Get LATEST chromedriver version for 99.0.4844 google-chrome\n",
      "Driver [C:\\Users\\Wook\\.wdm\\drivers\\chromedriver\\win32\\99.0.4844.51\\chromedriver.exe] found in cache\n"
     ]
    },
    {
     "name": "stdout",
     "output_type": "stream",
     "text": [
      "OVERDYED SS POCKET CREW\n",
      "Light Grey\n",
      "Light Grey\n",
      "https://cdn.shopify.com/s/files/1/0087/6193/3920/products/1140271_GH22_1_117d3bb7-c99d-4908-b3a3-54fb71f81b70_1080x.jpg\n",
      "https://cdn.shopify.com/s/files/1/0087/6193/3920/products/1140271_GH22_2_1c2704a3-915e-41ba-97f3-63084bbbb39f_1080x.jpg\n",
      "https://cdn.shopify.com/s/files/1/0087/6193/3920/products/1140271_GH22_3_ee9cf155-1875-48ca-85b1-438783cde7eb_1080x.jpg\n",
      "https://cdn.shopify.com/s/files/1/0087/6193/3920/products/1140271_GH22_4_f80a1ff3-bf75-4970-bbdb-ed0e4ada6a99_1080x.jpg\n",
      "https://cdn.shopify.com/s/files/1/0087/6193/3920/products/1140271_GH22_5_b50c980a-0dd2-4de4-a432-c78244dd2f5d_1080x.jpg\n",
      "https://cdn.shopify.com/s/files/1/0087/6193/3920/products/1140271_GH22_6_0f592428-4abd-4639-8075-1afd49d38c94_1080x.jpg\n"
     ]
    },
    {
     "name": "stderr",
     "output_type": "stream",
     "text": [
      "\n",
      "\n",
      "====== WebDriver manager ======\n"
     ]
    },
    {
     "name": "stdout",
     "output_type": "stream",
     "text": [
      "13 / 42\n"
     ]
    },
    {
     "name": "stderr",
     "output_type": "stream",
     "text": [
      "Current google-chrome version is 99.0.4844\n",
      "Get LATEST chromedriver version for 99.0.4844 google-chrome\n",
      "Driver [C:\\Users\\Wook\\.wdm\\drivers\\chromedriver\\win32\\99.0.4844.51\\chromedriver.exe] found in cache\n"
     ]
    },
    {
     "name": "stdout",
     "output_type": "stream",
     "text": [
      "OVERDYED SS POCKET CREW\n",
      "Tan\n",
      "Tan\n",
      "https://cdn.shopify.com/s/files/1/0087/6193/3920/products/1140271_TANN_1_0c87dc18-4827-4d5e-8890-dfc63ee9997a_1080x.jpg\n",
      "https://cdn.shopify.com/s/files/1/0087/6193/3920/products/1140271_TANN_2_35fca3d8-53f9-4d20-b1a4-82b0bae00226_1080x.jpg\n",
      "https://cdn.shopify.com/s/files/1/0087/6193/3920/products/1140271_TANN_3_cec4d631-3f1b-4cc4-8370-d3455e75dfe8_1080x.jpg\n",
      "https://cdn.shopify.com/s/files/1/0087/6193/3920/products/1140271_TANN_4_f916abe7-5ba3-4f13-94b4-2847d41b392b_1080x.jpg\n",
      "https://cdn.shopify.com/s/files/1/0087/6193/3920/products/1140271_TANN_5_cdb8b7c9-0ea7-460a-932b-0f2a1246fff8_1080x.jpg\n",
      "https://cdn.shopify.com/s/files/1/0087/6193/3920/products/1140271_TANN_6_e82ef000-798f-435a-a213-b1595230af3d_1080x.jpg\n",
      "https://cdn.shopify.com/s/files/1/0087/6193/3920/products/1140271_TANN_7_db72bf7d-9c5f-4e59-943a-2a1dba7ac754_1080x.jpg\n"
     ]
    },
    {
     "name": "stderr",
     "output_type": "stream",
     "text": [
      "\n",
      "\n",
      "====== WebDriver manager ======\n"
     ]
    },
    {
     "name": "stdout",
     "output_type": "stream",
     "text": [
      "14 / 42\n"
     ]
    },
    {
     "name": "stderr",
     "output_type": "stream",
     "text": [
      "Current google-chrome version is 99.0.4844\n",
      "Get LATEST chromedriver version for 99.0.4844 google-chrome\n",
      "Driver [C:\\Users\\Wook\\.wdm\\drivers\\chromedriver\\win32\\99.0.4844.51\\chromedriver.exe] found in cache\n"
     ]
    },
    {
     "name": "stdout",
     "output_type": "stream",
     "text": [
      "OVERDYED SS POCKET CREW\n",
      "Dark Red\n",
      "Dark Red\n",
      "https://cdn.shopify.com/s/files/1/0087/6193/3920/products/1140271_RE22_1_0cc1f04e-28ca-498b-ae2c-d851be041166_1080x.jpg\n",
      "https://cdn.shopify.com/s/files/1/0087/6193/3920/products/1140271_RE22_2_dba564a2-1e10-455b-aedb-b843d69dee1d_1080x.jpg\n"
     ]
    },
    {
     "name": "stderr",
     "output_type": "stream",
     "text": [
      "\n",
      "\n",
      "====== WebDriver manager ======\n"
     ]
    },
    {
     "name": "stdout",
     "output_type": "stream",
     "text": [
      "15 / 42\n"
     ]
    },
    {
     "name": "stderr",
     "output_type": "stream",
     "text": [
      "Current google-chrome version is 99.0.4844\n",
      "Get LATEST chromedriver version for 99.0.4844 google-chrome\n",
      "Driver [C:\\Users\\Wook\\.wdm\\drivers\\chromedriver\\win32\\99.0.4844.51\\chromedriver.exe] found in cache\n"
     ]
    },
    {
     "name": "stdout",
     "output_type": "stream",
     "text": [
      "DIAMOND QUILTED VEST\n",
      "Black\n",
      "Black\n",
      "https://cdn.shopify.com/s/files/1/0087/6193/3920/products/115637_BLAC_1_1080x.jpg\n",
      "https://cdn.shopify.com/s/files/1/0087/6193/3920/products/115637_BLAC_2_1080x.jpg\n",
      "https://cdn.shopify.com/s/files/1/0087/6193/3920/products/115637_BLAC_3_1080x.jpg\n",
      "https://cdn.shopify.com/s/files/1/0087/6193/3920/products/115637_BLAC_4_1080x.jpg\n",
      "https://cdn.shopify.com/s/files/1/0087/6193/3920/products/115637_BLAC_5_1080x.jpg\n",
      "https://cdn.shopify.com/s/files/1/0087/6193/3920/products/115637_BLAC_6_1080x.jpg\n",
      "https://cdn.shopify.com/s/files/1/0087/6193/3920/products/115637_BLAC_7_1080x.jpg\n"
     ]
    },
    {
     "name": "stderr",
     "output_type": "stream",
     "text": [
      "\n",
      "\n",
      "====== WebDriver manager ======\n"
     ]
    },
    {
     "name": "stdout",
     "output_type": "stream",
     "text": [
      "16 / 42\n"
     ]
    },
    {
     "name": "stderr",
     "output_type": "stream",
     "text": [
      "Current google-chrome version is 99.0.4844\n",
      "Get LATEST chromedriver version for 99.0.4844 google-chrome\n",
      "Driver [C:\\Users\\Wook\\.wdm\\drivers\\chromedriver\\win32\\99.0.4844.51\\chromedriver.exe] found in cache\n"
     ]
    },
    {
     "name": "stdout",
     "output_type": "stream",
     "text": [
      "DIAMOND QUILTED VEST\n",
      "Sage\n",
      "Sage\n",
      "https://cdn.shopify.com/s/files/1/0087/6193/3920/products/115637_SAGE_1_1080x.jpg\n",
      "https://cdn.shopify.com/s/files/1/0087/6193/3920/products/115637_SAGE_2_1080x.jpg\n",
      "https://cdn.shopify.com/s/files/1/0087/6193/3920/products/115637_SAGE_3_1080x.jpg\n",
      "https://cdn.shopify.com/s/files/1/0087/6193/3920/products/115637_SAGE_4_1080x.jpg\n",
      "https://cdn.shopify.com/s/files/1/0087/6193/3920/products/115637_SAGE_5_1080x.jpg\n",
      "https://cdn.shopify.com/s/files/1/0087/6193/3920/products/115637_SAGE_6_1080x.jpg\n",
      "https://cdn.shopify.com/s/files/1/0087/6193/3920/products/115637_SAGE_7_1080x.jpg\n"
     ]
    },
    {
     "name": "stderr",
     "output_type": "stream",
     "text": [
      "\n",
      "\n",
      "====== WebDriver manager ======\n"
     ]
    },
    {
     "name": "stdout",
     "output_type": "stream",
     "text": [
      "17 / 42\n"
     ]
    },
    {
     "name": "stderr",
     "output_type": "stream",
     "text": [
      "Current google-chrome version is 99.0.4844\n",
      "Get LATEST chromedriver version for 99.0.4844 google-chrome\n",
      "Driver [C:\\Users\\Wook\\.wdm\\drivers\\chromedriver\\win32\\99.0.4844.51\\chromedriver.exe] found in cache\n"
     ]
    },
    {
     "name": "stdout",
     "output_type": "stream",
     "text": [
      "NYLON FOLSOM JACKET\n",
      "Black\n",
      "Black\n",
      "https://cdn.shopify.com/s/files/1/0087/6193/3920/products/115635_BLAC_1_1080x.jpg\n",
      "https://cdn.shopify.com/s/files/1/0087/6193/3920/products/115635_BLAC_2_1080x.jpg\n",
      "https://cdn.shopify.com/s/files/1/0087/6193/3920/products/115635_BLAC_3_1080x.jpg\n",
      "https://cdn.shopify.com/s/files/1/0087/6193/3920/products/115635_BLAC_4_1080x.jpg\n",
      "https://cdn.shopify.com/s/files/1/0087/6193/3920/products/115635_BLAC_6_1080x.jpg\n",
      "https://cdn.shopify.com/s/files/1/0087/6193/3920/products/115635_BLAC_7_1080x.jpg\n",
      "https://cdn.shopify.com/s/files/1/0087/6193/3920/products/115635_BLAC_8_1080x.jpg\n"
     ]
    },
    {
     "name": "stderr",
     "output_type": "stream",
     "text": [
      "\n",
      "\n",
      "====== WebDriver manager ======\n"
     ]
    },
    {
     "name": "stdout",
     "output_type": "stream",
     "text": [
      "18 / 42\n"
     ]
    },
    {
     "name": "stderr",
     "output_type": "stream",
     "text": [
      "Current google-chrome version is 99.0.4844\n",
      "Get LATEST chromedriver version for 99.0.4844 google-chrome\n",
      "Driver [C:\\Users\\Wook\\.wdm\\drivers\\chromedriver\\win32\\99.0.4844.51\\chromedriver.exe] found in cache\n"
     ]
    },
    {
     "name": "stdout",
     "output_type": "stream",
     "text": [
      "NYLON FOLSOM JACKET\n",
      "Spruce\n",
      "Spruce\n",
      "https://cdn.shopify.com/s/files/1/0087/6193/3920/products/115635_SRPU_1_1080x.jpg\n",
      "https://cdn.shopify.com/s/files/1/0087/6193/3920/products/115635_SRPU_2_1080x.jpg\n",
      "https://cdn.shopify.com/s/files/1/0087/6193/3920/products/115635_SRPU_3_1080x.jpg\n",
      "https://cdn.shopify.com/s/files/1/0087/6193/3920/products/115635_SRPU_4_1080x.jpg\n",
      "https://cdn.shopify.com/s/files/1/0087/6193/3920/products/115635_SRPU_5_1080x.jpg\n",
      "https://cdn.shopify.com/s/files/1/0087/6193/3920/products/115635_SRPU_6_1080x.jpg\n",
      "https://cdn.shopify.com/s/files/1/0087/6193/3920/products/115635_SRPU_7_1080x.jpg\n",
      "https://cdn.shopify.com/s/files/1/0087/6193/3920/products/115635_SRPU_8_1080x.jpg\n",
      "https://cdn.shopify.com/s/files/1/0087/6193/3920/products/115635_SRPU_9_1080x.jpg\n",
      "https://cdn.shopify.com/s/files/1/0087/6193/3920/products/115635_SRPU_10_1080x.jpg\n"
     ]
    },
    {
     "name": "stderr",
     "output_type": "stream",
     "text": [
      "\n",
      "\n",
      "====== WebDriver manager ======\n"
     ]
    },
    {
     "name": "stdout",
     "output_type": "stream",
     "text": [
      "19 / 42\n"
     ]
    },
    {
     "name": "stderr",
     "output_type": "stream",
     "text": [
      "Current google-chrome version is 99.0.4844\n",
      "Get LATEST chromedriver version for 99.0.4844 google-chrome\n",
      "Driver [C:\\Users\\Wook\\.wdm\\drivers\\chromedriver\\win32\\99.0.4844.51\\chromedriver.exe] found in cache\n"
     ]
    },
    {
     "name": "stdout",
     "output_type": "stream",
     "text": [
      "NYLON FOLSOM BEACH PANT\n",
      "Black\n",
      "Black\n",
      "https://cdn.shopify.com/s/files/1/0087/6193/3920/products/116544_BLAC_1_1080x.jpg\n",
      "https://cdn.shopify.com/s/files/1/0087/6193/3920/products/116544_BLAC_2_1080x.jpg\n",
      "https://cdn.shopify.com/s/files/1/0087/6193/3920/products/116544_BLAC_4_1080x.jpg\n",
      "https://cdn.shopify.com/s/files/1/0087/6193/3920/products/116544_BLAC_6_1080x.jpg\n",
      "https://cdn.shopify.com/s/files/1/0087/6193/3920/products/116544_BLAC_7_1080x.jpg\n",
      "https://cdn.shopify.com/s/files/1/0087/6193/3920/products/116544_BLAC_8_1080x.jpg\n",
      "https://cdn.shopify.com/s/files/1/0087/6193/3920/products/116544_BLAC_9_1080x.jpg\n"
     ]
    },
    {
     "name": "stderr",
     "output_type": "stream",
     "text": [
      "\n",
      "\n",
      "====== WebDriver manager ======\n"
     ]
    },
    {
     "name": "stdout",
     "output_type": "stream",
     "text": [
      "20 / 42\n"
     ]
    },
    {
     "name": "stderr",
     "output_type": "stream",
     "text": [
      "Current google-chrome version is 99.0.4844\n",
      "Get LATEST chromedriver version for 99.0.4844 google-chrome\n",
      "Driver [C:\\Users\\Wook\\.wdm\\drivers\\chromedriver\\win32\\99.0.4844.51\\chromedriver.exe] found in cache\n"
     ]
    },
    {
     "name": "stdout",
     "output_type": "stream",
     "text": [
      "NYLON FOLSOM BEACH PANT\n",
      "Spruce\n",
      "Spruce\n",
      "https://cdn.shopify.com/s/files/1/0087/6193/3920/products/116544_SPRU_1_1080x.jpg\n",
      "https://cdn.shopify.com/s/files/1/0087/6193/3920/products/116544_SPRU_2_1080x.jpg\n",
      "https://cdn.shopify.com/s/files/1/0087/6193/3920/products/116544_SPRU_3_1080x.jpg\n",
      "https://cdn.shopify.com/s/files/1/0087/6193/3920/products/116544_SPRU_4_1080x.jpg\n",
      "https://cdn.shopify.com/s/files/1/0087/6193/3920/products/116544_SPRU_5_1080x.jpg\n",
      "https://cdn.shopify.com/s/files/1/0087/6193/3920/products/116544_SPRU_6_1080x.jpg\n"
     ]
    },
    {
     "name": "stderr",
     "output_type": "stream",
     "text": [
      "\n",
      "\n",
      "====== WebDriver manager ======\n"
     ]
    },
    {
     "name": "stdout",
     "output_type": "stream",
     "text": [
      "21 / 42\n"
     ]
    },
    {
     "name": "stderr",
     "output_type": "stream",
     "text": [
      "Current google-chrome version is 99.0.4844\n",
      "Get LATEST chromedriver version for 99.0.4844 google-chrome\n",
      "Driver [C:\\Users\\Wook\\.wdm\\drivers\\chromedriver\\win32\\99.0.4844.51\\chromedriver.exe] found in cache\n"
     ]
    },
    {
     "name": "stdout",
     "output_type": "stream",
     "text": [
      "SLUGGER TEE\n",
      "Black\n",
      "Black\n",
      "https://cdn.shopify.com/s/files/1/0087/6193/3920/products/1904774_BLAC_1_e5d71e39-5e2a-454e-9451-5ba7642ebe58_1080x.jpg\n",
      "https://cdn.shopify.com/s/files/1/0087/6193/3920/products/1904774_BLAC_2_87a07285-5930-4e81-b305-6c06ea5ca18f_1080x.jpg\n"
     ]
    },
    {
     "name": "stderr",
     "output_type": "stream",
     "text": [
      "\n",
      "\n",
      "====== WebDriver manager ======\n"
     ]
    },
    {
     "name": "stdout",
     "output_type": "stream",
     "text": [
      "22 / 42\n"
     ]
    },
    {
     "name": "stderr",
     "output_type": "stream",
     "text": [
      "Current google-chrome version is 99.0.4844\n",
      "Get LATEST chromedriver version for 99.0.4844 google-chrome\n",
      "Driver [C:\\Users\\Wook\\.wdm\\drivers\\chromedriver\\win32\\99.0.4844.51\\chromedriver.exe] found in cache\n"
     ]
    },
    {
     "name": "stdout",
     "output_type": "stream",
     "text": [
      "SLUGGER TEE\n",
      "White\n",
      "White\n",
      "https://cdn.shopify.com/s/files/1/0087/6193/3920/products/1904774_WHIT_1_22e9171b-8fe3-470a-a13d-1267dc5c8174_1080x.jpg\n",
      "https://cdn.shopify.com/s/files/1/0087/6193/3920/products/1904774_WHIT_2_e2ce1198-276e-4883-8d9d-546d37ca2575_1080x.jpg\n"
     ]
    },
    {
     "name": "stderr",
     "output_type": "stream",
     "text": [
      "\n",
      "\n",
      "====== WebDriver manager ======\n"
     ]
    },
    {
     "name": "stdout",
     "output_type": "stream",
     "text": [
      "23 / 42\n"
     ]
    },
    {
     "name": "stderr",
     "output_type": "stream",
     "text": [
      "Current google-chrome version is 99.0.4844\n",
      "Get LATEST chromedriver version for 99.0.4844 google-chrome\n",
      "Driver [C:\\Users\\Wook\\.wdm\\drivers\\chromedriver\\win32\\99.0.4844.51\\chromedriver.exe] found in cache\n"
     ]
    },
    {
     "name": "stdout",
     "output_type": "stream",
     "text": [
      "SLUGGER TEE\n",
      "Navy\n",
      "Navy\n",
      "https://cdn.shopify.com/s/files/1/0087/6193/3920/products/1904774_NAVY_1_13fa4ce3-9777-4cc8-8d38-f667e3d2a6e8_1080x.jpg\n",
      "https://cdn.shopify.com/s/files/1/0087/6193/3920/products/1904774_NAVY_2_ce856cdc-e6a5-4605-83a9-c3510bd98cf2_1080x.jpg\n"
     ]
    },
    {
     "name": "stderr",
     "output_type": "stream",
     "text": [
      "\n",
      "\n",
      "====== WebDriver manager ======\n"
     ]
    },
    {
     "name": "stdout",
     "output_type": "stream",
     "text": [
      "24 / 42\n"
     ]
    },
    {
     "name": "stderr",
     "output_type": "stream",
     "text": [
      "Current google-chrome version is 99.0.4844\n",
      "Get LATEST chromedriver version for 99.0.4844 google-chrome\n",
      "Driver [C:\\Users\\Wook\\.wdm\\drivers\\chromedriver\\win32\\99.0.4844.51\\chromedriver.exe] found in cache\n"
     ]
    },
    {
     "name": "stdout",
     "output_type": "stream",
     "text": [
      "SLUGGER TEE\n",
      "Yellow\n",
      "Yellow\n",
      "https://cdn.shopify.com/s/files/1/0087/6193/3920/products/1904774_YELO_1_230eff0e-79ba-4f9e-9e56-cb58b0eb0f20_1080x.jpg\n",
      "https://cdn.shopify.com/s/files/1/0087/6193/3920/products/1904774_YELO_2_7188033e-caa9-40ba-8ef2-ff4b83964df1_1080x.jpg\n"
     ]
    },
    {
     "name": "stderr",
     "output_type": "stream",
     "text": [
      "\n",
      "\n",
      "====== WebDriver manager ======\n"
     ]
    },
    {
     "name": "stdout",
     "output_type": "stream",
     "text": [
      "25 / 42\n"
     ]
    },
    {
     "name": "stderr",
     "output_type": "stream",
     "text": [
      "Current google-chrome version is 99.0.4844\n",
      "Get LATEST chromedriver version for 99.0.4844 google-chrome\n",
      "Driver [C:\\Users\\Wook\\.wdm\\drivers\\chromedriver\\win32\\99.0.4844.51\\chromedriver.exe] found in cache\n"
     ]
    },
    {
     "name": "stdout",
     "output_type": "stream",
     "text": [
      "SLUGGER TEE\n",
      "Red\n",
      "Red\n",
      "https://cdn.shopify.com/s/files/1/0087/6193/3920/products/1904774_REDD_1_063af848-9dbd-47d2-a08f-bbc298024aec_1080x.jpg\n",
      "https://cdn.shopify.com/s/files/1/0087/6193/3920/products/1904774_REDD_2_e19502da-5598-4ce4-a334-1bfc4636bb16_1080x.jpg\n"
     ]
    },
    {
     "name": "stderr",
     "output_type": "stream",
     "text": [
      "\n",
      "\n",
      "====== WebDriver manager ======\n"
     ]
    },
    {
     "name": "stdout",
     "output_type": "stream",
     "text": [
      "26 / 42\n"
     ]
    },
    {
     "name": "stderr",
     "output_type": "stream",
     "text": [
      "Current google-chrome version is 99.0.4844\n",
      "Get LATEST chromedriver version for 99.0.4844 google-chrome\n",
      "Driver [C:\\Users\\Wook\\.wdm\\drivers\\chromedriver\\win32\\99.0.4844.51\\chromedriver.exe] found in cache\n"
     ]
    },
    {
     "name": "stdout",
     "output_type": "stream",
     "text": [
      "SODA TEE\n",
      "Black\n",
      "Black\n",
      "https://cdn.shopify.com/s/files/1/0087/6193/3920/products/1904767_BLAC_1_5f11572f-9419-43c8-a710-561f66ee169a_1080x.jpg\n",
      "https://cdn.shopify.com/s/files/1/0087/6193/3920/products/1904767_BLAC_2_cde97991-2a13-439a-92e7-af6bdfeacb11_1080x.jpg\n"
     ]
    },
    {
     "name": "stderr",
     "output_type": "stream",
     "text": [
      "\n",
      "\n",
      "====== WebDriver manager ======\n"
     ]
    },
    {
     "name": "stdout",
     "output_type": "stream",
     "text": [
      "27 / 42\n"
     ]
    },
    {
     "name": "stderr",
     "output_type": "stream",
     "text": [
      "Current google-chrome version is 99.0.4844\n",
      "Get LATEST chromedriver version for 99.0.4844 google-chrome\n",
      "Driver [C:\\Users\\Wook\\.wdm\\drivers\\chromedriver\\win32\\99.0.4844.51\\chromedriver.exe] found in cache\n"
     ]
    },
    {
     "name": "stdout",
     "output_type": "stream",
     "text": [
      "SODA TEE\n",
      "Navy\n",
      "Navy\n",
      "https://cdn.shopify.com/s/files/1/0087/6193/3920/products/1904767_NAVY_1_b40b8c0e-f7d5-4593-a9c6-182a2a44a3a4_1080x.jpg\n",
      "https://cdn.shopify.com/s/files/1/0087/6193/3920/products/1904767_NAVY_2_8c1de477-b1da-4180-a1d7-8c2f7aadbe03_1080x.jpg\n"
     ]
    },
    {
     "name": "stderr",
     "output_type": "stream",
     "text": [
      "\n",
      "\n",
      "====== WebDriver manager ======\n"
     ]
    },
    {
     "name": "stdout",
     "output_type": "stream",
     "text": [
      "28 / 42\n"
     ]
    },
    {
     "name": "stderr",
     "output_type": "stream",
     "text": [
      "Current google-chrome version is 99.0.4844\n",
      "Get LATEST chromedriver version for 99.0.4844 google-chrome\n",
      "Driver [C:\\Users\\Wook\\.wdm\\drivers\\chromedriver\\win32\\99.0.4844.51\\chromedriver.exe] found in cache\n"
     ]
    },
    {
     "name": "stdout",
     "output_type": "stream",
     "text": [
      "SODA TEE\n",
      "White\n",
      "White\n",
      "https://cdn.shopify.com/s/files/1/0087/6193/3920/products/1904767_WHIT_1_d1eb4e80-9270-4788-bed5-72b3a1f11d04_1080x.jpg\n",
      "https://cdn.shopify.com/s/files/1/0087/6193/3920/products/1904767_WHIT_2_a6b1dc17-94a9-4c5d-a4e6-300afcc21768_1080x.jpg\n"
     ]
    },
    {
     "name": "stderr",
     "output_type": "stream",
     "text": [
      "\n",
      "\n",
      "====== WebDriver manager ======\n"
     ]
    },
    {
     "name": "stdout",
     "output_type": "stream",
     "text": [
      "29 / 42\n"
     ]
    },
    {
     "name": "stderr",
     "output_type": "stream",
     "text": [
      "Current google-chrome version is 99.0.4844\n",
      "Get LATEST chromedriver version for 99.0.4844 google-chrome\n",
      "Driver [C:\\Users\\Wook\\.wdm\\drivers\\chromedriver\\win32\\99.0.4844.51\\chromedriver.exe] found in cache\n"
     ]
    },
    {
     "name": "stdout",
     "output_type": "stream",
     "text": [
      "SODA TEE\n",
      "Red\n",
      "Red\n",
      "https://cdn.shopify.com/s/files/1/0087/6193/3920/products/1904767_REDD_1_e4493452-c428-47b1-a627-536662c1f4ae_1080x.jpg\n",
      "https://cdn.shopify.com/s/files/1/0087/6193/3920/products/1904767_REDD_2_1b8ef61e-bb33-44c0-8d01-e4afc0153abc_1080x.jpg\n"
     ]
    },
    {
     "name": "stderr",
     "output_type": "stream",
     "text": [
      "\n",
      "\n",
      "====== WebDriver manager ======\n"
     ]
    },
    {
     "name": "stdout",
     "output_type": "stream",
     "text": [
      "30 / 42\n"
     ]
    },
    {
     "name": "stderr",
     "output_type": "stream",
     "text": [
      "Current google-chrome version is 99.0.4844\n",
      "Get LATEST chromedriver version for 99.0.4844 google-chrome\n",
      "Driver [C:\\Users\\Wook\\.wdm\\drivers\\chromedriver\\win32\\99.0.4844.51\\chromedriver.exe] found in cache\n"
     ]
    },
    {
     "name": "stdout",
     "output_type": "stream",
     "text": [
      "LION DOT PIG. DYED TEE\n",
      "Black\n",
      "Black\n",
      "https://cdn.shopify.com/s/files/1/0087/6193/3920/products/1904770_BLAC_1_cffdf080-ed0c-4f45-8144-3501da2d82b2_1080x.jpg\n",
      "https://cdn.shopify.com/s/files/1/0087/6193/3920/products/1904770_BLAC_2_2ce9154e-385e-4f78-a177-ee2f6b0ea4c1_1080x.jpg\n"
     ]
    },
    {
     "name": "stderr",
     "output_type": "stream",
     "text": [
      "\n",
      "\n",
      "====== WebDriver manager ======\n"
     ]
    },
    {
     "name": "stdout",
     "output_type": "stream",
     "text": [
      "31 / 42\n"
     ]
    },
    {
     "name": "stderr",
     "output_type": "stream",
     "text": [
      "Current google-chrome version is 99.0.4844\n",
      "Get LATEST chromedriver version for 99.0.4844 google-chrome\n",
      "Driver [C:\\Users\\Wook\\.wdm\\drivers\\chromedriver\\win32\\99.0.4844.51\\chromedriver.exe] found in cache\n"
     ]
    },
    {
     "name": "stdout",
     "output_type": "stream",
     "text": [
      "LION DOT PIG. DYED TEE\n",
      "Natural\n",
      "Natural\n",
      "https://cdn.shopify.com/s/files/1/0087/6193/3920/products/1904770_NATL_1_a7361f83-19e4-4d9e-b83e-a00736e2008f_1080x.jpg\n",
      "https://cdn.shopify.com/s/files/1/0087/6193/3920/products/1904770_NATL_2_095cca10-1ea5-4b59-a118-ad8d0e96cf0d_1080x.jpg\n"
     ]
    },
    {
     "name": "stderr",
     "output_type": "stream",
     "text": [
      "\n",
      "\n",
      "====== WebDriver manager ======\n"
     ]
    },
    {
     "name": "stdout",
     "output_type": "stream",
     "text": [
      "32 / 42\n"
     ]
    },
    {
     "name": "stderr",
     "output_type": "stream",
     "text": [
      "Current google-chrome version is 99.0.4844\n",
      "Get LATEST chromedriver version for 99.0.4844 google-chrome\n",
      "Driver [C:\\Users\\Wook\\.wdm\\drivers\\chromedriver\\win32\\99.0.4844.51\\chromedriver.exe] found in cache\n"
     ]
    },
    {
     "name": "stdout",
     "output_type": "stream",
     "text": [
      "LION DOT PIG. DYED TEE\n",
      "Grey\n",
      "Grey\n",
      "https://cdn.shopify.com/s/files/1/0087/6193/3920/products/1904770_GREY_1_e17cf497-0a4d-4c02-ad59-bb7c15389520_1080x.jpg\n",
      "https://cdn.shopify.com/s/files/1/0087/6193/3920/products/1904770_GREY_2_8792c9f9-cbd6-49ff-97f6-9a26fff65b10_1080x.jpg\n"
     ]
    },
    {
     "name": "stderr",
     "output_type": "stream",
     "text": [
      "\n",
      "\n",
      "====== WebDriver manager ======\n"
     ]
    },
    {
     "name": "stdout",
     "output_type": "stream",
     "text": [
      "33 / 42\n"
     ]
    },
    {
     "name": "stderr",
     "output_type": "stream",
     "text": [
      "Current google-chrome version is 99.0.4844\n",
      "Get LATEST chromedriver version for 99.0.4844 google-chrome\n",
      "Driver [C:\\Users\\Wook\\.wdm\\drivers\\chromedriver\\win32\\99.0.4844.51\\chromedriver.exe] found in cache\n"
     ]
    },
    {
     "name": "stdout",
     "output_type": "stream",
     "text": [
      "LION DOT PIG. DYED TEE\n",
      "Green\n",
      "Green\n",
      "https://cdn.shopify.com/s/files/1/0087/6193/3920/products/1904770_GREN_1_865955bb-ac9b-4144-b406-d4b3d5debb3a_1080x.jpg\n",
      "https://cdn.shopify.com/s/files/1/0087/6193/3920/products/1904770_GREN_2_5bf494d6-a903-43a2-bcaa-bf124e718115_1080x.jpg\n"
     ]
    },
    {
     "name": "stderr",
     "output_type": "stream",
     "text": [
      "\n",
      "\n",
      "====== WebDriver manager ======\n"
     ]
    },
    {
     "name": "stdout",
     "output_type": "stream",
     "text": [
      "34 / 42\n"
     ]
    },
    {
     "name": "stderr",
     "output_type": "stream",
     "text": [
      "Current google-chrome version is 99.0.4844\n",
      "Get LATEST chromedriver version for 99.0.4844 google-chrome\n",
      "Driver [C:\\Users\\Wook\\.wdm\\drivers\\chromedriver\\win32\\99.0.4844.51\\chromedriver.exe] found in cache\n"
     ]
    },
    {
     "name": "stdout",
     "output_type": "stream",
     "text": [
      "REGAL CROWN TEE\n",
      "Coffee\n",
      "Coffee\n",
      "https://cdn.shopify.com/s/files/1/0087/6193/3920/products/1904771_COFF_1_437e21b3-3236-413a-b041-653a29d6093b_1080x.jpg\n",
      "https://cdn.shopify.com/s/files/1/0087/6193/3920/products/1904771_COFF_2_24d55140-3e1d-4fc8-be7c-da1b8f6de396_1080x.jpg\n"
     ]
    },
    {
     "name": "stderr",
     "output_type": "stream",
     "text": [
      "\n",
      "\n",
      "====== WebDriver manager ======\n"
     ]
    },
    {
     "name": "stdout",
     "output_type": "stream",
     "text": [
      "35 / 42\n"
     ]
    },
    {
     "name": "stderr",
     "output_type": "stream",
     "text": [
      "Current google-chrome version is 99.0.4844\n",
      "Get LATEST chromedriver version for 99.0.4844 google-chrome\n",
      "Driver [C:\\Users\\Wook\\.wdm\\drivers\\chromedriver\\win32\\99.0.4844.51\\chromedriver.exe] found in cache\n"
     ]
    },
    {
     "name": "stdout",
     "output_type": "stream",
     "text": [
      "REGAL CROWN TEE\n",
      "Grey\n",
      "Grey\n",
      "https://cdn.shopify.com/s/files/1/0087/6193/3920/products/1904771_GREY_1_3fadee5c-6a74-417e-922b-6830c24610af_1080x.jpg\n",
      "https://cdn.shopify.com/s/files/1/0087/6193/3920/products/1904771_GREY_2_8b37f126-10e8-4a21-a19a-0ebf08cddb90_1080x.jpg\n"
     ]
    },
    {
     "name": "stderr",
     "output_type": "stream",
     "text": [
      "\n",
      "\n",
      "====== WebDriver manager ======\n"
     ]
    },
    {
     "name": "stdout",
     "output_type": "stream",
     "text": [
      "36 / 42\n"
     ]
    },
    {
     "name": "stderr",
     "output_type": "stream",
     "text": [
      "Current google-chrome version is 99.0.4844\n",
      "Get LATEST chromedriver version for 99.0.4844 google-chrome\n",
      "Driver [C:\\Users\\Wook\\.wdm\\drivers\\chromedriver\\win32\\99.0.4844.51\\chromedriver.exe] found in cache\n"
     ]
    },
    {
     "name": "stdout",
     "output_type": "stream",
     "text": [
      "NYCO RIPSTOP BOONIE HAT\n",
      "Black\n",
      "Black\n",
      "https://cdn.shopify.com/s/files/1/0087/6193/3920/products/1321091_BLAC_1_583df47d-6ba9-42c3-b421-04b799fc3eab_1080x.jpg\n",
      "https://cdn.shopify.com/s/files/1/0087/6193/3920/products/1321091_BLAC_2_aaab9d75-8214-43d9-88d2-8d4fe7e82891_1080x.jpg\n",
      "https://cdn.shopify.com/s/files/1/0087/6193/3920/products/1321091_BLAC_3_a9a3bbc4-b8f8-4058-9c01-51edb34618dd_1080x.jpg\n"
     ]
    },
    {
     "name": "stderr",
     "output_type": "stream",
     "text": [
      "\n",
      "\n",
      "====== WebDriver manager ======\n"
     ]
    },
    {
     "name": "stdout",
     "output_type": "stream",
     "text": [
      "37 / 42\n"
     ]
    },
    {
     "name": "stderr",
     "output_type": "stream",
     "text": [
      "Current google-chrome version is 99.0.4844\n",
      "Get LATEST chromedriver version for 99.0.4844 google-chrome\n",
      "Driver [C:\\Users\\Wook\\.wdm\\drivers\\chromedriver\\win32\\99.0.4844.51\\chromedriver.exe] found in cache\n"
     ]
    },
    {
     "name": "stdout",
     "output_type": "stream",
     "text": [
      "NYCO RIPSTOP BOONIE HAT\n",
      "Rust\n",
      "Rust\n",
      "https://cdn.shopify.com/s/files/1/0087/6193/3920/products/1321091_RUST_1_896b850a-f005-43cd-b582-3f7ccccd3910_1080x.jpg\n",
      "https://cdn.shopify.com/s/files/1/0087/6193/3920/products/1321091_RUST_2_30164a47-91b4-4b57-b54c-42e24a045bdf_1080x.jpg\n",
      "https://cdn.shopify.com/s/files/1/0087/6193/3920/products/1321091_RUST_3_a0ad9c34-a595-4a19-b31e-ccfa5c8fd56b_1080x.jpg\n",
      "https://cdn.shopify.com/s/files/1/0087/6193/3920/products/1321091_RUST_4_49ccd761-6d25-4c70-86ed-6fd9c91a5604_1080x.jpg\n"
     ]
    },
    {
     "name": "stderr",
     "output_type": "stream",
     "text": [
      "\n",
      "\n",
      "====== WebDriver manager ======\n"
     ]
    },
    {
     "name": "stdout",
     "output_type": "stream",
     "text": [
      "38 / 42\n"
     ]
    },
    {
     "name": "stderr",
     "output_type": "stream",
     "text": [
      "Current google-chrome version is 99.0.4844\n",
      "Get LATEST chromedriver version for 99.0.4844 google-chrome\n",
      "Driver [C:\\Users\\Wook\\.wdm\\drivers\\chromedriver\\win32\\99.0.4844.51\\chromedriver.exe] found in cache\n"
     ]
    },
    {
     "name": "stdout",
     "output_type": "stream",
     "text": [
      "NYCO RIPSTOP BOONIE HAT\n",
      "Sage\n",
      "Sage\n",
      "https://cdn.shopify.com/s/files/1/0087/6193/3920/products/1321091_SAGE_1_0d28ab19-3623-4b0b-abff-c8e9336895a7_1080x.jpg\n",
      "https://cdn.shopify.com/s/files/1/0087/6193/3920/products/1321091_SAGE_2_35fc3899-186c-4791-a96b-5edf35e4a179_1080x.jpg\n",
      "https://cdn.shopify.com/s/files/1/0087/6193/3920/products/1321091_SAGE_3_9535d23b-80d1-446f-9da8-347dddc71129_1080x.jpg\n",
      "https://cdn.shopify.com/s/files/1/0087/6193/3920/products/1321091_SAGE_4_4ab76eb2-d1cc-4cb5-8fe6-6c818ec70f7a_1080x.jpg\n"
     ]
    },
    {
     "name": "stderr",
     "output_type": "stream",
     "text": [
      "\n",
      "\n",
      "====== WebDriver manager ======\n"
     ]
    },
    {
     "name": "stdout",
     "output_type": "stream",
     "text": [
      "39 / 42\n"
     ]
    },
    {
     "name": "stderr",
     "output_type": "stream",
     "text": [
      "Current google-chrome version is 99.0.4844\n",
      "Get LATEST chromedriver version for 99.0.4844 google-chrome\n",
      "Driver [C:\\Users\\Wook\\.wdm\\drivers\\chromedriver\\win32\\99.0.4844.51\\chromedriver.exe] found in cache\n"
     ]
    },
    {
     "name": "stdout",
     "output_type": "stream",
     "text": [
      "STÜSSY / NIKE SLIDE SANDALS (OFF NOIR)\n",
      "Off NoirWhite\n",
      "Off Noir/White\n",
      "https://cdn.shopify.com/s/files/1/0087/6193/3920/products/CW2787-001_OFFN_1_ae8f175b-e2e2-4af8-a478-2859ee061a07_1080x.jpg\n",
      "https://cdn.shopify.com/s/files/1/0087/6193/3920/products/CW2787-001_OFFN_2_45f54fea-6cd6-4851-8c5a-508cc316db89_1080x.jpg\n",
      "https://cdn.shopify.com/s/files/1/0087/6193/3920/products/CW2787-001_OFFN_3_0e760618-4bc0-4faa-ba40-e26f366fff0b_1080x.jpg\n",
      "https://cdn.shopify.com/s/files/1/0087/6193/3920/products/CW2787-001_OFFN_4_4d1eca63-defd-4e2f-ac0e-3103f556dbcb_1080x.jpg\n"
     ]
    },
    {
     "name": "stderr",
     "output_type": "stream",
     "text": [
      "\n",
      "\n",
      "====== WebDriver manager ======\n"
     ]
    },
    {
     "name": "stdout",
     "output_type": "stream",
     "text": [
      "40 / 42\n"
     ]
    },
    {
     "name": "stderr",
     "output_type": "stream",
     "text": [
      "Current google-chrome version is 99.0.4844\n",
      "Get LATEST chromedriver version for 99.0.4844 google-chrome\n",
      "Driver [C:\\Users\\Wook\\.wdm\\drivers\\chromedriver\\win32\\99.0.4844.51\\chromedriver.exe] found in cache\n"
     ]
    },
    {
     "name": "stdout",
     "output_type": "stream",
     "text": [
      "BIG LOGO TWILL BUCKET HAT\n",
      "Olive\n",
      "Olive\n",
      "https://cdn.shopify.com/s/files/1/0087/6193/3920/products/1321024_OLIV_1_ba329974-c9af-43ff-af40-c0f3f869ad60_1080x.jpg\n",
      "https://cdn.shopify.com/s/files/1/0087/6193/3920/products/1321024_OLIV_2_31a2161e-bb74-499f-bd90-9667960fc9b7_1080x.jpg\n"
     ]
    },
    {
     "name": "stderr",
     "output_type": "stream",
     "text": [
      "\n",
      "\n",
      "====== WebDriver manager ======\n"
     ]
    },
    {
     "name": "stdout",
     "output_type": "stream",
     "text": [
      "41 / 42\n"
     ]
    },
    {
     "name": "stderr",
     "output_type": "stream",
     "text": [
      "Current google-chrome version is 99.0.4844\n",
      "Get LATEST chromedriver version for 99.0.4844 google-chrome\n",
      "Driver [C:\\Users\\Wook\\.wdm\\drivers\\chromedriver\\win32\\99.0.4844.51\\chromedriver.exe] found in cache\n"
     ]
    },
    {
     "name": "stdout",
     "output_type": "stream",
     "text": [
      "COLLEGIATE MESH SHORT\n",
      "Black\n",
      "Black\n",
      "https://cdn.shopify.com/s/files/1/0087/6193/3920/products/112274_BLAC_1_48b2f6cf-45c9-4ce5-bac7-a824d05aa14d_1080x.jpg\n",
      "https://cdn.shopify.com/s/files/1/0087/6193/3920/products/112274_BLAC_2_c104af2c-162d-4d8d-a5df-aac3eb3bab63_1080x.jpg\n",
      "https://cdn.shopify.com/s/files/1/0087/6193/3920/products/112274_BLAC_3_e90e9dcb-e3d0-45b7-bbdc-18de3e04cc2d_1080x.jpg\n",
      "https://cdn.shopify.com/s/files/1/0087/6193/3920/products/112274_BLAC_4_df9c980e-f906-4ab4-ac07-7bb8ff8bc17a_1080x.jpg\n",
      "https://cdn.shopify.com/s/files/1/0087/6193/3920/products/112274_BLAC_5_b65bfc20-2968-4638-85bd-ddd885a18424_1080x.jpg\n",
      "https://cdn.shopify.com/s/files/1/0087/6193/3920/products/112274_BLAC_6_c6626d90-ae2f-45e1-a089-7197654292d1_1080x.jpg\n",
      "42 / 42\n"
     ]
    }
   ],
   "source": [
    "from selenium import webdriver\n",
    "from selenium.webdriver import ActionChains\n",
    "from selenium.webdriver.common.by import By\n",
    "from webdriver_manager.chrome import ChromeDriverManager\n",
    "from PIL import Image\n",
    "import time\n",
    "import os\n",
    "import urllib.request\n",
    "from bs4 import BeautifulSoup\n",
    "import re\n",
    "from rembg.bg import remove\n",
    "\n",
    "urls =[\"https://www.stussy.com/products/1924770-rasta-dot-hood-blac\",\n",
    "\"https://www.stussy.com/products/1924770-rasta-dot-hood-whit\",\n",
    "\"https://www.stussy.com/products/1924770-rasta-dot-hood-smok\",\n",
    "\"https://www.stussy.com/products/1924770-rasta-dot-hood-midn\",\n",
    "\"https://www.stussy.com/products/118471-stock-logo-zip-hood-ba22\",\n",
    "\"https://www.stussy.com/products/118471-stock-logo-zip-hood-gh22\",\n",
    "\"https://www.stussy.com/products/118471-stock-logo-zip-hood-nv22\",\n",
    "\"https://www.stussy.com/products/118471-stock-logo-zip-hood-tann\",\n",
    "\"https://www.stussy.com/products/118471-stock-logo-zip-hood-re22\",\n",
    "\"https://www.stussy.com/collections/overdyed/products/stock-logo-ss-pocket-crew?variant=39435570839648\",\n",
    "\"https://www.stussy.com/collections/overdyed/products/stock-logo-ss-pocket-crew?variant=39323856306272\",\n",
    "\"https://www.stussy.com/collections/overdyed/products/stock-logo-ss-pocket-crew?variant=39435582996576\",\n",
    "\"https://www.stussy.com/collections/overdyed/products/stock-logo-ss-pocket-crew?variant=39435575230560\",\n",
    "\"https://www.stussy.com/collections/overdyed/products/stock-logo-ss-pocket-crew?variant=39435590926432\",\n",
    "\"https://www.stussy.com/collections/overdyed/products/stock-logo-ss-pocket-crew?variant=39435587911776\",\n",
    "\"https://www.stussy.com/collections/outerwear/products/115637-diamond-quilted-vest-blac?variant=39428178542688\",\n",
    "\"https://www.stussy.com/products/115637-diamond-quilted-vest-sage\",\n",
    "\"https://www.stussy.com/collections/outerwear/products/115635-nylon-folsom-jacket?variant=39382665855072\",\n",
    "\"https://www.stussy.com/collections/outerwear/products/115635-nylon-folsom-jacket?variant=39382665691232\",\n",
    "\"https://www.stussy.com/collections/new-arrivals/products/116544-nylon-folsom-beach-pant?variant=39382669066336\",\n",
    "\"https://www.stussy.com/collections/new-arrivals/products/116544-nylon-folsom-beach-pant?variant=39382668902496\",\n",
    "\"https://www.stussy.com/products/1904774-slugger-tee-blac\",\n",
    "\"https://www.stussy.com/products/1904774-slugger-tee-whit\",\n",
    "\"https://www.stussy.com/products/1904774-slugger-tee-navy\",\n",
    "\"https://www.stussy.com/products/1904774-slugger-tee-yelo\",\n",
    "\"https://www.stussy.com/products/1904774-slugger-tee-redd\",\n",
    "\"https://www.stussy.com/products/1904767-soda-tee-blac\",\n",
    "\"https://www.stussy.com/products/1904767-soda-tee-navy\",\n",
    "\"https://www.stussy.com/products/1904767-soda-tee-whit\",\n",
    "\"https://www.stussy.com/products/1904767-soda-tee-redd\",\n",
    "\"https://www.stussy.com/collections/tees/products/1904770-rasta-dot-tee-blac?variant=39428523720800\",\n",
    "\"https://www.stussy.com/products/1904770-rasta-dot-tee-natl\",\n",
    "\"https://www.stussy.com/products/1904770-rasta-dot-tee-grey\",\n",
    "\"https://www.stussy.com/products/1904770-rasta-dot-tee-gren\",\n",
    "\"https://www.stussy.com/products/1904771-regal-crown-tee-coff\",\n",
    "\"https://www.stussy.com/products/1904771-regal-crown-tee-grey\",\n",
    "\"https://www.stussy.com/products/1321091-nyco-ripstop-boonie-hat-blac\",\n",
    "\"https://www.stussy.com/products/1321091-nyco-ripstop-boonie-hat-rust\",\n",
    "\"https://www.stussy.com/products/1321091-nyco-ripstop-boonie-hat-sage\",\n",
    "\"https://www.stussy.com/collections/accessories/products/stussy-nike-slide-sandals-off-noir?variant=39297335623776\",\n",
    "\"https://www.stussy.com/products/big-logo-twill-bucket-hat-1?pr_prod_strat=description&pr_rec_id=6b3ecc4c3&pr_rec_pid=4790954819680&pr_ref_pid=4682396074080&pr_seq=uniform?variant=32919810965600\",\n",
    "\"https://www.stussy.com/collections/shorts/products/112274-collegiate-mesh-short-blac?variant=39428512284768\"\n",
    "]\n",
    "\n",
    "options = webdriver.ChromeOptions()\n",
    "options.headless = True\n",
    "count_ = 1\n",
    "for url in urls:\n",
    "    driver = webdriver.Chrome(ChromeDriverManager().install(), options=options)\n",
    "    driver.get(url)\n",
    "    #요소 찾기 +'_?glCountry=US&glCurrency=USD'\n",
    "    pro_name = driver.find_element_by_css_selector('.product__title')\n",
    "    \n",
    "    footer_ = driver.find_element_by_css_selector('.site-footer__copyright')\n",
    "    print(pro_name.text)\n",
    "    #하단 스크롤\n",
    "#     webdriver.ActionChains(driver).move_to_element(footer_).perform()\n",
    "#     time.sleep(0.5)\n",
    "    S = lambda X: driver.execute_script('return document.body.parentNode.scroll'+X)\n",
    "    time.sleep(3)\n",
    "    driver.set_window_size(S(\"Width\"),S('Height')) # May need manual adjustment\n",
    "    #display none 이라 ? \n",
    "    pro_color = driver.find_element_by_css_selector('.product__images')\n",
    "    qq = pro_color.get_attribute('innerHTML')\n",
    "    soup = BeautifulSoup(qq, 'html.parser')\n",
    "    dir_color = soup.find(\"img\",\"lazyautosizes lazyloaded\").attrs['alt']\n",
    "    q_ = soup.find_all(\"img\",\"lazyautosizes lazyloaded\")\n",
    "    \n",
    "    #re.compile > 영어 , 숫자 , 스페이스 출력\n",
    "    new_color = re.sub(r\"[^a-zA-Z0-9 ]\",\"\",pro_name.text)\n",
    "    new_color_ = re.sub(r\"[^a-zA-Z0-9 ]\",\"\",dir_color)\n",
    "    print(new_color_)\n",
    "    print(dir_color)\n",
    "    #makedirs > fileExistError\n",
    "    os.makedirs('./{}'.format(new_color), exist_ok=True)\n",
    "    \n",
    "    \n",
    "    count__ = 1\n",
    "    for xx in q_:\n",
    "        link_ = 'https:'+ xx.attrs['data-srcset'].split(',')[5][1:].split('.jpg')[0] + '.jpg'\n",
    "        print(link_)\n",
    "        urllib.request.urlretrieve(link_,\"{}/{}_{}.jpg\".format(new_color,new_color_,count__))\n",
    "        im = Image.open(\"{}/{}_{}.jpg\".format(new_color,new_color_,count__)).convert(\"RGB\")\n",
    "        im.save('convert.jpg')\n",
    "        input = Image.open('convert.jpg')\n",
    "        output = remove(input)\n",
    "        os.makedirs('./{}/{}'.format(new_color,\"crop\"), exist_ok=True)\n",
    "        output.save(\"{}/crop/{}_{}_crop.png\".format(new_color,new_color_,count__))\n",
    "        count__ += 1\n",
    "    driver.quit()\n",
    "    print(\"{} / {}\".format(count_,len(urls)))\n",
    "    count_ += 1\n",
    "    \n",
    "     \n"
   ]
  },
  {
   "cell_type": "code",
   "execution_count": null,
   "id": "05be3b25",
   "metadata": {},
   "outputs": [],
   "source": [
    "pip install cv2"
   ]
  },
  {
   "cell_type": "code",
   "execution_count": 2,
   "id": "a570c6e8",
   "metadata": {},
   "outputs": [
    {
     "name": "stdout",
     "output_type": "stream",
     "text": [
      "C:\\Users\\Wook\\Anaconda3\\python.exe\n"
     ]
    }
   ],
   "source": [
    "import sys\n",
    "print(sys.executable)"
   ]
  },
  {
   "cell_type": "code",
   "execution_count": null,
   "id": "4200adcb",
   "metadata": {},
   "outputs": [],
   "source": [
    "where pip\n"
   ]
  },
  {
   "cell_type": "code",
   "execution_count": null,
   "id": "b2b43636",
   "metadata": {},
   "outputs": [],
   "source": []
  }
 ],
 "metadata": {
  "kernelspec": {
   "display_name": "Python 3 (ipykernel)",
   "language": "python",
   "name": "python3"
  },
  "language_info": {
   "codemirror_mode": {
    "name": "ipython",
    "version": 3
   },
   "file_extension": ".py",
   "mimetype": "text/x-python",
   "name": "python",
   "nbconvert_exporter": "python",
   "pygments_lexer": "ipython3",
   "version": "3.9.7"
  }
 },
 "nbformat": 4,
 "nbformat_minor": 5
}
